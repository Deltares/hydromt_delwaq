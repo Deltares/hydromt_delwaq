{
 "cells": [
  {
   "cell_type": "markdown",
   "id": "3f28abc3",
   "metadata": {},
   "source": [
    "## Add (global) emission data"
   ]
  },
  {
   "cell_type": "markdown",
   "id": "a2553c7d",
   "metadata": {},
   "source": [
    "Once you have a **DELWAQ** model, you may want to update your model in order to add new emission data, add sample locations, use different hydrological forcing data, create and run different scenarios etc.\n",
    "\n",
    "With HydroMT, you can easily read your model and update one or several components of your model using the **update** function of the command line interface (CLI). Here are the steps and some examples on how to **update and add global emission data to your model**.\n",
    "\n",
    "All lines in this notebook which starts with ! are executed from the command line. Within the notebook environment the logging messages are shown after completion. You can also copy these lines and paste them in your shell to get more feedback."
   ]
  },
  {
   "cell_type": "markdown",
   "id": "eb86e5ad",
   "metadata": {},
   "source": [
    "### Import packages"
   ]
  },
  {
   "cell_type": "markdown",
   "id": "1fc3b653",
   "metadata": {},
   "source": [
    "In this notebook, we will use some functions of HydroMT to prepare configuration and catalog files and plot the new emission data of the updated model. Here are the libraries to import to realize these steps."
   ]
  },
  {
   "cell_type": "code",
   "execution_count": null,
   "id": "c0c63770",
   "metadata": {},
   "outputs": [],
   "source": [
    "import numpy as np"
   ]
  },
  {
   "cell_type": "code",
   "execution_count": null,
   "id": "adc6795e",
   "metadata": {},
   "outputs": [],
   "source": [
    "# for plotting\n",
    "import matplotlib.pyplot as plt\n",
    "import cartopy.io.img_tiles as cimgt\n",
    "import cartopy.crs as ccrs\n",
    "proj = ccrs.PlateCarree() # plot projection"
   ]
  },
  {
   "cell_type": "code",
   "execution_count": null,
   "id": "97acca06",
   "metadata": {},
   "outputs": [],
   "source": [
    "# import hydromt\n",
    "import hydromt\n",
    "from hydromt_delwaq import DelwaqModel, DemissionModel"
   ]
  },
  {
   "cell_type": "code",
   "execution_count": null,
   "id": "56e2c93f",
   "metadata": {},
   "outputs": [],
   "source": [
    "# setup logging\n",
    "from  hydromt.log import setuplog\n",
    "logger = setuplog(\"update_model_emission\", log_level=10)"
   ]
  },
  {
   "cell_type": "markdown",
   "id": "76b5f9da",
   "metadata": {},
   "source": [
    "### hydroMT CLI update interface"
   ]
  },
  {
   "cell_type": "markdown",
   "id": "2f6921e9",
   "metadata": {},
   "source": [
    "Using the `hydromt update` API, we can update one or several components of an already existing DELWAQ model. Let's get an overview of the available options:"
   ]
  },
  {
   "cell_type": "code",
   "execution_count": null,
   "id": "3def11be",
   "metadata": {},
   "outputs": [],
   "source": [
    "# Print the options available from the update command\n",
    "! hydromt update --help"
   ]
  },
  {
   "cell_type": "markdown",
   "id": "d897fbcc",
   "metadata": {},
   "source": [
    "### Adding global data to the model"
   ]
  },
  {
   "cell_type": "markdown",
   "id": "285bff3c",
   "metadata": {},
   "source": [
    "Using HydroMT, it is quite easy to add additional emission data from already available global data. Here we will see an example where we **add a cattle map (glw_cattle)** from the [GLW 3](https://dataverse.harvard.edu/dataverse/glw_3) data.\n",
    "\n",
    "You can see a list of all readily available data in HydroMT in the [docs](https://deltares.github.io/hydromt/latest/user_guide/data.html#available-global-datasets)."
   ]
  },
  {
   "cell_type": "code",
   "execution_count": null,
   "id": "033f24ab",
   "metadata": {},
   "outputs": [],
   "source": [
    "#Let's see what are the attributes of the glw_cattle data source\n",
    "data_catalog = hydromt.DataCatalog(\"artifact_data\")\n",
    "data_catalog[\"glw_cattle\"]"
   ]
  },
  {
   "cell_type": "markdown",
   "id": "100f6165",
   "metadata": {},
   "source": [
    "Here we can see that our cattle grid is a raster *.tif* file. The important properties for HydroMT are:\n",
    "\n",
    "* **path**: path to where the data is stored.\n",
    "* **data_type**: `HydroMT DataCatalog type` either *RasterDataset* (gridded data), *GeoDataFrame* (vector data) or *GeoDataset* (point timeseries). Our file is a gridded tif file so *RasterDataset*.\n",
    "* **driver**: driver used to open the data. Either *raster* (GDAL compliant raster file), *netcdf* (NetCDF file), *zarr* (zarr file) or *vector* (GDAL compliant vector file). Our file is a tif raster so *raster*.\n",
    "\n",
    "The rest are just additional **meta** information on the data source. You can notice that the **crs** property is not mentionned. This is because this data source has the same crs as the default hydroMT one EPS*4326*."
   ]
  },
  {
   "cell_type": "markdown",
   "id": "cd8635fb",
   "metadata": {},
   "source": [
    "### Preparing the configuration file"
   ]
  },
  {
   "cell_type": "markdown",
   "id": "85bb9ac5",
   "metadata": {},
   "source": [
    "As the **glw_cattle** data is a **raster** data, we will add it to our model using the `[setup_emission_raster]` component of HydroMT Delwaq.\n",
    "\n",
    "Let's prepare a **HydroMT configuration file** with our options for preparing the cattle emission raster. All available options are available in the [docs(setup_emission_raster)](https://deltares.github.io/hydromt_delwaq/latest/generated/hydromt_delwaq.delwaq.DelwaqModel.setup_emission_raster.html)."
   ]
  },
  {
   "cell_type": "code",
   "execution_count": null,
   "id": "b54a4d0e",
   "metadata": {},
   "outputs": [],
   "source": [
    "# Dictionnary with all the components and options we want to update\n",
    "emission_raster_options = {\n",
    "    'setup_emission_raster': {\n",
    "        'emission_fn': 'glw_cattle',\n",
    "        'scale_method': 'average',\n",
    "        'fillna_method': 'zero',\n",
    "        'area_division': True\n",
    "    },\n",
    "}\n",
    "\n",
    "# Save it to a hydroMT ini file\n",
    "fn_yml = \"delwaq_update_emission_cattle.yml\"\n",
    "hydromt.config.configwrite(fn_yml, emission_raster_options)\n",
    "\n",
    "# Open the file and visualize the content\n",
    "with open(fn_yml, 'r') as f:\n",
    "    txt = f.read()\n",
    "print(txt)"
   ]
  },
  {
   "cell_type": "markdown",
   "id": "c0a93eec",
   "metadata": {},
   "source": [
    "Some explanations about the option we chose here:\n",
    "\n",
    "* **emission_fn**: name of the cattle data source in hydroMT Data Catalog.\n",
    "* **scale_method**: method for resampling from the data resolution (10km x 10km for GLW) to the model resolution (5km*5km, same as the wflow_piave model resolution). Available methods are *nearest*, *average*, *mode* (for classification).\n",
    "* **fillna_method**: method to fill NaN values in the data sources either *nearest*, *zero* or *value* to fill with a user defined value.\n",
    "* **area_division**: if needed do the resampling in head/m2 (True) instead of head (False). The GLW cattle grid presents the number of cows per grid cell. To resample to a different grid resolution, we need to resample cow densities instead. After resampling, the cattle grid will be again in cows per model grid cell."
   ]
  },
  {
   "cell_type": "markdown",
   "id": "c4d10864",
   "metadata": {},
   "source": [
    "### Updating the model with the cattle grid"
   ]
  },
  {
   "cell_type": "code",
   "execution_count": null,
   "id": "dd69c94d",
   "metadata": {},
   "outputs": [],
   "source": [
    "# NOTE: copy this line (without !) to your shell for more direct feedback\n",
    "! hydromt update demission EM_piave -o ./EM_piave_extended -i delwaq_update_emission_cattle.yml -d artifact_data --fo -vv"
   ]
  },
  {
   "attachments": {},
   "cell_type": "markdown",
   "id": "90b9ec42",
   "metadata": {},
   "source": [
    "The example above means the following: run **hydromt** with:\n",
    "\n",
    "- `update delwaq`: i.e. update a delwaq model\n",
    "- `EM_piave`: original model folder\n",
    "- `-o ./EM_piave_extended`: output updated model folder\n",
    "- `-i delwaq_update_emission_cattle.yml`: hydroMT configuration file containing the components and options to update\n",
    "- `-d artifact_data`: predefined or local data catalog to use. Here the openly available predefined artifact_data catalog\n",
    "- `-v`: give some extra verbosity (2 * v) to display feedback on screen. Now debug messages are provided."
   ]
  },
  {
   "cell_type": "markdown",
   "id": "c2f94675",
   "metadata": {},
   "source": [
    "### Visualization of the new emission map"
   ]
  },
  {
   "cell_type": "markdown",
   "id": "1fff56c3",
   "metadata": {},
   "source": [
    "We can now plot our newly created cattle grid."
   ]
  },
  {
   "cell_type": "code",
   "execution_count": null,
   "id": "5b2e80a6",
   "metadata": {},
   "outputs": [],
   "source": [
    "# Load the original and updated model with hydromt\n",
    "mod = DemissionModel(root='EM_piave_extended', mode='r')"
   ]
  },
  {
   "cell_type": "code",
   "execution_count": null,
   "id": "4ee2e50b",
   "metadata": {},
   "outputs": [],
   "source": [
    "# Edit the lines below to change the emission map and its colormap\n",
    "emissionmap = 'glw_cattle'\n",
    "colormap = 'Reds'\n",
    "\n",
    "#Load the emission map\n",
    "da = mod.grid[emissionmap].raster.mask_nodata()\n",
    "da.attrs.update(long_name=emissionmap, units='-')\n",
    "\n",
    "#Plot\n",
    "# we assume the model maps are in the geographic CRS EPSG:4326\n",
    "proj = ccrs.PlateCarree()\n",
    "# adjust zoomlevel and figure size to your basis size & aspect\n",
    "zoom_level = 10\n",
    "figsize=(10, 8)\n",
    "\n",
    "# initialize image with geoaxes\n",
    "fig = plt.figure(figsize=figsize)\n",
    "ax = fig.add_subplot(projection=proj)\n",
    "extent = np.array(da.raster.box.buffer(0.02).total_bounds)[[0, 2, 1, 3]]\n",
    "ax.set_extent(extent, crs=proj)\n",
    "\n",
    "# add sat background image\n",
    "ax.add_image(cimgt.QuadtreeTiles(), zoom_level, alpha=0.5)\n",
    "\n",
    "## plot emission map\n",
    "cmap = plt.cm.get_cmap(colormap)\n",
    "kwargs = dict(cmap=cmap)\n",
    "# plot 'normal' elevation\n",
    "da.plot(transform=proj, ax=ax, zorder=1, cbar_kwargs=dict(aspect=30, shrink=.8), **kwargs)\n",
    "\n",
    "ax.xaxis.set_visible(True)\n",
    "ax.yaxis.set_visible(True)\n",
    "ax.set_ylabel(f\"latitude [degree north]\")\n",
    "ax.set_xlabel(f\"longitude [degree east]\")\n",
    "_ = ax.set_title(f\"Delwaq emission map\")"
   ]
  }
 ],
 "metadata": {
  "kernelspec": {
   "display_name": "Python 3 (ipykernel)",
   "language": "python",
   "name": "python3"
  },
  "language_info": {
   "codemirror_mode": {
    "name": "ipython",
    "version": 3
   },
   "file_extension": ".py",
   "mimetype": "text/x-python",
   "name": "python",
   "nbconvert_exporter": "python",
   "pygments_lexer": "ipython3",
   "version": "3.11.6"
  }
 },
 "nbformat": 4,
 "nbformat_minor": 5
}
