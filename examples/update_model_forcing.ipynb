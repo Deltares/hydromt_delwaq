{
 "cells": [
  {
   "cell_type": "markdown",
   "id": "3f28abc3",
   "metadata": {},
   "source": [
    "## Update forcing data"
   ]
  },
  {
   "cell_type": "markdown",
   "id": "a2553c7d",
   "metadata": {},
   "source": [
    "Once you have a **DELWAQ** model, you may want to update your model in order to add new emission data, add sample locations, use different hydrological forcing data, create and run different scenarios etc.\n",
    "\n",
    "With HydroMT, you can easily read your model and update one or several components of your model using the **update** function of the command line interface (CLI). Here are the steps and some examples on how to **update the model forcing**.\n",
    "\n",
    "All lines in this notebook which starts with ! are executed from the command line. Within the notebook environment the logging messages are shown after completion. You can also copy these lines and paste them in your shell to get more feedback."
   ]
  },
  {
   "cell_type": "markdown",
   "id": "e1706b92",
   "metadata": {},
   "source": [
    "<font color=red>*This notebook supposes that you already run the **delwaq build EM** example notebook and that you have a **EM_test_full** D-Emissions model available in the examples folder.*</font>"
   ]
  },
  {
   "cell_type": "markdown",
   "id": "eb86e5ad",
   "metadata": {},
   "source": [
    "### Import packages"
   ]
  },
  {
   "cell_type": "markdown",
   "id": "6451cc67",
   "metadata": {},
   "source": [
    "In this notebook, we will use some functions of HydroMT to visualize available data. Here are the libaries to import."
   ]
  },
  {
   "cell_type": "code",
   "execution_count": null,
   "id": "e9515676",
   "metadata": {},
   "outputs": [],
   "source": [
    "import xarray as xr"
   ]
  },
  {
   "cell_type": "code",
   "execution_count": null,
   "id": "56e2c93f",
   "metadata": {},
   "outputs": [],
   "source": [
    "# setup logging\n",
    "from  hydromt.log import setuplog\n",
    "logger = setuplog(\"update_model_forcing\", log_level=10)"
   ]
  },
  {
   "cell_type": "markdown",
   "id": "f76f95d7",
   "metadata": {},
   "source": [
    "### Hydrological forcing data from Wflow"
   ]
  },
  {
   "cell_type": "markdown",
   "id": "ed09706d",
   "metadata": {},
   "source": [
    "D-Emissions or D-Water Quality models can use meteo/hydrological input data from [Wflow](https://deltares.github.io/Wflow.jl/stable/). The steps to get these data available for your model are:\n",
    "\n",
    "* List the required meteo/hydro fluxes in the [Wflow TOML configuration file](https://deltares.github.io/Wflow.jl/stable/structure/#Config-and-TOML) in order to save them.\n",
    "* Run the Wflow model.\n",
    "* Add the outputs of the Wflow model as a new data source for HydroMT.\n",
    "* Run HydroMT (specifically the [setup_hydrology_forcing component](https://deltares.github.io/hydromt_delwaq/latest/generated/hydromt_delwaq.delwaq.DelwaqModel.setup_hydrology_forcing.html)) to convert the wflow output to DELWAQ dynamic input.\n",
    "\n",
    "More information on the meteo/hydrological forcing link between Wflow and DELWAQ is available in [docs (Wflow_outputs)](https://deltares.github.io/hydromt_delwaq/latest/advanced/coupling_wflow.html#hydrological-forcing-from-wflow)."
   ]
  },
  {
   "cell_type": "markdown",
   "id": "299d163a",
   "metadata": {},
   "source": [
    "#### Selection of the Wfow outputs"
   ]
  },
  {
   "cell_type": "markdown",
   "id": "0cd004a3",
   "metadata": {},
   "source": [
    "For our D-Emissions model, we will use hydrological data from the **wflow_piave** hydrologic model. For a D-Emissions model, the required meteo/hydrological inputs are:\n",
    "\n",
    "* **precipitation**\n",
    "* the amount of the precipitation that **infiltrates into the soil** from unpaved areas\n",
    "* the amount of the precipitation that goes directly to **surface runoff from paved areas**\n",
    "* the amount of the precipitation that goes directly to **surface runoff from unpaved areas**\n",
    "* **exfiltration** from the saturated and unsaturated store of the soil\n",
    "* volumetric water content of the soil pores in the root zone ie **root zone soil moisture**\n",
    "\n",
    "If you wish to include transport to the river (overland flow and soil) in D-Emission, then also:\n",
    "\n",
    "* **overland flow**\n",
    "* **subsurface flow**\n",
    "\n",
    "In order to get these data from Wflow, you need to save these fluxes after the model run. These output fluxes are specified in the [Wflow TOML configuration file](https://deltares.github.io/Wflow.jl/stable/structure/#Config-and-TOML)."
   ]
  },
  {
   "cell_type": "markdown",
   "id": "b6405b49",
   "metadata": {},
   "source": [
    "To set these options, you can either edit the TOML file manually or use HydroMT to help you do the trick using the `hydromt update` CLI API!\n",
    "\n",
    "Here is the HydroMT **configuration file** needed to update the **Wflow** model (note in that file both fluxes for demission and for delwaq models are listed):"
   ]
  },
  {
   "cell_type": "code",
   "execution_count": null,
   "id": "2ca519ce",
   "metadata": {},
   "outputs": [],
   "source": [
    "fn_yml = 'wflow_update.yml'\n",
    "with open(fn_yml, 'r') as f:\n",
    "    txt = f.read()\n",
    "print(txt)"
   ]
  },
  {
   "cell_type": "markdown",
   "id": "16a4608d",
   "metadata": {},
   "source": [
    "And the `hydromt update` CLI to use:"
   ]
  },
  {
   "cell_type": "code",
   "execution_count": null,
   "id": "b4454255",
   "metadata": {},
   "outputs": [],
   "source": [
    "! hydromt update wflow wflow_piave -i wflow_update.yml --fo -vvv"
   ]
  },
  {
   "cell_type": "markdown",
   "id": "c9f5815b",
   "metadata": {},
   "source": [
    "The example above means the following: run **hydromt** with:\n",
    "\n",
    "- `update wflow`: i.e. update a wflow model\n",
    "- `wflow_piave_subbasin`: model folder to update\n",
    "- `-i wflow_update_forcing.yml`: setup configuration file containing the components to update and their different options\n",
    "- `--fo`: allow to overwrite an existing model.\n",
    "- `-v`: give some extra verbosity (2 * v) to display feedback on screen. Now debug messages are provided."
   ]
  },
  {
   "cell_type": "markdown",
   "id": "23d170b8",
   "metadata": {},
   "source": [
    "The next step would then be to run the wflow_piave model using our updated TOML configuration file."
   ]
  },
  {
   "cell_type": "markdown",
   "id": "f93fe239",
   "metadata": {},
   "source": [
    "#### Available hydrological data from Wflow"
   ]
  },
  {
   "cell_type": "markdown",
   "id": "ba5fce4d",
   "metadata": {},
   "source": [
    "For our D-Emissions model, we will use hydrological data from the **wflow_piave** hydrologic model.\n",
    "\n",
    "The  model was already run beforehand and the **wflow_piave outputs** are stored in the *wflow_piave/run_default/output.nc* in NetCDF format. Let's have a look at the model outputs and see what data is available and for which periods.\n",
    "\n",
    "Note: You can also inspect the file using [Panoply](https://www.giss.nasa.gov/tools/panoply/) or QGIS."
   ]
  },
  {
   "cell_type": "code",
   "execution_count": null,
   "id": "2ee8879c",
   "metadata": {},
   "outputs": [],
   "source": [
    "# Open the file\n",
    "wflow_output_fn = 'wflow_piave/run_default/output.nc'\n",
    "outputs = xr.open_dataset(wflow_output_fn, chunks={\"time\": 10})\n",
    "#Print available variables and start and end time\n",
    "print(f\"Available outputs from wflow: {outputs.data_vars}\")\n",
    "times = outputs.time.values\n",
    "print(f\"Outputs available from {times[0]} to {times[-1]}\")"
   ]
  },
  {
   "cell_type": "markdown",
   "id": "5912692a",
   "metadata": {},
   "source": [
    "We recognize from above all the variables and names we set previously in the **wflow_update.yml** file. All the required variables are present and available for 9 days in February 2010."
   ]
  },
  {
   "cell_type": "markdown",
   "id": "15e68907",
   "metadata": {},
   "source": [
    "#### Registering the wflow outputs as a HydroMT data source"
   ]
  },
  {
   "cell_type": "markdown",
   "id": "1d6f4a4e",
   "metadata": {},
   "source": [
    "As we are using hydrological forcing from a user defined run of the wflow model, the wflow output format and attributes can be different depending on the user settings. **Wflow outputs are then considered as local or user data source** and therefore need to be added to the HydroMT list of data sources using a **local yaml library file**.\n",
    "\n",
    "Below you can see the **local_sources.yml** file corresponding to our wflow outputs:"
   ]
  },
  {
   "cell_type": "code",
   "execution_count": null,
   "id": "7a6a2d98",
   "metadata": {},
   "outputs": [],
   "source": [
    "fn_yml = 'local_sources.yml'\n",
    "with open(fn_yml, 'r') as f:\n",
    "    txt = f.read()\n",
    "print(txt)"
   ]
  },
  {
   "cell_type": "markdown",
   "id": "1e4ff678",
   "metadata": {},
   "source": [
    "Here are some explanations about the file. You can have a look at the [HydroMT yaml data libary documentation](https://deltares.github.io/hydromt/latest/user_guide/data.html) for more information.\n",
    "\n",
    "The first thing to define in the yaml library is the **name of the data source** you want to add in HydroMT. For example, here we use the name **wflow_output_em** for the EM variables definition and **wflow_output_wq** for the WQ variables. This name is important and is used in the HydroMT config .yml file to tell HydroMT which data source you wish to use. Once the name of the data source is set, the data attributes are listed:\n",
    "\n",
    "* **path**: path to where the data is stored.\n",
    "* **crs**: coordinate system of the data.\n",
    "* **data_type**: `HydroMT DataCatalog type` either *RasterDataset* (gridded data), *GeoDataFrame* (vector data), *DataFrame* (tables), *Dataset* (non-geospatial N-dim data) or *GeoDataset* (point timeseries).\n",
    "* **driver**: driver used to open the data. For example *raster* (GDAL compliant raster file), *netcdf* (NetCDF file), *zarr* (zarr file) or *vector* (GDAL compliant vector file). See the hydromt docs for all options.\n",
    "* **driver_kwargs**: optional arguments to read the data. Depends on the driver.\n",
    "* **meta**: optional additional information on the data.\n",
    "* **rename**: list used to rename the variables inside of the data to HydroMT compliant names. The format is “name_in_dataset: name_in_HydroMT”. Note that the names present in the NetCDF file are the ones set up in the wflow TOML file. The list of standard HydroMT names for demission forcing variables are: time, precip, infilt, runPav, runUnp, exfilt*, q_ss and q_land.\n",
    "* **attrs unit**: unit attribute of the variables in the data. Used by Delwaq only in order to convert from mm to m3/s and from m to m3 (requires complex unit conversion than just a multiplication or addition with a constant value)."
   ]
  },
  {
   "cell_type": "markdown",
   "id": "d897fbcc",
   "metadata": {},
   "source": [
    "### Model setup configuration"
   ]
  },
  {
   "cell_type": "markdown",
   "id": "285bff3c",
   "metadata": {},
   "source": [
    "As with building, you can prepare a HydroMT **configuration file** that includes every components and settings that you want to run during your update.\n",
    "\n",
    "The configuratio file (yml) contains the model setup configuration and determines which components are updated and in which sequence and sets optional arguments for each component. This configuration is passed to hydromt using `-i <path_to_configuration_file>`.\n",
    "\n",
    "Each header as shown between `[...]` (e.g. `[setup_hydrology_forcing]`) corresponds with a model component which are explained in the [docs(model_components)](https://deltares.github.io/hydromt_wflow/latest/user_guide/wflow/components.html).\n",
    "\n",
    "Let's open the example configuration file **delwaq_update_EM_forcing.yml** from the model repository [examples folder] and have a look at the settings."
   ]
  },
  {
   "cell_type": "code",
   "execution_count": null,
   "id": "033f24ab",
   "metadata": {},
   "outputs": [],
   "source": [
    "fn_ini = 'delwaq_update_EM_forcing.yml'\n",
    "with open(fn_ini, 'r') as f:\n",
    "    txt = f.read()\n",
    "print(txt)"
   ]
  },
  {
   "cell_type": "markdown",
   "id": "100f6165",
   "metadata": {},
   "source": [
    "Here we can see that we will run **setup_hydrology_forcing** component to prepare daily hydrological forcing for 8 days in February 2010 using our **wflow_output**.\n",
    "\n",
    "Note that the **add_volume_offset** function is set to *True*. This is because Delwaq needs water volumes at the beginning of the timestep. In some models, like wflow, volumes are written at the end of the timestep and therefore an offset of one timestep needs to be added for consistency.\n",
    "\n",
    "You can find more information on the different components and their options in the [docs (model_components)](https://deltares.github.io/hydromt_delwaq/latest/user_guide/components.html).\n"
   ]
  },
  {
   "cell_type": "markdown",
   "id": "d3a9c2d7",
   "metadata": {},
   "source": [
    "### HydroMT CLI update interface"
   ]
  },
  {
   "cell_type": "markdown",
   "id": "84c580a3",
   "metadata": {},
   "source": [
    "Using the `hydromt update` API, we can update one or several components of an already existing Delwaq model. Let's get an overview of the available options:"
   ]
  },
  {
   "cell_type": "code",
   "execution_count": null,
   "id": "f9253e01",
   "metadata": {},
   "outputs": [],
   "source": [
    "# Print the options available from the update command\n",
    "! hydromt update --help"
   ]
  },
  {
   "cell_type": "markdown",
   "id": "ee4d250d",
   "metadata": {},
   "source": [
    "### Update demission forcing layers"
   ]
  },
  {
   "cell_type": "code",
   "execution_count": null,
   "id": "dd69c94d",
   "metadata": {},
   "outputs": [],
   "source": [
    "# NOTE: copy this line (without !) to your shell for more direct feedback\n",
    "! hydromt update demission ./EM_test_full -i delwaq_update_EM_forcing.yml -d local_sources.yml --fo -vv"
   ]
  },
  {
   "cell_type": "markdown",
   "id": "90b9ec42",
   "metadata": {},
   "source": [
    "The example above means the following: run **hydromt** with:\n",
    "\n",
    "- `update demission`: i.e. update a delwaq model\n",
    "- `./EM_test_full`: model folder\n",
    "- `-i delwaq_update_EM_forcing.yml`: setup configuration file containing the components to update and their different options\n",
    "- `-d local_sources.yml`: local data library, here containing the hydrological outputs from wflow.\n",
    "- `--fo`: allow to update and overwrite an existing model.\n",
    "- `-v`: give some extra verbosity (2 * v) to display feedback on screen. Now debug messages are provided."
   ]
  },
  {
   "cell_type": "markdown",
   "id": "c2f94675",
   "metadata": {},
   "source": [
    "### Visualization of the outputs"
   ]
  },
  {
   "cell_type": "markdown",
   "id": "1fff56c3",
   "metadata": {},
   "source": [
    "From the information above, you can see that the different forcing variables where updated. If you have a look at the output files, you can see that the hydrological data were added to the dynamicdata folder but also several information were added in the config folder."
   ]
  },
  {
   "cell_type": "code",
   "execution_count": null,
   "id": "0a5216ab",
   "metadata": {},
   "outputs": [],
   "source": [
    "import os\n",
    "root = 'EM_test_full'\n",
    "for path, _, files in os.walk(root):\n",
    "    print(path)\n",
    "    for name in files:\n",
    "        if name.endswith('.xml'):\n",
    "            continue\n",
    "        print(f' - {name}')"
   ]
  },
  {
   "cell_type": "markdown",
   "id": "fb93d9bb",
   "metadata": {},
   "source": [
    "You can have a look at some of these files:"
   ]
  },
  {
   "cell_type": "code",
   "execution_count": null,
   "id": "18094bf3",
   "metadata": {},
   "outputs": [],
   "source": [
    "import os\n",
    "model_path = './EM_test_full'\n",
    "fn_config = 'config/B1_timestamp.inc'\n",
    "with open(os.path.join(model_path,fn_config), 'r') as f:\n",
    "    txt = f.read()\n",
    "print(txt)"
   ]
  },
  {
   "cell_type": "markdown",
   "id": "4db04a1a",
   "metadata": {},
   "source": [
    "For the hydrological data directly, the main files are:\n",
    "\n",
    "* dynamicdata/hydrology.bin (Binary data)\n",
    "* config/B7_hydrology.inc (Headers for the variables inside of hydrology.bin)\n",
    "\n",
    "You can also see that a NetCDF file was created: **B3_waqgeom.nc**. This file can be used to produce NetCDF outputs directly when running D-Emissions or D-Water Quality but also to visualize the model in Delft-FEWS."
   ]
  },
  {
   "cell_type": "code",
   "execution_count": null,
   "id": "f38c01d9",
   "metadata": {},
   "outputs": [],
   "source": [
    "import os\n",
    "model_path = './EM_test_full'\n",
    "fn_config = 'config/B7_hydrology.inc'\n",
    "with open(os.path.join(model_path,fn_config), 'r') as f:\n",
    "    txt = f.read()\n",
    "print(txt)"
   ]
  }
 ],
 "metadata": {
  "kernelspec": {
   "display_name": "Python 3",
   "language": "python",
   "name": "python3"
  },
  "language_info": {
   "codemirror_mode": {
    "name": "ipython",
    "version": 3
   },
   "file_extension": ".py",
   "mimetype": "text/x-python",
   "name": "python",
   "nbconvert_exporter": "python",
   "pygments_lexer": "ipython3",
   "version": "3.11.0"
  }
 },
 "nbformat": 4,
 "nbformat_minor": 5
}
