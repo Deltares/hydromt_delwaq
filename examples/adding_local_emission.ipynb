{
 "cells": [
  {
   "cell_type": "markdown",
   "id": "3f28abc3",
   "metadata": {},
   "source": [
    "## Add (local) emission data"
   ]
  },
  {
   "cell_type": "markdown",
   "id": "a2553c7d",
   "metadata": {},
   "source": [
    "Once you have a **DELWAQ** model, you may want to update your model in order to add new emission data, add sample locations, use different hydrological forcing data, create and run different scenarios etc.\n",
    "\n",
    "With HydroMT, you can easily read your model and update one or several components of your model using the **update** function of the command line interface (CLI). Here are the steps and some examples on how to **update and add local emission data to your model**.\n",
    "\n",
    "All lines in this notebook which starts with ! are executed from the command line. Within the notebook environment the logging messages are shown after completion. You can also copy these lines and paste them in your shell to get more feedback."
   ]
  },
  {
   "cell_type": "markdown",
   "id": "eb86e5ad",
   "metadata": {},
   "source": [
    "### Import packages"
   ]
  },
  {
   "cell_type": "markdown",
   "id": "1fc3b653",
   "metadata": {},
   "source": [
    "In this notebook, we will use some functions of HydroMT to prepare configuration and catalog files and plot the new emission data of the updated model. Here are the libraries to import to realize these steps."
   ]
  },
  {
   "cell_type": "code",
   "execution_count": null,
   "id": "c0c63770",
   "metadata": {},
   "outputs": [],
   "source": [
    "import numpy as np\n",
    "import geopandas as gpd"
   ]
  },
  {
   "cell_type": "code",
   "execution_count": null,
   "id": "adc6795e",
   "metadata": {},
   "outputs": [],
   "source": [
    "# for plotting\n",
    "import matplotlib.pyplot as plt\n",
    "import cartopy.io.img_tiles as cimgt\n",
    "import cartopy.crs as ccrs\n",
    "proj = ccrs.PlateCarree() # plot projection"
   ]
  },
  {
   "cell_type": "code",
   "execution_count": null,
   "id": "97acca06",
   "metadata": {},
   "outputs": [],
   "source": [
    "# import hydromt\n",
    "import hydromt\n",
    "from hydromt_delwaq import DelwaqModel, DemissionModel"
   ]
  },
  {
   "cell_type": "code",
   "execution_count": null,
   "id": "56e2c93f",
   "metadata": {},
   "outputs": [],
   "source": [
    "# setup logging\n",
    "from  hydromt.log import setuplog\n",
    "logger = setuplog(\"update_model_emission_local\", log_level=10)"
   ]
  },
  {
   "cell_type": "markdown",
   "id": "76b5f9da",
   "metadata": {},
   "source": [
    "### HydroMT CLI update interface"
   ]
  },
  {
   "cell_type": "markdown",
   "id": "2f6921e9",
   "metadata": {},
   "source": [
    "Using the `HydroMT update` API, we can update one or several components of an already existing DELWAQ model. Let's get an overview of the available options:"
   ]
  },
  {
   "cell_type": "code",
   "execution_count": null,
   "id": "3def11be",
   "metadata": {},
   "outputs": [],
   "source": [
    "# Print the options available from the update command\n",
    "! hydromt update --help"
   ]
  },
  {
   "cell_type": "markdown",
   "id": "d897fbcc",
   "metadata": {},
   "source": [
    "### Adding local data to the model"
   ]
  },
  {
   "cell_type": "markdown",
   "id": "285bff3c",
   "metadata": {},
   "source": [
    "Using HydroMT, it is rather easy to add additional emission data using local data. Here we will see an example where we **add a emission factor map** from a local (dummy!) source stored in *examples_data/emission_factor.gpkg*.\n",
    "\n",
    "Compared to global data, that can be added directly to a delwaq model, we first need to **add our local data the the HydroMT Data Catalog** using a local yaml data library. The full steps and infomation to add data the HydroMT data library is available in the [docs](https://deltares.github.io/hydromt/latest/user_guide/data.html).\n",
    "\n",
    "Here we will see the steps for our (dummy) emission factor source. And first see what the data looks like (you can also download and open it in QGIS instead of loading it with python)."
   ]
  },
  {
   "cell_type": "code",
   "execution_count": null,
   "id": "033f24ab",
   "metadata": {},
   "outputs": [],
   "source": [
    "#Let's read and quickly plot the data\n",
    "emission_data = 'examples_data/emission_factor.gpkg'\n",
    "#Open with geopandas and plot\n",
    "gdf = gpd.read_file(emission_data)\n",
    "#Content\n",
    "print(\"Content of the local emission_factor.gpkg file: \")\n",
    "gdf"
   ]
  },
  {
   "cell_type": "code",
   "execution_count": null,
   "id": "5cf20ac2",
   "metadata": {},
   "outputs": [],
   "source": [
    "#coordinate system\n",
    "print(f\"Coordinate system of the data: {gdf.crs}\")\n",
    "#Quick plot\n",
    "gdf.plot()"
   ]
  },
  {
   "cell_type": "markdown",
   "id": "51fc4774",
   "metadata": {},
   "source": [
    "We can see that our data is a **vector file** with some European countries in EPSG **4326**, and that it contains our emission factors in the **EF** column. We now have enough information to add it to the HydroMT data sources by preparing a **local_emission_sources.yml**."
   ]
  },
  {
   "cell_type": "code",
   "execution_count": null,
   "id": "7125f768",
   "metadata": {},
   "outputs": [],
   "source": [
    "# Dictionary with all the required information on our emission_factor.gpkg file\n",
    "data_dict = {\n",
    "    'EF_local': {                      # user defined internal name of the local data source\n",
    "        'path': 'examples_data/emission_factor.gpkg', # path to the local data\n",
    "        'data_type': 'GeoDataFrame',   # hydroMT DataCatalog type 'GeoDataFrame' for vector file\n",
    "        'driver': 'vector',            # driver to read the file 'vector' for vector file\n",
    "        'crs': 4326,                   # optional here but mentioned as en example\n",
    "        'rename': {\n",
    "            'NAME': 'COUNTRY',         # dummy here but can be used to rename some of the data columns \n",
    "        },\n",
    "        'unit_mult': {\n",
    "            'EF': 1.0,                 # dummy here (EF*1.0) but can be used to convert units (should be kg/d/EV)\n",
    "        },\n",
    "        'unit_add':{\n",
    "            'EF': 0.0,                 # dummy here (EF+0.0) but can be used to convert units (should be kg/d/EV)\n",
    "        },\n",
    "        'meta': {                      # additional information on the file (license, download link, DOI, author...)\n",
    "            'category': 'socio econpmic',\n",
    "            'source_url': 'https://github.com/Deltares/hydromt_delwaq/tree/main/examples/examples_data/emission_factor.gpkg',\n",
    "            'notes': 'Dummy emission factor data',\n",
    "        },\n",
    "    },\n",
    "}\n",
    "\n",
    "# Convert the dict to hydroMT yaml library format and save the file\n",
    "fn_yml = 'local_emission_sources.yml'\n",
    "data_catalog = hydromt.DataCatalog(logger=logger)\n",
    "data_catalog.from_dict(data_dict)\n",
    "data_catalog.to_yml(fn_yml)\n",
    "\n",
    "#Read the saved yml\n",
    "with open(fn_yml, 'r') as f:\n",
    "    txt = f.read()\n",
    "print(txt)"
   ]
  },
  {
   "cell_type": "markdown",
   "id": "100f6165",
   "metadata": {},
   "source": [
    "Our local data is now ready to be processed by HydroMT !"
   ]
  },
  {
   "cell_type": "markdown",
   "id": "cd8635fb",
   "metadata": {},
   "source": [
    "### Preparing the configuration file"
   ]
  },
  {
   "cell_type": "markdown",
   "id": "85bb9ac5",
   "metadata": {},
   "source": [
    "As our new **EF_local** data is a **vector** data, we will add it to our model using the `[setup_emission_vector]` component of HydroMT Delwaq.\n",
    "\n",
    "Let's prepare a **HydroMT configuration file** with our options for preparing the EF_local grid. All available options are available in the [docs(setup_emission_vector)](https://deltares.github.io/hydromt_delwaq/latest/generated/hydromt_delwaq.delwaq.DelwaqModel.setup_emission_vector.html)."
   ]
  },
  {
   "cell_type": "code",
   "execution_count": null,
   "id": "b54a4d0e",
   "metadata": {},
   "outputs": [],
   "source": [
    "# Dictionnary with all the components and options we want to update\n",
    "emission_vector_options = {\n",
    "    'setup_emission_vector': {\n",
    "        'emission_fn': 'EF_local',\n",
    "        'col2raster': 'EF',\n",
    "        'rasterize_method': 'value',\n",
    "    },\n",
    "}\n",
    "\n",
    "# Save it to a hydroMT ini file\n",
    "fn_ini = \"delwaq_update_emission_local.yml\"\n",
    "hydromt.config.configwrite(fn_ini, emission_vector_options)\n",
    "\n",
    "# Open the file and visualize the content\n",
    "with open(fn_ini, 'r') as f:\n",
    "    txt = f.read()\n",
    "print(txt)"
   ]
  },
  {
   "cell_type": "markdown",
   "id": "c0a93eec",
   "metadata": {},
   "source": [
    "Some explanations about the option we chose here:\n",
    "\n",
    "* **emission_fn**: name of the emission factor data source in HydroMT Data Catalog. The one we choose when creating the *local_emission_sources.yml*.\n",
    "* **col2raster**: name of the column in the vector file that contains the emission factors values to rasterize to the model grid.\n",
    "* **rasterize_method**: method to rasterize the vector either *value* to rasterize the values in the 'col2raster' column, or *fraction* to rasterize the fraction of the model grid cell that is covered by the vector shapes (eg fraction of agricultural areas)."
   ]
  },
  {
   "cell_type": "markdown",
   "id": "c4d10864",
   "metadata": {},
   "source": [
    "### Updating the model with the local data"
   ]
  },
  {
   "cell_type": "code",
   "execution_count": null,
   "id": "dd69c94d",
   "metadata": {},
   "outputs": [],
   "source": [
    "# NOTE: copy this line (without !) to your shell for more direct feedback\n",
    "! hydromt update demission EM_piave -o ./EM_piave_extended_local -i delwaq_update_emission_local.yml -d local_emission_sources.yml -vv"
   ]
  },
  {
   "attachments": {},
   "cell_type": "markdown",
   "id": "90b9ec42",
   "metadata": {},
   "source": [
    "The example above means the following: run **hydromt** with:\n",
    "\n",
    "- `update demission`: i.e. update a demission model\n",
    "- `EM_piave`: original model folder\n",
    "- `-o ./EM_piave_extended_local`: output updated model folder\n",
    "- `-i delwaq_update_emission_local.yml`: hydroMT configuration file containing the components and options to update\n",
    "- `-d local_emission_sources.yml`: hydroMT local data library file containing local data sources and their attributes.\n",
    "- `-v`: give some extra verbosity (2 * v) to display feedback on screen. Now debug messages are provided."
   ]
  },
  {
   "cell_type": "markdown",
   "id": "c2f94675",
   "metadata": {},
   "source": [
    "### Visualization of the new emission map"
   ]
  },
  {
   "cell_type": "markdown",
   "id": "1fff56c3",
   "metadata": {},
   "source": [
    "We can now plot our newly created emission factor map."
   ]
  },
  {
   "cell_type": "code",
   "execution_count": null,
   "id": "5b2e80a6",
   "metadata": {},
   "outputs": [],
   "source": [
    "# Load the original and updated model with hydromt\n",
    "mod = DemissionModel(root='EM_piave_extended_local', mode='r')"
   ]
  },
  {
   "cell_type": "code",
   "execution_count": null,
   "id": "4ee2e50b",
   "metadata": {},
   "outputs": [],
   "source": [
    "# Edit the lines below to change the emission map and its colormap\n",
    "emissionmap = 'EF_local'\n",
    "colormap = 'Reds'\n",
    "\n",
    "#Load the emission map\n",
    "da = mod.grid[emissionmap].raster.mask_nodata()\n",
    "da.attrs.update(long_name=emissionmap, units='-')\n",
    "\n",
    "#Plot\n",
    "# we assume the model maps are in the geographic CRS EPSG:4326\n",
    "proj = ccrs.PlateCarree()\n",
    "# adjust zoomlevel and figure size to your basis size & aspect\n",
    "zoom_level = 10\n",
    "figsize=(10, 8)\n",
    "\n",
    "# initialize image with geoaxes\n",
    "fig = plt.figure(figsize=figsize)\n",
    "ax = fig.add_subplot(projection=proj)\n",
    "extent = np.array(da.raster.box.buffer(0.02).total_bounds)[[0, 2, 1, 3]]\n",
    "ax.set_extent(extent, crs=proj)\n",
    "\n",
    "# add sat background image\n",
    "ax.add_image(cimgt.QuadtreeTiles(), zoom_level, alpha=0.5)\n",
    "\n",
    "# add the country shape\n",
    "country_shape = 'examples_data/emission_factor.gpkg'\n",
    "#Open with geopandas and plot\n",
    "gdf = gpd.read_file(country_shape)\n",
    "gdf.boundary.plot(transform=proj, ax=ax, label=\"Country\")\n",
    "\n",
    "## plot emission map\n",
    "cmap = plt.cm.get_cmap(colormap)\n",
    "kwargs = dict(cmap=cmap)\n",
    "# plot 'normal' elevation\n",
    "da.plot(transform=proj, ax=ax, zorder=1, cbar_kwargs=dict(aspect=30, shrink=.8), **kwargs)\n",
    "\n",
    "ax.xaxis.set_visible(True)\n",
    "ax.yaxis.set_visible(True)\n",
    "ax.set_ylabel(f\"latitude [degree north]\")\n",
    "ax.set_xlabel(f\"longitude [degree east]\")\n",
    "_ = ax.set_title(f\"Delwaq emission map\")\n",
    "legend = ax.legend(\n",
    "    handles=[*ax.get_legend_handles_labels()[0]],\n",
    "    title=\"Legend\",\n",
    "    loc='lower right',\n",
    "    frameon=True,\n",
    "    framealpha=0.7,\n",
    "    edgecolor='k',\n",
    "    facecolor='white'\n",
    ")"
   ]
  },
  {
   "cell_type": "markdown",
   "id": "693460ea",
   "metadata": {},
   "source": [
    "Our Delwaq model is completely located in Italy so our **EF_local** map here only has the same value for every grid cell.\n",
    "\n",
    "If you are using Binder, feel free to edit this notebook to try out with your own local data (you need to first upload your data in Binder using the upload button).\n",
    "\n",
    "Note that you can also download the models you created in Binder by first zipping them using the lines below and downloading the zipped model."
   ]
  },
  {
   "cell_type": "code",
   "execution_count": null,
   "id": "1bd57b9e",
   "metadata": {},
   "outputs": [],
   "source": [
    "# Lines to zip a model folder\n",
    "model_folder = 'EM_piave_extended_local'\n",
    "\n",
    "#Zipping\n",
    "import shutil\n",
    "shutil.make_archive(model_folder, 'zip', model_folder)"
   ]
  }
 ],
 "metadata": {
  "kernelspec": {
   "display_name": "Python 3 (ipykernel)",
   "language": "python",
   "name": "python3"
  },
  "language_info": {
   "codemirror_mode": {
    "name": "ipython",
    "version": 3
   },
   "file_extension": ".py",
   "mimetype": "text/x-python",
   "name": "python",
   "nbconvert_exporter": "python",
   "pygments_lexer": "ipython3",
   "version": "3.11.6"
  }
 },
 "nbformat": 4,
 "nbformat_minor": 5
}
