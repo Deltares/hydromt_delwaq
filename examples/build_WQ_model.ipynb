{
 "cells": [
  {
   "cell_type": "markdown",
   "id": "9a73590b",
   "metadata": {},
   "source": [
    "## Build a water quality model"
   ]
  },
  {
   "cell_type": "markdown",
   "id": "ee510c6e",
   "metadata": {},
   "source": [
    "This notebook demonstrates how to prepare **DELWAQ D-Water Quality** model from scratch using the command line interace (CLI)."
   ]
  },
  {
   "cell_type": "markdown",
   "id": "6b96aa15",
   "metadata": {},
   "source": [
    "All lines in this notebook which start with `!` are executed from the command line. Within the notebook environment the logging messages are shown after completion. You can also copy these lines and paste these in your shell to get more direct feedback."
   ]
  },
  {
   "cell_type": "markdown",
   "id": "451c8168",
   "metadata": {},
   "source": [
    "### hydroMT CLI build interface"
   ]
  },
  {
   "cell_type": "markdown",
   "id": "2c70853e",
   "metadata": {},
   "source": [
    "In hydroMT, you can interact with **DELWAQ models** either to be used by **D-Emissions (EM)** or **D-Water Quality (WQ)**.\n",
    "\n",
    "Lets first check if the delwaq model is recognized by hydromt"
   ]
  },
  {
   "cell_type": "code",
   "execution_count": null,
   "id": "40470302",
   "metadata": {},
   "outputs": [],
   "source": [
    "# this should return \"delwaq, wflow, wflow_sediment\"\n",
    "!hydromt --models"
   ]
  },
  {
   "cell_type": "markdown",
   "id": "7d9b5a20",
   "metadata": {},
   "source": [
    "Using the **hydromt build** API we can setup a complete model from scratch. Let's get an overview of all the available options:"
   ]
  },
  {
   "cell_type": "code",
   "execution_count": null,
   "id": "1d39e4a1",
   "metadata": {},
   "outputs": [],
   "source": [
    "!hydromt build --help"
   ]
  },
  {
   "cell_type": "markdown",
   "id": "f286fccb",
   "metadata": {},
   "source": [
    "### Setup delwaq EM model base layers "
   ]
  },
  {
   "cell_type": "markdown",
   "id": "2581d83b",
   "metadata": {},
   "source": [
    "DELWAQ models are quite specific in the sense that they are usually added on top of an already existing hydrologic / hydraulic or hydrodynamic model.\n",
    "In hydroMT, for now, DELWAQ models (EM for D-Emissions and WQ for D-Water Quality) can only be built on top of [Wflow](https://deltares.github.io/Wflow.jl/stable/) hydrologic models. You can find more information on this coupling in [docs(coupling_wflow)](https://deltares.github.io/hydromt_delwaq/latest/advanced/coupling_wflow.html).\n",
    "\n",
    "Here is how you can build a DELWAQ model:"
   ]
  },
  {
   "cell_type": "code",
   "execution_count": null,
   "id": "closed-excerpt",
   "metadata": {},
   "outputs": [],
   "source": [
    "# NOTE: copy this line (without !) to your shell for more direct feedback\n",
    "!hydromt build delwaq \"./WQ_test_base\" -r \"{'wflow': 'wflow_piave'}\" --opt global.mtype=WQ -vvv"
   ]
  },
  {
   "attachments": {},
   "cell_type": "markdown",
   "id": "cb9d0032",
   "metadata": {},
   "source": [
    "The example above means the following: run **hydromt build** with:\n",
    "\n",
    "* `delwaq` : i.e. build a delwaq model\n",
    "* `./WQ_test_base` : output model folder\n",
    "* `-r or --region \"{'wflow': 'wflow_piave'}\"` : derive the model from the existing wflow model located in wflow_piave folder. All *REGION* options are described in the [docs](https://deltares.github.io/hydromt/latest/user_guide/cli.html#region-options). For delwaq, the only possible options is from an existing wflow model.\n",
    "* `-opt global.mtype=WQ` : specifies which type of delwaq model to build. Here **WQ** for D-Water Quality.\n",
    "* `-vv` : give some extra verbosity (2 * v) to display feedback on screen. Now debug messages are provided.\n",
    "\n",
    "NOTE: As we did not specify a model configuration, only the base maps (grid, segment IDs) have been setup using default parameters. To build a complete model we need the use a configuraton ini-file."
   ]
  },
  {
   "cell_type": "markdown",
   "id": "ebd31242",
   "metadata": {},
   "source": [
    "### Model setup configuration"
   ]
  },
  {
   "cell_type": "markdown",
   "id": "fb8282c9",
   "metadata": {},
   "source": [
    "The ini-file contains the model setup configuration and determines which components are build and in which order and optionally sets non-default arguments for each component. This configuration is passed to hydromt using `-i <path_to_ini_file>`. We have prepared several example ini-files which are available in the model repository [examples folder](https://github.com/Deltares/hydromt_delwaq/tree/main/examples) and from the [docs(build_configuration)](https://deltares.github.io/hydromt_delwaq/latest/user_guide/build_configuration.html). \n",
    "\n",
    "Each header as shown between `[...]` (e.g. `[setup_basemaps]`) corresponds to a model component. All model components are explained in the [docs(model_components)](https://deltares.github.io/hydromt_delwaq/latest/user_guide/components.html). "
   ]
  },
  {
   "cell_type": "markdown",
   "id": "cc3fd44d",
   "metadata": {},
   "source": [
    "**Almost each DELWAQ model is unique** depending on which substances and sources are included but also what kind of emission data is available. For these reasons, there is no default build ini file for a delwaq model and still some manual steps required to build and run a D-Water Quality model with hydroMT. You can learn more about these steps in the [docs(hydromt_D-Water Quality)](https://deltares.github.io/hydromt_delwaq/latest/advanced/generic_delwaq.html#water-quality-modelling-with-d-water-quality).\n",
    "\n",
    "We will load an example delwaq build WQ ini file for inspection:"
   ]
  },
  {
   "cell_type": "code",
   "execution_count": null,
   "id": "e88d4aed",
   "metadata": {},
   "outputs": [],
   "source": [
    "fn_ini = 'delwaq_build_WQ.ini'\n",
    "with open(fn_ini, 'r') as f:\n",
    "    txt = f.read()\n",
    "print(txt)"
   ]
  },
  {
   "cell_type": "markdown",
   "id": "7a20489c",
   "metadata": {},
   "source": [
    "Some explanations for the sections in the ini file above:\n",
    "\n",
    "* **global**: options true for every model components of delwaq. This is where you can specify if you want to build an **EM** or **WQ** model using the *mtype* option. You can also add local data libaries in *data_libs* instead f in the command line.\n",
    "* **setup_basemaps**: prepares the first delwaq model layers (grid, segment ID) and for WQ also the pointer.\n",
    "* **setup_monitoring**: prepares monitoring points using the gauges locations of the wflow model and the monitoring areas by compartments (surface waters only here)\n",
    "* **setup_hydrology_forcing**: prepares hydrological data from wflow outputs. Information on the *wflow_output* source is available in the *local_sources.yml*.\n",
    "\n",
    "For more information on all the options used (resampling method, NaN values handling...), please check the [docs(model_components)](https://deltares.github.io/hydromt_delwaq/latest/user_guide/components.html)"
   ]
  },
  {
   "cell_type": "markdown",
   "id": "7584dcae",
   "metadata": {},
   "source": [
    "### Data for model setup"
   ]
  },
  {
   "cell_type": "markdown",
   "id": "dad35651",
   "metadata": {},
   "source": [
    "The `<...>_fn` arguments correspond to a data source from the `DataCatalog` which is based on a yml-file with references to the data paths/urls and how the data should be read. This file can be provided to hydromt using `-d <path_to_yml_file>`. \n",
    "\n",
    "By default some example data for the Piave basin will be downloaded to `~/.hydromt_data/` which is also used for this example. An overview of the available example data is provided [here](https://deltares.github.io/hydromt/latest/user_guide/data.html#available-global-datasets)\n",
    "This example data is a based on the data which are available from the Deltares p-drive. \n",
    "If you have acces to this drive, a pre-configured catalog file can be loaded using the `--dd` flag. \n",
    "\n",
    "More background how to write a data catalog yml file can be found in the [hydromt core docs](https://deltares.github.io/hydromt/latest/user_guide/data.html) "
   ]
  },
  {
   "cell_type": "markdown",
   "id": "12860ed2",
   "metadata": {},
   "source": [
    "### Setup complete delwaq WQ model "
   ]
  },
  {
   "cell_type": "code",
   "execution_count": null,
   "id": "hundred-trailer",
   "metadata": {
    "scrolled": true
   },
   "outputs": [],
   "source": [
    "# NOTE: copy this line (without !) to your shell for more direct feedback\n",
    "!hydromt build delwaq \"./WQ_test_full\" -r \"{'wflow': 'wflow_piave'}\" -i delwaq_build_WQ.ini -d artifact_data -vv"
   ]
  },
  {
   "cell_type": "markdown",
   "id": "b31e92d2",
   "metadata": {},
   "source": [
    "With this example we build a complete delwaq WQ model including hydrological data. Compared to the previous **hydromt build** we have added:\n",
    "* `-i delwaq_build_WQ.ini` : setup configuration file including all components to build and their arguments\n",
    "\n",
    "Note that the `--opt global.mtype=WQ` is not present anymore, as this option is directly set in the delwaq_build_WQ.ini file."
   ]
  },
  {
   "cell_type": "markdown",
   "id": "2eed76e4",
   "metadata": {},
   "source": [
    "Next we check which files and folders have been created:\n",
    "\n",
    "* **config**: basic configuration setups for the Delwaq input file .inp. Names of the ASCII files start with the corresponding block in the .inp file.\n",
    "* **dynamicdata**: Delwaq time-dependant data (hydrological fluxes) in binary format.\n",
    "* **fews**: additional files for connection with Delft-FEWS (not implemented yet)\n",
    "* **hydromodel**: data extracted to connect the hydrological model (wflow) and Delwaq (tif format). These files are not mandatory for Delwaq but produced extra from HydroMT.\n",
    "* **staticdata**: static (spatial but non time-dependant) data for Delwaq (typically emission data) in binary format. A copy of the data in NetCDF format is also available for easier visualization.\n",
    "* **staticgeoms**: related geometry files (geojson format). These files are not mandatory for Delwaq but produced extra from HydroMT."
   ]
  },
  {
   "cell_type": "code",
   "execution_count": null,
   "id": "wireless-style",
   "metadata": {},
   "outputs": [],
   "source": [
    "import os\n",
    "root = 'WQ_test_full'\n",
    "for path, _, files in os.walk(root):\n",
    "    print(path)\n",
    "    for name in files:\n",
    "        if name.endswith('.xml'):\n",
    "            continue\n",
    "        print(f' - {name}')"
   ]
  },
  {
   "cell_type": "markdown",
   "id": "e637af06",
   "metadata": {},
   "source": [
    "You can see that we didn't create any emission data here. In some cases, you may require some additional GIS data in order to run a WQ model, for example, when you do not need to run the D-Emissions model beforehand, but include point sources that emit pollutants into the surface water directly. When this is the case, you can still use the various [setup_emission_*] components of hydroMT_delwaq."
   ]
  },
  {
   "cell_type": "markdown",
   "id": "adef7fa1",
   "metadata": {},
   "source": [
    "### Visualize and/or inspect model schematization"
   ]
  },
  {
   "cell_type": "markdown",
   "id": "20ce9df3",
   "metadata": {},
   "source": [
    "* The **delwaq plot** example notebook contains scripts to visualize your model (staticdata, dynamicdata, hydromodel and staticgeoms)."
   ]
  },
  {
   "cell_type": "markdown",
   "id": "852a532e",
   "metadata": {},
   "source": [
    "In the meantime, feel free to have a look at some configuration files that were prepared by HydroMT. You can change the file name from the example code below."
   ]
  },
  {
   "cell_type": "code",
   "execution_count": null,
   "id": "85841edd",
   "metadata": {},
   "outputs": [],
   "source": [
    "import os\n",
    "model_path = './WQ_test_full'\n",
    "fn_config = 'config/B3_nrofseg.inc'\n",
    "with open(os.path.join(model_path,fn_config), 'r') as f:\n",
    "    txt = f.read()\n",
    "print(txt)"
   ]
  },
  {
   "cell_type": "markdown",
   "id": "71219f0b",
   "metadata": {},
   "source": [
    "In the config folder, you can also see two pointer files:\n",
    "\n",
    "* B4_pointer.poi (Binary version)\n",
    "* B4_pointer.inc (ASCII version)\n",
    "\n",
    "You can also see that a NetCDF file was created: **B3_waqgeom.nc**. This file can be used to produce NetCDF outputs directly when running D-Emissions or D-Water Quality but also to visualize the model in FEWS."
   ]
  }
 ],
 "metadata": {
  "kernelspec": {
   "display_name": "Python 3",
   "language": "python",
   "name": "python3"
  },
  "language_info": {
   "codemirror_mode": {
    "name": "ipython",
    "version": 3
   },
   "file_extension": ".py",
   "mimetype": "text/x-python",
   "name": "python",
   "nbconvert_exporter": "python",
   "pygments_lexer": "ipython3",
   "version": "3.9.2"
  }
 },
 "nbformat": 4,
 "nbformat_minor": 5
}
