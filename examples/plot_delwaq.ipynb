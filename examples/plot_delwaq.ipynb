{
 "cells": [
  {
   "cell_type": "markdown",
   "metadata": {},
   "source": [
    "## Plot DELWAQ data"
   ]
  },
  {
   "cell_type": "markdown",
   "metadata": {},
   "source": [
    "**HydroMT** provides a simple interface to model schematization from which we can make beautiful plots:\n",
    "\n",
    "- Raster layers are saved to the model `grid` attribute as a  `xarray.Dataset`\n",
    "- Vector layers are saved to the model `geoms` attribute as a `geopandas.GeoDataFrame`. Note that in case of DELWAQ these are not used by the model engine, but only for analysis and visualization purposes.\n",
    "- Extracts from the linked hydrologic/hydraulic/hydrodynamic model are saved to the model `hydromaps` attribute as `xarray.Dataset`. In the case of DELWAQ they are not used by the engine but can be useful for post-processing.\n",
    "\n",
    "We use the [cartopy](https://scitools.org.uk/cartopy/docs/latest/) package to plot maps. This packages provides a simple interface to plot geographic data and add background satellite imagery."
   ]
  },
  {
   "cell_type": "markdown",
   "metadata": {},
   "source": [
    "### Load dependencies"
   ]
  },
  {
   "cell_type": "code",
   "execution_count": null,
   "metadata": {},
   "outputs": [],
   "source": [
    "import numpy as np\n",
    "import matplotlib.pyplot as plt\n",
    "\n",
    "from hydromt_delwaq import DelwaqModel, DemissionModel"
   ]
  },
  {
   "cell_type": "markdown",
   "metadata": {},
   "source": [
    "### Read the model"
   ]
  },
  {
   "cell_type": "code",
   "execution_count": null,
   "metadata": {},
   "outputs": [],
   "source": [
    "root = 'EM_piave' \n",
    "mod = DemissionModel(root, mode='r')\n",
    "# Or for a DelwaqModel:\n",
    "# mod = DelwaqModel('WQ_piave', mode='r')"
   ]
  },
  {
   "cell_type": "markdown",
   "metadata": {},
   "source": [
    "### Plot model schematization base maps"
   ]
  },
  {
   "cell_type": "markdown",
   "metadata": {},
   "source": [
    "Here we plot the model basemaps (Segment ID map with basins, monitoring points and areas geometries). "
   ]
  },
  {
   "cell_type": "code",
   "execution_count": null,
   "metadata": {},
   "outputs": [],
   "source": [
    "# plot maps dependencies\n",
    "import matplotlib.patches as mpatches\n",
    "import cartopy.crs as ccrs\n",
    "import cartopy.io.img_tiles as cimgt"
   ]
  },
  {
   "cell_type": "code",
   "execution_count": null,
   "metadata": {},
   "outputs": [],
   "source": [
    "# read and mask the model elevation\n",
    "da = mod.hydromaps['ptid'].raster.mask_nodata()\n",
    "da.attrs.update(long_name='segment ID', units='-')\n",
    "# read/derive model basin boundary\n",
    "gdf_bas = mod.basins"
   ]
  },
  {
   "cell_type": "code",
   "execution_count": null,
   "metadata": {},
   "outputs": [],
   "source": [
    "# we assume the model maps are in the geographic CRS EPSG:4326\n",
    "proj = ccrs.PlateCarree()\n",
    "# adjust zoomlevel and figure size to your basis size & aspect\n",
    "zoom_level = 10\n",
    "figsize=(8, 6)\n",
    "shaded= False # shaded elevation (looks nicer with more pixels (e.g.: larger basins))!\n",
    "\n",
    "\n",
    "# initialize image with geoaxes\n",
    "fig = plt.figure(figsize=figsize)\n",
    "ax = fig.add_subplot(projection=proj)\n",
    "extent = np.array(da.raster.box.buffer(0.02).total_bounds)[[0, 2, 1, 3]]\n",
    "ax.set_extent(extent, crs=proj)\n",
    "\n",
    "# add sat background image\n",
    "ax.add_image(cimgt.QuadtreeTiles(), zoom_level, alpha=0.5)\n",
    "\n",
    "## plot ptid\n",
    "cmap = plt.cm.get_cmap('Oranges')\n",
    "kwargs = dict(cmap=cmap)\n",
    "# plot 'normal' elevation\n",
    "da.plot(transform=proj, ax=ax, zorder=1, cbar_kwargs=dict(aspect=30, shrink=.8), **kwargs)\n",
    "                \n",
    "# plot the basin boundary\n",
    "gdf_bas.boundary.plot(ax=ax, color='k', linewidth=0.3)\n",
    "# plot various vector layers if present\n",
    "if 'monpoints' in mod.geoms:\n",
    "    mod.geoms['monpoints'].plot(ax=ax, marker='d', markersize=25, facecolor='k', zorder=5, label='monitoring points')\n",
    "patches = [] # manual patches for legend, see https://github.com/geopandas/geopandas/issues/660\n",
    "if 'monareas' in mod.geoms:\n",
    "    kwargs = dict(facecolor='None', edgecolor='grey', label='monitoring areas')\n",
    "    mod.geoms['monareas'].plot(ax=ax, zorder=4, **kwargs)\n",
    "    patches.append(mpatches.Patch(**kwargs))\n",
    "    \n",
    "ax.xaxis.set_visible(True)\n",
    "ax.yaxis.set_visible(True)\n",
    "ax.set_ylabel(f\"latitude [degree north]\")\n",
    "ax.set_xlabel(f\"longitude [degree east]\")\n",
    "_ = ax.set_title(f\"Delwaq base map\")\n",
    "legend = ax.legend(\n",
    "    handles=[*ax.get_legend_handles_labels()[0], *patches],\n",
    "    title=\"Legend\",\n",
    "    loc='lower right',\n",
    "    frameon=True,\n",
    "    framealpha=0.7,\n",
    "    edgecolor='k',\n",
    "    facecolor='white'\n",
    ")\n",
    "\n",
    "# save figure\n",
    "# NOTE create figs folder in model root if it does not exist\n",
    "# fn_out = join(mod.root, \"figs\", \"basemap.png\")\n",
    "# plt.savefig(fn_out, dpi=225, bbox_inches=\"tight\")"
   ]
  },
  {
   "cell_type": "markdown",
   "metadata": {},
   "source": [
    "### Plot model emission maps"
   ]
  },
  {
   "cell_type": "markdown",
   "metadata": {},
   "source": [
    "Here we plot the model grid (emission grids)."
   ]
  },
  {
   "cell_type": "code",
   "execution_count": null,
   "metadata": {},
   "outputs": [],
   "source": [
    "#List of available emission data in the model\n",
    "print(f\"Available static data: {list(mod.grid.keys())}\")"
   ]
  },
  {
   "cell_type": "markdown",
   "metadata": {},
   "source": [
    "Use the code below to plot the different available emission data. You can also change the colors by using available colormaps from [matplotlib](https://matplotlib.org/stable/tutorials/colors/colormaps.html)."
   ]
  },
  {
   "cell_type": "code",
   "execution_count": null,
   "metadata": {},
   "outputs": [],
   "source": [
    "# Edit the lines below to change the emission map and its colormap\n",
    "emissionmap = 'ghs_pop_2015'\n",
    "colormap = 'Reds'\n",
    "\n",
    "#Load the emission map\n",
    "da = mod.grid[emissionmap].raster.mask_nodata()\n",
    "da.attrs.update(long_name=emissionmap, units='-')\n",
    "\n",
    "#Plot\n",
    "# we assume the model maps are in the geographic CRS EPSG:4326\n",
    "proj = ccrs.PlateCarree()\n",
    "# adjust zoomlevel and figure size to your basis size & aspect\n",
    "zoom_level = 10\n",
    "figsize=(10, 8)\n",
    "\n",
    "# initialize image with geoaxes\n",
    "fig = plt.figure(figsize=figsize)\n",
    "ax = fig.add_subplot(projection=proj)\n",
    "extent = np.array(da.raster.box.buffer(0.02).total_bounds)[[0, 2, 1, 3]]\n",
    "ax.set_extent(extent, crs=proj)\n",
    "\n",
    "# add sat background image\n",
    "ax.add_image(cimgt.QuadtreeTiles(), zoom_level, alpha=0.5)\n",
    "\n",
    "## plot emission map\n",
    "cmap = plt.cm.get_cmap(colormap)\n",
    "kwargs = dict(cmap=cmap)\n",
    "# plot 'normal' elevation\n",
    "da.plot(transform=proj, ax=ax, zorder=1, cbar_kwargs=dict(aspect=30, shrink=.8), **kwargs)\n",
    "\n",
    "ax.xaxis.set_visible(True)\n",
    "ax.yaxis.set_visible(True)\n",
    "ax.set_ylabel(f\"latitude [degree north]\")\n",
    "ax.set_xlabel(f\"longitude [degree east]\")\n",
    "_ = ax.set_title(f\"Delwaq emission map\")"
   ]
  }
 ],
 "metadata": {
  "kernelspec": {
   "display_name": "Python 3 (ipykernel)",
   "language": "python",
   "name": "python3"
  },
  "language_info": {
   "codemirror_mode": {
    "name": "ipython",
    "version": 3
   },
   "file_extension": ".py",
   "mimetype": "text/x-python",
   "name": "python",
   "nbconvert_exporter": "python",
   "pygments_lexer": "ipython3",
   "version": "3.11.6"
  }
 },
 "nbformat": 4,
 "nbformat_minor": 4
}
