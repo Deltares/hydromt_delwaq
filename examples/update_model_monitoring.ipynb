{
 "cells": [
  {
   "cell_type": "markdown",
   "id": "3f28abc3",
   "metadata": {},
   "source": [
    "## Update monitoring locations"
   ]
  },
  {
   "cell_type": "markdown",
   "id": "a2553c7d",
   "metadata": {},
   "source": [
    "Once you have a **DELWAQ** model, you may want to update your model in order to add new emission data, add sample locations, use different hydrological forcing data, create and run different scenarios etc.\n",
    "\n",
    "With HydroMT, you can easily read your model and update one or several components of your model using the **update** function of the command line interface (CLI). Here are the steps and some examples on how to **update monitoring points and areas to your model**.\n",
    "\n",
    "All lines in this notebook which starts with ! are executed from the command line. Within the notebook environment the logging messages are shown after completion. You can also copy these lines and paste them in your shell to get more feedback."
   ]
  },
  {
   "cell_type": "markdown",
   "id": "eb86e5ad",
   "metadata": {},
   "source": [
    "### Import packages"
   ]
  },
  {
   "cell_type": "markdown",
   "id": "1fc3b653",
   "metadata": {},
   "source": [
    "In this notebook, we will use some functions of HydroMT to plot the new monitoring points of the updated model. Here are the libraries to import to realize these steps."
   ]
  },
  {
   "cell_type": "code",
   "execution_count": null,
   "id": "c0c63770",
   "metadata": {},
   "outputs": [],
   "source": [
    "import numpy as np"
   ]
  },
  {
   "cell_type": "code",
   "execution_count": null,
   "id": "adc6795e",
   "metadata": {},
   "outputs": [],
   "source": [
    "# for plotting\n",
    "import matplotlib.pyplot as plt\n",
    "import cartopy.io.img_tiles as cimgt\n",
    "import cartopy.crs as ccrs\n",
    "proj = ccrs.PlateCarree() # plot projection"
   ]
  },
  {
   "cell_type": "code",
   "execution_count": null,
   "id": "97acca06",
   "metadata": {},
   "outputs": [],
   "source": [
    "# import hydromt\n",
    "import hydromt\n",
    "from hydromt_delwaq import DelwaqModel"
   ]
  },
  {
   "cell_type": "code",
   "execution_count": null,
   "id": "56e2c93f",
   "metadata": {},
   "outputs": [],
   "source": [
    "# setup logging\n",
    "from  hydromt.log import setuplog\n",
    "logger = setuplog(\"update_model_monitoring\", log_level=10)"
   ]
  },
  {
   "cell_type": "markdown",
   "id": "d897fbcc",
   "metadata": {},
   "source": [
    "### Locations of the monitoring points"
   ]
  },
  {
   "cell_type": "markdown",
   "id": "285bff3c",
   "metadata": {},
   "source": [
    "Adding monitoring points to your **DELWAQ** model can be quite useful. It allows you to directly extract model outputs at specific locations. For example for model validation, calibration, you can then directly compare model results to available observations.\n",
    "\n",
    "In our previous notebook, we built a DELWAQ model in which the locations of the Wflow basin outlets area added (from the *staticgeoms/gauges.geojson*). If you have other observation data available, you can easily add them to your model using hydroMT. One way to do it is to prepare a csv table containing the ID, latitude and longitude of the available stations. An example **examples_data/test_monpoints.csv** has been prepared. Let's have a look at it. "
   ]
  },
  {
   "cell_type": "code",
   "execution_count": null,
   "id": "033f24ab",
   "metadata": {},
   "outputs": [],
   "source": [
    "fn_station = 'examples_data/test_monpoints.csv'\n",
    "with open(fn_station, 'r', encoding='utf8') as f:\n",
    "    txt = f.read()\n",
    "print(txt)"
   ]
  },
  {
   "cell_type": "markdown",
   "id": "100f6165",
   "metadata": {},
   "source": [
    "Here we can see that we have defined three stations with an ID and the longitude (x) and latitude (y) coordinates, in the same EPSG system as our model (EPSG 4326). We can now add them to our model."
   ]
  },
  {
   "cell_type": "markdown",
   "id": "d3a9c2d7",
   "metadata": {},
   "source": [
    "### hydroMT CLI update interface"
   ]
  },
  {
   "cell_type": "markdown",
   "id": "b91994bc",
   "metadata": {},
   "source": [
    "Using the `hydroMT update` API, we can update one or several components of an already existing DELWAQ model. Let's get an overview of the available options:"
   ]
  },
  {
   "cell_type": "code",
   "execution_count": null,
   "id": "f9253e01",
   "metadata": {},
   "outputs": [],
   "source": [
    "# Print the options available from the update command\n",
    "! hydromt update --help"
   ]
  },
  {
   "cell_type": "markdown",
   "id": "b3296eea",
   "metadata": {},
   "source": [
    "### Update Delwaq monitoring points"
   ]
  },
  {
   "cell_type": "markdown",
   "id": "8350f428",
   "metadata": {},
   "source": [
    "Let's prepare a **HydroMT configuration file** with new our options for monitoring points and areas. All available options are available in the [docs(setup_monitoring)](https://deltares.github.io/hydromt_delwaq/latest/generated/hydromt_delwaq.delwaq.DelwaqModel.setup_monitoring.html)."
   ]
  },
  {
   "cell_type": "code",
   "execution_count": null,
   "id": "0307a6e8",
   "metadata": {},
   "outputs": [],
   "source": [
    "# Dictionnary with all the components and options we want to update\n",
    "monitoring_options = {\n",
    "    'global' : {'mtype': 'WQ'},\n",
    "    'setup_monitoring': {\n",
    "        'mon_points': 'examples_data/test_monpoints.csv',\n",
    "        'mon_areas': 'compartment',\n",
    "    },\n",
    "}\n",
    "\n",
    "# Save it to a hydroMT ini file\n",
    "fn_ini = \"delwaq_update_monitoring.ini\"\n",
    "hydromt.config.configwrite(fn_ini, monitoring_options)\n",
    "\n",
    "# Open the file and visualize the content\n",
    "with open(fn_ini, 'r') as f:\n",
    "    txt = f.read()\n",
    "print(txt)"
   ]
  },
  {
   "cell_type": "code",
   "execution_count": null,
   "id": "dd69c94d",
   "metadata": {},
   "outputs": [],
   "source": [
    "# NOTE: copy this line (without !) to your shell for more direct feedback\n",
    "! hydromt update delwaq WQ_piave -o ./WQ_piave_monitoring -i delwaq_update_monitoring.ini -vv"
   ]
  },
  {
   "cell_type": "markdown",
   "id": "90b9ec42",
   "metadata": {},
   "source": [
    "The example above means the following: run **hydromt** with:\n",
    "\n",
    "- `update delwaq`: i.e. update a delwaq model\n",
    "- `WQ_piave`: original model folder\n",
    "- `-o ./WQ_piave_monitoring`: output updated model folder\n",
    "- `-i delwaq_update_monitoring.ini`: hydroMT configuration file containing the components and options to update\n",
    "- `-v`: give some extra verbosity (2 * v) to display feedback on screen. Now debug messages are provided."
   ]
  },
  {
   "cell_type": "markdown",
   "id": "c2f94675",
   "metadata": {},
   "source": [
    "### Visualization of the monitoring points"
   ]
  },
  {
   "cell_type": "markdown",
   "id": "1fff56c3",
   "metadata": {},
   "source": [
    "We can now plot our newly created monitoring points."
   ]
  },
  {
   "cell_type": "code",
   "execution_count": null,
   "id": "5b2e80a6",
   "metadata": {},
   "outputs": [],
   "source": [
    "# Load the original and updated model with hydromt\n",
    "mod0 = DelwaqModel(root='WQ_piave', mode='r')\n",
    "mod1 = DelwaqModel(root='WQ_piave_monitoring', mode='r')"
   ]
  },
  {
   "cell_type": "code",
   "execution_count": null,
   "id": "8a0c1fdf",
   "metadata": {},
   "outputs": [],
   "source": [
    "# read/derive model basin boundary\n",
    "gdf_bas = mod0.basins"
   ]
  },
  {
   "cell_type": "code",
   "execution_count": null,
   "id": "4ee2e50b",
   "metadata": {},
   "outputs": [],
   "source": [
    "# Plot\n",
    "plt.style.use('seaborn-whitegrid') # set nice style\n",
    "# we assume the model maps are in the geographic CRS EPSG:4326\n",
    "proj = ccrs.PlateCarree()\n",
    "# adjust zoomlevel and figure size to your basis size & aspect\n",
    "zoom_level = 10\n",
    "figsize=(10, 8)\n",
    "\n",
    "# initialize image with geoaxes\n",
    "fig = plt.figure(figsize=figsize)\n",
    "ax = fig.add_subplot(projection=proj)\n",
    "extent = np.array(mod0.grid.raster.box.buffer(0.02).total_bounds)[[0, 2, 1, 3]]\n",
    "ax.set_extent(extent, crs=proj)\n",
    "\n",
    "# add sat background image\n",
    "ax.add_image(cimgt.QuadtreeTiles(), zoom_level, alpha=0.5)\n",
    "\n",
    "# plot streamorder as background\n",
    "da = mod0.grid['streamorder'].raster.mask_nodata()\n",
    "da.attrs.update(long_name='streamorder', units='-')\n",
    "## plot streamorder map\n",
    "cmap = plt.cm.get_cmap('Blues')\n",
    "kwargs = dict(cmap=cmap)\n",
    "da.plot(transform=proj, ax=ax, zorder=1, cbar_kwargs=dict(aspect=30, shrink=.8), **kwargs)\n",
    "\n",
    "# plot the basin boundary\n",
    "gdf_bas.boundary.plot(ax=ax, color='k', linewidth=0.3)\n",
    "\n",
    "if 'monpoints' in mod0.geoms:\n",
    "    mod0.geoms['monpoints'].plot(ax=ax, marker='o', markersize=50, facecolor='red', edgecolor='k', zorder=5, label='Basin outlet')\n",
    "if 'monpoints' in mod1.geoms:\n",
    "    mod1.geoms['monpoints'].plot(ax=ax, marker='o', markersize=50, facecolor='yellow', edgecolor='k', zorder=5, label='Updated points')\n",
    "\n",
    "ax.xaxis.set_visible(True)\n",
    "ax.yaxis.set_visible(True)\n",
    "ax.set_ylabel(f\"latitude [degree north]\")\n",
    "ax.set_xlabel(f\"longitude [degree east]\")\n",
    "_ = ax.set_title(f\"Delwaq monitoring points\")\n",
    "legend = ax.legend(\n",
    "    handles=[*ax.get_legend_handles_labels()[0]],\n",
    "    title=\"Legend\",\n",
    "    loc='lower right',\n",
    "    frameon=True,\n",
    "    framealpha=0.7,\n",
    "    edgecolor='k',\n",
    "    facecolor='white'\n",
    ")"
   ]
  }
 ],
 "metadata": {
  "kernelspec": {
   "display_name": "Python 3 (ipykernel)",
   "language": "python",
   "name": "python3"
  },
  "language_info": {
   "codemirror_mode": {
    "name": "ipython",
    "version": 3
   },
   "file_extension": ".py",
   "mimetype": "text/x-python",
   "name": "python",
   "nbconvert_exporter": "python",
   "pygments_lexer": "ipython3",
   "version": "3.11.6"
  }
 },
 "nbformat": 4,
 "nbformat_minor": 5
}
