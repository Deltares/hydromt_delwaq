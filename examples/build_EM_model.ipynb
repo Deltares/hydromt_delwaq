{
 "cells": [
  {
   "cell_type": "markdown",
   "id": "9a73590b",
   "metadata": {},
   "source": [
    "## Build an emission model"
   ]
  },
  {
   "cell_type": "markdown",
   "id": "ee510c6e",
   "metadata": {},
   "source": [
    "This notebook demonstrates how to prepare **DELWAQ D-Emissions** model from scratch using the command line interace (CLI)."
   ]
  },
  {
   "cell_type": "markdown",
   "id": "6b96aa15",
   "metadata": {},
   "source": [
    "All lines in this notebook which start with `!` are executed from the command line. Within the notebook environment the logging messages are shown after completion. You can also copy these lines and paste these in your shell to get more direct feedback."
   ]
  },
  {
   "cell_type": "markdown",
   "id": "451c8168",
   "metadata": {},
   "source": [
    "### HydroMT CLI build interface"
   ]
  },
  {
   "cell_type": "markdown",
   "id": "2c70853e",
   "metadata": {},
   "source": [
    "In HydroMT, you can interact with **DELWAQ** models either to be used by **D-Emissions (demission)** or **D-Water Quality (delwaq)**.\n",
    "\n",
    "Lets first check if the delwaq and demission models are recognized by hydromt"
   ]
  },
  {
   "cell_type": "code",
   "execution_count": null,
   "id": "40470302",
   "metadata": {},
   "outputs": [],
   "source": [
    "# this should return \"delwaq, demission, wflow, wflow_sediment\"\n",
    "!hydromt --models"
   ]
  },
  {
   "cell_type": "markdown",
   "id": "7d9b5a20",
   "metadata": {},
   "source": [
    "Using the **hydromt build** API we can setup a complete model from scratch. Let's get an overview of all the available options:"
   ]
  },
  {
   "cell_type": "code",
   "execution_count": null,
   "id": "1d39e4a1",
   "metadata": {},
   "outputs": [],
   "source": [
    "!hydromt build --help"
   ]
  },
  {
   "cell_type": "markdown",
   "id": "f286fccb",
   "metadata": {},
   "source": [
    "### Setup demission model base layers "
   ]
  },
  {
   "cell_type": "markdown",
   "id": "23ffcc07",
   "metadata": {},
   "source": [
    "DELWAQ models are quite specific in the sense that they are usually added on top of an already existing hydrologic / hydraulic or hydrodynamic model.\n",
    "In HydroMT, for now, DELWAQ models (demission for D-Emissions and delwaq for D-Water Quality) can only be built on top of [Wflow](https://deltares.github.io/Wflow.jl/stable/) hydrologic models. You can find more information on this coupling in [docs(coupling_wflow)](https://deltares.github.io/hydromt_delwaq/latest/advanced/coupling_wflow.html).\n",
    "\n",
    "Here is how you can build a D-Emissions model:"
   ]
  },
  {
   "cell_type": "code",
   "execution_count": null,
   "id": "closed-excerpt",
   "metadata": {},
   "outputs": [],
   "source": [
    "# NOTE: copy this line (without !) to your shell for more direct feedback\n",
    "!hydromt build demission \"./EM_test_base\" -r \"{'wflow': 'wflow_piave'}\" --fo -vvv"
   ]
  },
  {
   "attachments": {},
   "cell_type": "markdown",
   "id": "cb9d0032",
   "metadata": {},
   "source": [
    "The example above means the following: run **hydromt build** with:\n",
    "\n",
    "* `demission` : i.e. build a demission model\n",
    "* `./EM_test_base` : output model folder\n",
    "* `-r or --region \"{'wflow': 'wflow_piave'}\"` : derive the model from the existing wflow model located in wflow_piave folder. All *REGION* options are described in the [docs](https://deltares.github.io/hydromt/latest/user_guide/cli.html#region-options). For DELWAQ, the only possible options is from an existing wflow model.\n",
    "* `-vv` : give some extra verbosity (2 * v) to display feedback on screen. Now debug messages are provided.\n",
    "\n",
    "NOTE: As we did not specify a model configuration, only the base maps (grid, segment IDs) have been setup using default parameters. To build a complete model we need the use a configuration file (yml)."
   ]
  },
  {
   "cell_type": "markdown",
   "id": "ebd31242",
   "metadata": {},
   "source": [
    "### Model setup configuration"
   ]
  },
  {
   "cell_type": "markdown",
   "id": "fb8282c9",
   "metadata": {},
   "source": [
    "The configuration file (yml) contains the model setup configuration and determines which components are build and in which order and optionally sets non-default arguments for each component. This configuration is passed to hydromt using `-i <path_to_configuration_file>`. We have prepared several example files which are available in the model repository [examples folder](https://github.com/Deltares/hydromt_delwaq/tree/main/examples) and from the [docs(build_configuration)](https://deltares.github.io/hydromt_delwaq/latest/user_guide/build_configuration.html). \n",
    "\n",
    "Each header as shown between `[...]` (e.g. `[setup_basemaps]`) corresponds to a model component. All model components are explained in the [docs(model_components)](https://deltares.github.io/hydromt_delwaq/latest/user_guide/components.html). "
   ]
  },
  {
   "cell_type": "markdown",
   "id": "cc3fd44d",
   "metadata": {},
   "source": [
    "**Almost each DELWAQ model is unique** depending on which substances and sources are included but also what kind of emission data is available. For these reasons, there is no default build configuration file for a demission/delwaq model and still some manual steps are required to build and run a D-Emissions model with HydroMT. You can learn more about these steps in the [docs(hydromt_D-Emissions)](https://deltares.github.io/hydromt_delwaq/latest/advanced/generic_delwaq.html#emissions-modelling-with-d-emission).\n",
    "\n",
    "We will load an example demission build configuration file for inspection:"
   ]
  },
  {
   "cell_type": "code",
   "execution_count": null,
   "id": "e88d4aed",
   "metadata": {},
   "outputs": [],
   "source": [
    "fn_ini = 'delwaq_build_EM.yml'\n",
    "with open(fn_ini, 'r') as f:\n",
    "    txt = f.read()\n",
    "print(txt)"
   ]
  },
  {
   "cell_type": "markdown",
   "id": "e587d6b0",
   "metadata": {},
   "source": [
    "Some explanations for the sections the ini file above:\n",
    "\n",
    "* **setup_basemaps**: prepares the first delwaq model layers (grid, segment ID) and for EM also the geometry.\n",
    "* **setup_monitoring**: prepares no monitoring points and monitoring areas by compartments (emissions only here).\n",
    "* **setup_hydrology_forcing**: prepares hydrological data from wflow outputs. Here we skip this step by putting *hydro_forcing_fn=None*.\n",
    "* **setup_emission_raster**: prepares emissions grid from a raster file. You can repeat this section several times for several rasters. Here we will prepare population data from the global *ghs_pop_2015* dataset.\n",
    "* **setup_emission_vector**: prepares emissions grid from a vector file. You can repeat this section several times for several rasters. Here we will prepare GDP data from the global *gdp_world* data.\n",
    "\n",
    "For more information on all the options used (resampling method, NaN values handling...), please check the [docs(model_components)](https://deltares.github.io/hydromt_delwaq/latest/user_guide/components.html)"
   ]
  },
  {
   "cell_type": "markdown",
   "id": "7584dcae",
   "metadata": {},
   "source": [
    "### Data for model setup"
   ]
  },
  {
   "cell_type": "markdown",
   "id": "dad35651",
   "metadata": {},
   "source": [
    "The `<...>_fn` arguments correspond to a data source from the `DataCatalog` which is based on a yml-file with references to the data paths/urls and how the data should be read. This file can be provided to hydromt using `-d <path_to_yml_file>`. \n",
    "\n",
    "By default some example data for the Piave basin will be downloaded to `~/.hydromt_data/` which is also used for this example. An overview of the available example data is provided [here](https://deltares.github.io/hydromt/latest/user_guide/data.html#available-global-datasets)\n",
    "This example data is a based on the data which are available from the Deltares p-drive. \n",
    "If you have acces to this drive, a pre-configured catalog file can be loaded using `-d deltares_data`. \n",
    "\n",
    "More background how to write a data catalog yml file can be found in the [hydromt core docs](https://deltares.github.io/hydromt/latest/user_guide/data.html) "
   ]
  },
  {
   "cell_type": "markdown",
   "id": "12860ed2",
   "metadata": {},
   "source": [
    "### Setup complete D-Emissions model "
   ]
  },
  {
   "cell_type": "code",
   "execution_count": null,
   "id": "hundred-trailer",
   "metadata": {
    "scrolled": true
   },
   "outputs": [],
   "source": [
    "# NOTE: copy this line (without !) to your shell for more direct feedback\n",
    "!hydromt build demission \"./EM_test_full\" -r \"{'wflow': 'wflow_piave'}\" -i delwaq_build_EM.yml -d artifact_data --fo -vv"
   ]
  },
  {
   "cell_type": "markdown",
   "id": "b31e92d2",
   "metadata": {},
   "source": [
    "With this example we build a complete demission model including emission data. Compared to the previous **hydromt build** we have added:\n",
    "* `-i delwaq_build_EM.yml` : setup configuration file including all components to build and their arguments."
   ]
  },
  {
   "cell_type": "markdown",
   "id": "2eed76e4",
   "metadata": {},
   "source": [
    "Next we check which files and folders have been created:\n",
    "\n",
    "* **config**: basic configuration setups for the Delwaq input file .inp. Names of the ASCII files start with the corresponding block in the .inp file.\n",
    "* **dynamicdata**: Delwaq time-dependant data (hydrological fluxes) in binary format.\n",
    "* **fews**: additional files for connection with Delft-FEWS (not implemented yet)\n",
    "* **hydromodel**: data extracted to connect the hydrological model (wflow) and Delwaq (tif format). These files are not mandatory for DELWAQ but produced extra from HydroMT.\n",
    "* **staticdata**: static (spatial but non time-dependant) data for Delwaq (typically emission data) in binary format. A copy of the data in NetCDF format is also available for easier visualization.\n",
    "* **geoms**: related geometry files (geojson format). These files are not mandatory for DELWAQ but produced extra from HydroMT."
   ]
  },
  {
   "cell_type": "code",
   "execution_count": null,
   "id": "wireless-style",
   "metadata": {},
   "outputs": [],
   "source": [
    "import os\n",
    "root = 'EM_test_full'\n",
    "for path, _, files in os.walk(root):\n",
    "    print(path)\n",
    "    for name in files:\n",
    "        if name.endswith('.xml'):\n",
    "            continue\n",
    "        print(f' - {name}')"
   ]
  },
  {
   "cell_type": "markdown",
   "id": "fb7e4d44",
   "metadata": {},
   "source": [
    "You can see that the dynamicdata folder (hydrological input) does not contain any file yet. We will add them in the **update forcing** example notebook."
   ]
  },
  {
   "cell_type": "markdown",
   "id": "adef7fa1",
   "metadata": {},
   "source": [
    "### Visualize and/or inspect model schematization"
   ]
  },
  {
   "cell_type": "markdown",
   "id": "20ce9df3",
   "metadata": {},
   "source": [
    "* The **delwaq plot** example notebook contains scripts to visualize your model (staticdata, dynamicdata, hydromodel and geoms)."
   ]
  },
  {
   "cell_type": "markdown",
   "id": "3b222239",
   "metadata": {},
   "source": [
    "In the meantime, feel free to have a look at some configuration files that were prepared by HydroMT. You can change the file name from the example code below."
   ]
  },
  {
   "cell_type": "code",
   "execution_count": null,
   "id": "d7143eca",
   "metadata": {},
   "outputs": [],
   "source": [
    "import os\n",
    "model_path = './EM_test_full'\n",
    "fn_config = 'config/B3_nrofseg.inc'\n",
    "with open(os.path.join(model_path,fn_config), 'r') as f:\n",
    "    txt = f.read()\n",
    "print(txt)"
   ]
  },
  {
   "cell_type": "markdown",
   "id": "3e75fb9b",
   "metadata": {},
   "source": [
    "In the config folder, you can also see three geometry files:\n",
    "\n",
    "* B7_geometry-parameters.inc (Headers for the binary version)\n",
    "* B7_geometry.bin (Binary version)\n",
    "* B7_geometry.inc (ASCII version)\n",
    "\n",
    "These files are specific for the D-Emissions plugin and specifies geometry properties of the D-Emissions segments.\n",
    "These properties are:\n",
    "\n",
    "* Segment area (m2)\n",
    "* Fraction of the segment area that is paved\n",
    "* Fraction of the segment area that is unpaved\n",
    "* Fraction of the segment area that is open water"
   ]
  },
  {
   "cell_type": "code",
   "execution_count": null,
   "id": "1923e640",
   "metadata": {},
   "outputs": [],
   "source": [
    "import os\n",
    "model_path = './EM_test_full'\n",
    "fn_config = 'config/B7_geometry-parameters.inc'\n",
    "with open(os.path.join(model_path,fn_config), 'r') as f:\n",
    "    txt = f.read()\n",
    "print(txt)"
   ]
  }
 ],
 "metadata": {
  "kernelspec": {
   "display_name": "Python 3 (ipykernel)",
   "language": "python",
   "name": "python3"
  },
  "language_info": {
   "codemirror_mode": {
    "name": "ipython",
    "version": 3
   },
   "file_extension": ".py",
   "mimetype": "text/x-python",
   "name": "python",
   "nbconvert_exporter": "python",
   "pygments_lexer": "ipython3",
   "version": "3.11.6"
  }
 },
 "nbformat": 4,
 "nbformat_minor": 5
}
