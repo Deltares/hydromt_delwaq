{
 "cells": [
  {
   "cell_type": "markdown",
   "id": "3f28abc3",
   "metadata": {},
   "source": [
    "## Update a DELWAQ model: forcing"
   ]
  },
  {
   "cell_type": "markdown",
   "id": "a2553c7d",
   "metadata": {},
   "source": [
    "Once you have a **DELWAQ** model, you may want to update your model in order to add new emission data, add sample locations, use different hydrological forcing data, create and run different scenarios etc.\n",
    "\n",
    "With HydroMT, you can easily read your model and update one or several components of your model using the **update** function of the command line interface (CLI). Here are the steps and some examples on how to **update the model forcing**.\n",
    "\n",
    "All lines in this notebook which starts with ! are executed from the command line. Within the notebook environment the logging messages are shown after completion. You can also copy these lines and paste them in your shell to get more feedback."
   ]
  },
  {
   "cell_type": "markdown",
   "id": "e1706b92",
   "metadata": {},
   "source": [
    "<font color=red>*This notebook supposes that you already run the **delwaq build EM** example notebook and that you have a **EM_test_full** D-Emissions model available in the examples folder.*</font>"
   ]
  },
  {
   "cell_type": "markdown",
   "id": "eb86e5ad",
   "metadata": {},
   "source": [
    "### Import packages"
   ]
  },
  {
   "cell_type": "markdown",
   "id": "6451cc67",
   "metadata": {},
   "source": [
    "In this notebook, we will use some functions of HydroMT to visualize available data. Here are the libaries to import."
   ]
  },
  {
   "cell_type": "code",
   "execution_count": 1,
   "id": "e9515676",
   "metadata": {
    "execution": {
     "iopub.execute_input": "2021-05-06T12:13:50.895219Z",
     "iopub.status.busy": "2021-05-06T12:13:50.894581Z",
     "iopub.status.idle": "2021-05-06T12:13:51.879753Z",
     "shell.execute_reply": "2021-05-06T12:13:51.880288Z"
    }
   },
   "outputs": [],
   "source": [
    "import xarray as xr"
   ]
  },
  {
   "cell_type": "code",
   "execution_count": 2,
   "id": "97acca06",
   "metadata": {
    "execution": {
     "iopub.execute_input": "2021-05-06T12:13:51.884268Z",
     "iopub.status.busy": "2021-05-06T12:13:51.883206Z",
     "iopub.status.idle": "2021-05-06T12:13:52.984571Z",
     "shell.execute_reply": "2021-05-06T12:13:52.985032Z"
    }
   },
   "outputs": [],
   "source": [
    "# import hydromt\n",
    "import hydromt"
   ]
  },
  {
   "cell_type": "code",
   "execution_count": 3,
   "id": "56e2c93f",
   "metadata": {
    "execution": {
     "iopub.execute_input": "2021-05-06T12:13:52.990837Z",
     "iopub.status.busy": "2021-05-06T12:13:52.990249Z",
     "iopub.status.idle": "2021-05-06T12:13:52.995492Z",
     "shell.execute_reply": "2021-05-06T12:13:52.994966Z"
    }
   },
   "outputs": [
    {
     "name": "stdout",
     "output_type": "stream",
     "text": [
      "2021-05-06 12:13:52,988 - update_model_forcing - log - INFO - HydroMT version: 0.4.0\n"
     ]
    }
   ],
   "source": [
    "# setup logging\n",
    "from  hydromt.log import setuplog\n",
    "logger = setuplog(\"update_model_forcing\", log_level=10)"
   ]
  },
  {
   "cell_type": "markdown",
   "id": "f76f95d7",
   "metadata": {},
   "source": [
    "### Hydrological forcing data from Wflow"
   ]
  },
  {
   "cell_type": "markdown",
   "id": "ed09706d",
   "metadata": {},
   "source": [
    "D-Emissions or D-Water Quality models can use meteo/hydrological input data from [Wflow](https://deltares.github.io/Wflow.jl/stable/). The steps to get these data available for your model are:\n",
    "\n",
    "* List the required meteo/hydro fluxes in the [Wflow TOML configuration file](https://deltares.github.io/Wflow.jl/stable/structure/#Config-and-TOML) in order to save them.\n",
    "* Run the Wflow model.\n",
    "* Add the outputs of the Wflow model as a new data source for HydroMT.\n",
    "* Run hydroMT (specifically the [setup_hydrology_forcing component](https://deltares.github.io/hydromt_delwaq/latest/generated/hydromt_delwaq.delwaq.DelwaqModel.setup_hydrology_forcing.html)) to convert the wflow output to DELWAQ dynamic input.\n",
    "\n",
    "More information on the meteo/hydrological forcing link between Wflow and DELWAQ is available in [docs(Wflow_outputs)](https://deltares.github.io/hydromt_delwaq/latest/advanced/coupling_wflow.html#hydrological-forcing-from-wflow)."
   ]
  },
  {
   "cell_type": "markdown",
   "id": "299d163a",
   "metadata": {},
   "source": [
    "#### Selection of the Wfow outputs"
   ]
  },
  {
   "cell_type": "markdown",
   "id": "0cd004a3",
   "metadata": {},
   "source": [
    "For our D-Emissions model, we will use hydrological data from the **wflow_piave** hydrologic model. For a D-Emissions model, the required meteo/hydrological inputs are:\n",
    "\n",
    "* **precipitation**\n",
    "* the amount of the precipitation that **infiltrates into the soil** from unpaved areas\n",
    "* the amount of the precipation that goes directly to **surface runoff from paved areas**\n",
    "* the amount of the precipation that goes directly to **surface runoff from unpaved areas**\n",
    "\n",
    "In order to get these data from Wflow, you need to save these fluxes after the model run. These output fluxes are specified in the [Wflow TOML configuration file](https://deltares.github.io/Wflow.jl/stable/structure/#Config-and-TOML)."
   ]
  },
  {
   "cell_type": "markdown",
   "id": "b6405b49",
   "metadata": {},
   "source": [
    "To set these options, you can either edit the TOML file manually or use HydroMT to help you do the trick using the `hydromt update` CLI API!\n",
    "\n",
    "Here is the HydroMT **configuration file** needed to update the **Wflow** model:"
   ]
  },
  {
   "cell_type": "code",
   "execution_count": 4,
   "id": "2ca519ce",
   "metadata": {
    "execution": {
     "iopub.execute_input": "2021-05-06T12:13:53.002096Z",
     "iopub.status.busy": "2021-05-06T12:13:53.000998Z",
     "iopub.status.idle": "2021-05-06T12:13:53.004749Z",
     "shell.execute_reply": "2021-05-06T12:13:53.004216Z"
    }
   },
   "outputs": [
    {
     "name": "stdout",
     "output_type": "stream",
     "text": [
      "[setup_config]                  # options parsed to wflow ini file <section>.<option>\n",
      "starttime = 2010-02-02T00:00:00\n",
      "endtime = 2010-02-10T00:00:00\n",
      "timestepsecs = 86400\n",
      "# Variables to save for a coupling between wflow and Delwaq (EM+WQ)\n",
      "output.vertical.precipitation = \"prec\"\n",
      "output.vertical.actinfilt = \"inf\"\n",
      "output.vertical.excesswatersoil = \"runUnp\"\n",
      "output.vertical.excesswaterpath = \"runPav\"\n",
      "output.lateral.river.q_av = \"q_river\"\n",
      "output.lateral.river.volume = \"vol_river\"\n",
      "output.lateral.river.inwater = \"inw_river\"\n",
      "output.lateral.land.q_av = \"q_land\"\n",
      "output.lateral.land.volume = \"vol_land\"\n",
      "output.lateral.land.inwater = \"inw_land\"\n",
      "output.lateral.land.to_river = \"inwint\"\n"
     ]
    }
   ],
   "source": [
    "fn_ini = 'wflow_update.ini'\n",
    "with open(fn_ini, 'r') as f:\n",
    "    txt = f.read()\n",
    "print(txt)"
   ]
  },
  {
   "cell_type": "markdown",
   "id": "16a4608d",
   "metadata": {},
   "source": [
    "And the `hydromt update` CLI to use:"
   ]
  },
  {
   "cell_type": "code",
   "execution_count": 5,
   "id": "b4454255",
   "metadata": {
    "execution": {
     "iopub.execute_input": "2021-05-06T12:13:53.010242Z",
     "iopub.status.busy": "2021-05-06T12:13:53.009582Z",
     "iopub.status.idle": "2021-05-06T12:13:56.390238Z",
     "shell.execute_reply": "2021-05-06T12:13:56.390711Z"
    }
   },
   "outputs": [
    {
     "name": "stdout",
     "output_type": "stream",
     "text": [
      "2021-05-06 12:13:55,125 - update - log - DEBUG - Writing log messages to new file /home/runner/work/hydromt_delwaq/hydromt_delwaq/docs/examples/examples/wflow_piave/hydromt.log.\r\n",
      "2021-05-06 12:13:55,125 - update - log - INFO - HydroMT version: 0.4.0\r\n",
      "2021-05-06 12:13:55,125 - update - main - INFO - Updating wflow model at /home/runner/work/hydromt_delwaq/hydromt_delwaq/docs/examples/examples/wflow_piave (r+).\r\n",
      "2021-05-06 12:13:55,125 - update - main - INFO - Output dir: /home/runner/work/hydromt_delwaq/hydromt_delwaq/docs/examples/examples/wflow_piave\r\n",
      "2021-05-06 12:13:55,125 - update - main - INFO - User settings:\r\n",
      "2021-05-06 12:13:55,127 - update - cli_utils - INFO - setup_config.starttime: 2010-02-02T00:00:00\r\n",
      "2021-05-06 12:13:55,127 - update - cli_utils - INFO - setup_config.endtime: 2010-02-10T00:00:00\r\n",
      "2021-05-06 12:13:55,127 - update - cli_utils - INFO - setup_config.timestepsecs: 86400\r\n",
      "2021-05-06 12:13:55,127 - update - cli_utils - INFO - setup_config.output.vertical.precipitation: prec\r\n",
      "2021-05-06 12:13:55,127 - update - cli_utils - INFO - setup_config.output.vertical.actinfilt: inf\r\n",
      "2021-05-06 12:13:55,127 - update - cli_utils - INFO - setup_config.output.vertical.excesswatersoil: runUnp\r\n",
      "2021-05-06 12:13:55,127 - update - cli_utils - INFO - setup_config.output.vertical.excesswaterpath: runPav\r\n",
      "2021-05-06 12:13:55,127 - update - cli_utils - INFO - setup_config.output.lateral.river.q_av: q_river\r\n",
      "2021-05-06 12:13:55,127 - update - cli_utils - INFO - setup_config.output.lateral.river.volume: vol_river\r\n",
      "2021-05-06 12:13:55,127 - update - cli_utils - INFO - setup_config.output.lateral.river.inwater: inw_river\r\n",
      "2021-05-06 12:13:55,128 - update - cli_utils - INFO - setup_config.output.lateral.land.q_av: q_land\r\n",
      "2021-05-06 12:13:55,128 - update - cli_utils - INFO - setup_config.output.lateral.land.volume: vol_land\r\n",
      "2021-05-06 12:13:55,128 - update - cli_utils - INFO - setup_config.output.lateral.land.inwater: inw_land\r\n",
      "2021-05-06 12:13:55,128 - update - cli_utils - INFO - setup_config.output.lateral.land.to_river: inwint\r\n",
      "2021-05-06 12:13:55,128 - update - wflow - INFO - Reading model staticgeom files.\r\n"
     ]
    },
    {
     "name": "stdout",
     "output_type": "stream",
     "text": [
      "2021-05-06 12:13:55,220 - update - model_api - DEBUG - Model config read from /home/runner/work/hydromt_delwaq/hydromt_delwaq/docs/examples/examples/wflow_piave/wflow_sbm.toml\r\n",
      "2021-05-06 12:13:55,220 - update - wflow - INFO - Read staticmaps from /home/runner/work/hydromt_delwaq/hydromt_delwaq/docs/examples/examples/wflow_piave/staticmaps.nc\r\n"
     ]
    },
    {
     "name": "stdout",
     "output_type": "stream",
     "text": [
      "2021-05-06 12:13:55,303 - update - model_api - DEBUG - Setting model config options.\r\n",
      "2021-05-06 12:13:55,304 - update - wflow - INFO - Write model data to /home/runner/work/hydromt_delwaq/hydromt_delwaq/docs/examples/examples/wflow_piave\r\n",
      "2021-05-06 12:13:55,304 - update - model_api - INFO - Writing model config to /home/runner/work/hydromt_delwaq/hydromt_delwaq/docs/examples/examples/wflow_piave/wflow_sbm.toml\r\n",
      "2021-05-06 12:13:55,305 - update - wflow - INFO - Write staticmaps to /home/runner/work/hydromt_delwaq/hydromt_delwaq/docs/examples/examples/wflow_piave/staticmaps.nc\r\n"
     ]
    },
    {
     "name": "stdout",
     "output_type": "stream",
     "text": [
      "2021-05-06 12:13:55,869 - update - wflow - INFO - Writing model staticgeom to file.\r\n"
     ]
    },
    {
     "name": "stdout",
     "output_type": "stream",
     "text": [
      "\u001b[0m"
     ]
    }
   ],
   "source": [
    "! hydromt update wflow wflow_piave -i wflow_update.ini -vvv"
   ]
  },
  {
   "cell_type": "markdown",
   "id": "c9f5815b",
   "metadata": {},
   "source": [
    "The example above means the following: run **hydromt** with:\n",
    "\n",
    "- `update wflow`: i.e. update a wflow model\n",
    "- `wflow_piave_subbasin`: model folder to update\n",
    "- `-i wflow_update_forcing.ini`: setup configuration file containing the components to update and their different options\n",
    "- `-v`: give some extra verbosity (2 * v) to display feedback on screen. Now debug messages are provided."
   ]
  },
  {
   "cell_type": "markdown",
   "id": "23d170b8",
   "metadata": {},
   "source": [
    "The next step would then be to run the wflow_piave model using our updated TOML configuration file."
   ]
  },
  {
   "cell_type": "markdown",
   "id": "f93fe239",
   "metadata": {},
   "source": [
    "#### Available hydrological data from Wflow"
   ]
  },
  {
   "cell_type": "markdown",
   "id": "ba5fce4d",
   "metadata": {},
   "source": [
    "For our D-Emissions model, we will use hydrological data from the **wflow_piave** hydrologic model.\n",
    "\n",
    "The  model was already run beforehand and the **wflow_piave outputs** are stored in the *wflow_piave/run_default/output.nc* in NetCDF format. Let's have a look at the model outputs and see what data is available and for which periods.\n",
    "\n",
    "Note: You can also inspect the file using [Panoply](https://www.giss.nasa.gov/tools/panoply/) or QGIS."
   ]
  },
  {
   "cell_type": "code",
   "execution_count": 6,
   "id": "2ee8879c",
   "metadata": {
    "execution": {
     "iopub.execute_input": "2021-05-06T12:13:56.400333Z",
     "iopub.status.busy": "2021-05-06T12:13:56.399573Z",
     "iopub.status.idle": "2021-05-06T12:13:56.426236Z",
     "shell.execute_reply": "2021-05-06T12:13:56.425041Z"
    }
   },
   "outputs": [
    {
     "name": "stdout",
     "output_type": "stream",
     "text": [
      "Available outputs from wflow: Data variables: (12/13)\n",
      "    runPav     (time, lat, lon) float32 dask.array<chunksize=(9, 53, 58), meta=np.ndarray>\n",
      "    vol_river  (time, lat, lon) float32 dask.array<chunksize=(9, 53, 58), meta=np.ndarray>\n",
      "    h_river    (time, lat, lon) float32 dask.array<chunksize=(9, 53, 58), meta=np.ndarray>\n",
      "    inwint     (time, lat, lon) float32 dask.array<chunksize=(9, 53, 58), meta=np.ndarray>\n",
      "    runUnp     (time, lat, lon) float32 dask.array<chunksize=(9, 53, 58), meta=np.ndarray>\n",
      "    q_land     (time, lat, lon) float32 dask.array<chunksize=(9, 53, 58), meta=np.ndarray>\n",
      "    ...         ...\n",
      "    h_land     (time, lat, lon) float32 dask.array<chunksize=(9, 53, 58), meta=np.ndarray>\n",
      "    inf        (time, lat, lon) float32 dask.array<chunksize=(9, 53, 58), meta=np.ndarray>\n",
      "    vol_land   (time, lat, lon) float32 dask.array<chunksize=(9, 53, 58), meta=np.ndarray>\n",
      "    q_river    (time, lat, lon) float32 dask.array<chunksize=(9, 53, 58), meta=np.ndarray>\n",
      "    inw_land   (time, lat, lon) float32 dask.array<chunksize=(9, 53, 58), meta=np.ndarray>\n",
      "    inw_river  (time, lat, lon) float32 dask.array<chunksize=(9, 53, 58), meta=np.ndarray>\n",
      "Outputs available from 2010-02-02T00:00:00.000000000 to 2010-02-10T00:00:00.000000000\n"
     ]
    }
   ],
   "source": [
    "# Open the file\n",
    "wflow_output_fn = 'wflow_piave/run_default/output.nc'\n",
    "outputs = xr.open_dataset(wflow_output_fn, chunks={\"time\": 10})\n",
    "#Print available variables and start and end time\n",
    "print(f\"Available outputs from wflow: {outputs.data_vars}\")\n",
    "times = outputs.time.values\n",
    "print(f\"Outputs available from {times[0]} to {times[-1]}\")"
   ]
  },
  {
   "cell_type": "markdown",
   "id": "5912692a",
   "metadata": {},
   "source": [
    "We recognize from above all the variables and names we set previously in the **wflow_update.ini** file. All the required varibales are present and available for 9 days in February 2010."
   ]
  },
  {
   "cell_type": "markdown",
   "id": "15e68907",
   "metadata": {},
   "source": [
    "#### Registering the wflow outputs as a hydroMT data source"
   ]
  },
  {
   "cell_type": "markdown",
   "id": "1d6f4a4e",
   "metadata": {},
   "source": [
    "As we are using hydrological forcing from a user defined run of the wflow model, the wflow output format and attributes can be different depending on the user settings. **Wflow outputs are then considered as local or user data source** and therefore need to be added to the HydroMT list of data sources using a **local yaml library file**.\n",
    "\n",
    "Below you can see the **local_sources.yml** file corresponding to our wflow outputs:"
   ]
  },
  {
   "cell_type": "code",
   "execution_count": 7,
   "id": "7a6a2d98",
   "metadata": {
    "execution": {
     "iopub.execute_input": "2021-05-06T12:13:56.430722Z",
     "iopub.status.busy": "2021-05-06T12:13:56.430171Z",
     "iopub.status.idle": "2021-05-06T12:13:56.434387Z",
     "shell.execute_reply": "2021-05-06T12:13:56.434940Z"
    }
   },
   "outputs": [
    {
     "name": "stdout",
     "output_type": "stream",
     "text": [
      "wflow_output:\n",
      "  path: ./wflow_piave/run_default/output.nc\n",
      "  crs: 4326\n",
      "  data_type: RasterDataset\n",
      "  driver: netcdf\n",
      "  kwargs:\n",
      "    chunks:\n",
      "      lat: -1\n",
      "      lon: -1\n",
      "      time: 1\n",
      "  meta:\n",
      "    category: hydro\n",
      "  rename:\n",
      "    time: time\n",
      "    prec: precip\n",
      "    inf: infilt\n",
      "    runPav: runPav\n",
      "    runUnp: runUnp\n",
      "    inw_river: inwaterRiv\n",
      "    inw_land: inwaterLand\n",
      "    inwint: inwaterInternal\n",
      "    q_river: runRiv\n",
      "    q_land: runLand\n",
      "    vol_river: volRiv\n",
      "    vol_land: volLand\n",
      "  units:\n",
      "    precip: mm\n",
      "    infilt: mm\n",
      "    runPav: mm\n",
      "    runUnp: mm\n",
      "    inwaterRiv: m3/s\n",
      "    inwaterLand: m3/s\n",
      "    inwaterInternal: m3/s\n",
      "    runRiv: m3/s\n",
      "    runLand: m3/s\n",
      "    volRiv: m3\n",
      "    volLand: m3\n"
     ]
    }
   ],
   "source": [
    "fn_yml = 'local_sources.yml'\n",
    "with open(fn_yml, 'r') as f:\n",
    "    txt = f.read()\n",
    "print(txt)"
   ]
  },
  {
   "cell_type": "markdown",
   "id": "1e4ff678",
   "metadata": {},
   "source": [
    "Here are some explanations about the file. You can have a look at the [HydroMT yaml data libary documentation](https://deltares.github.io/hydromt/latest/user_guide/data.html) for more information.\n",
    "\n",
    "The first thing to define in the yaml library is the **name of the data source** you want to add in HydroMT. For example, here we use the name **wflow_output**. This name is important and is used in the HydroMT .ini file to tell HydroMT which data source you wish to use in a specific component. Once the name of the data source is set, the data attributes are listed:\n",
    "\n",
    "* **path**: path to where the data is stored.\n",
    "* **crs**: coordinate system of the data.\n",
    "* **data_type**: `HydroMT DataCatalog type` either *RasterDataset* (gridded data), *GeoDataFrame* (vector data) or *GeoDataset* (point timeseries).\n",
    "* **driver**: driver used to open the data. Either *raster* (GDAL compliant raster file), *netcdf* (NetCDF file), *zarr* (zarr file) or *vector* (GDAL compliant vector file).\n",
    "* **kwargs**: optional arguments to read the data. Depends on the driver.\n",
    "* **meta**: optional additional information on the data.\n",
    "* **rename**: list used to rename the varibales inside of the data to HydroMT compliant names. The format is “name_in_dataset: name_in_HydroMT”. Note that the names present in the NetCDF file are the ones set up in the wflow TOML file. The list of standard HydroMT names for Delwaq forcing variables are: time, precip, infilt, runPav, runUnp, inwater (or inwaterLand, inwaterRiv), inwaterInternal, run (or runLand, runRiv), lev (or levLand, levRiv), vol (or volLand, volRiv).\n",
    "* **units**: units of the variables in the data. Used by Delwaq only in order to convert from mm to m3/s and from m to m3 (requires complex unit conversion that just a multiplication or addition with a constant value)."
   ]
  },
  {
   "cell_type": "markdown",
   "id": "d897fbcc",
   "metadata": {},
   "source": [
    "### Model setup configuration"
   ]
  },
  {
   "cell_type": "markdown",
   "id": "285bff3c",
   "metadata": {},
   "source": [
    "As with building, you can prepare a hydroMT **configuration file** that includes every components and settings that you want to run during your update.\n",
    "\n",
    "The ini-file contains the model setup configuration and determines which components are updated and in which sequence and sets optional arguments for each component. This configuration is passed to hydromt using `-i <path_to_ini_file>`.\n",
    "\n",
    "Each header as shown between `[...]` (e.g. `[setup_hydrology_forcing]`) corresponds with a model component which are explained in the [docs(model_components)](https://deltares.github.io/hydromt_wflow/latest/user_guide/wflow/components.html).\n",
    "\n",
    "Let's open the example configuration file **delwaq_update_EM_forcing.ini** from the model repository [examples folder] and have a look at the settings."
   ]
  },
  {
   "cell_type": "code",
   "execution_count": 8,
   "id": "033f24ab",
   "metadata": {
    "execution": {
     "iopub.execute_input": "2021-05-06T12:13:56.439816Z",
     "iopub.status.busy": "2021-05-06T12:13:56.438830Z",
     "iopub.status.idle": "2021-05-06T12:13:56.443519Z",
     "shell.execute_reply": "2021-05-06T12:13:56.442717Z"
    }
   },
   "outputs": [
    {
     "name": "stdout",
     "output_type": "stream",
     "text": [
      "[global]\n",
      "mtype             = EM                    # type of Delwaq model ['EM', 'WQ']\n",
      "\n",
      "[setup_hydrology_forcing]\n",
      "hydro_forcing_fn  = wflow_output          # source name of the hydrological forcing in the yaml file\n",
      "starttime         = 2010-02-03 00:00:00   # start time of the Delwaq run\n",
      "endtime           = 2010-02-10 00:00:00   # end time of the Delwaq run\n",
      "timestepsecs      = 86400                 # model timestep in seconds\n",
      "add_volume_offset = True                  # add a one-timestep offset to the volume data in the hydrological forcing file compared to the flows\n",
      "\n"
     ]
    }
   ],
   "source": [
    "fn_ini = 'delwaq_update_EM_forcing.ini'\n",
    "with open(fn_ini, 'r') as f:\n",
    "    txt = f.read()\n",
    "print(txt)"
   ]
  },
  {
   "cell_type": "markdown",
   "id": "100f6165",
   "metadata": {},
   "source": [
    "Here we can see that we will run **setup_hydrology_forcing** component to prepare daily hydrological forcing for 8 days in February 2010 using our **wflow_output**.\n",
    "\n",
    "Note that the **add_volume_offset** function is set to *True*. This is because Delwaq needs water volumes at the beginning of the timestep. In some models, like wflow, volumes are written at the end of the timestep and therefore an offset of one timestep needs to be added for consistency.\n",
    "\n",
    "You can find more information on the different components and their options in the [docs(model_components)](https://deltares.github.io/hydromt_delwaq/latest/user_guide/components.html).\n"
   ]
  },
  {
   "cell_type": "markdown",
   "id": "d3a9c2d7",
   "metadata": {},
   "source": [
    "### hydroMT CLI update interface"
   ]
  },
  {
   "cell_type": "markdown",
   "id": "84c580a3",
   "metadata": {},
   "source": [
    "Using the `hydroMT update` API, we can update one or several components of an already existing Delwaq model. Let's get an overview of the available options:"
   ]
  },
  {
   "cell_type": "code",
   "execution_count": 9,
   "id": "f9253e01",
   "metadata": {
    "execution": {
     "iopub.execute_input": "2021-05-06T12:13:56.447933Z",
     "iopub.status.busy": "2021-05-06T12:13:56.447312Z",
     "iopub.status.idle": "2021-05-06T12:13:58.906222Z",
     "shell.execute_reply": "2021-05-06T12:13:58.905324Z"
    }
   },
   "outputs": [
    {
     "name": "stdout",
     "output_type": "stream",
     "text": [
      "Usage: hydromt update [OPTIONS] MODEL MODEL_ROOT\r\n",
      "\r\n",
      "  Update a specific component of a model. Set an output directory to copy\r\n",
      "  the edited model to a new folder, otherwise maps are overwritten.\r\n",
      "\r\n",
      "  Example usage:\r\n",
      "  --------------\r\n",
      "\r\n",
      "  Update (overwrite) landuse-landcover maps in a wflow model\r\n",
      "  hydromt update wflow /path/to/model_root -c setup_lulcmaps --opt source_name=vito\r\n",
      "\r\n",
      "  Update reservoir maps based on default settings in a wflow model and write to new directory\r\n",
      "  hydromt update wflow /path/to/model_root -o /path/to/model_out -c setup_reservoirs\r\n",
      "\r\n",
      "Options:\r\n",
      "  -o, --model-out DIRECTORY  Output model folder. Maps in MODEL_ROOT are\r\n",
      "                             overwritten if left empty.\r\n",
      "\r\n",
      "  -c, --components TEXT      Model components from ini file to run\r\n",
      "  --opt TEXT                 Component specific keyword arguments, see the\r\n",
      "                             setup_<component> method of the specific model\r\n",
      "                             for more information about the arguments.\r\n",
      "\r\n",
      "  -i, --config PATH          Path to hydroMT configuration file, for the model\r\n",
      "                             specific implementation.\r\n",
      "\r\n",
      "  -d, --data PATH            File path to yml data sources file. See\r\n",
      "                             documentation for required yml file format.\r\n",
      "\r\n",
      "  --dd, --deltares-data      Parse default deltares data yml from\r\n",
      "                             https://github.com/DirkEilander/hydromt-\r\n",
      "                             artifacts/releases\r\n",
      "\r\n",
      "  -q, --quiet                Decrease verbosity.\r\n",
      "  -v, --verbose              Increase verbosity.\r\n",
      "  --help                     Show this message and exit.\r\n",
      "\u001b[0m"
     ]
    }
   ],
   "source": [
    "# Print the options available from the update command\n",
    "! hydromt update --help"
   ]
  },
  {
   "cell_type": "markdown",
   "id": "ee4d250d",
   "metadata": {},
   "source": [
    "### Update wflow forcing layers"
   ]
  },
  {
   "cell_type": "code",
   "execution_count": 10,
   "id": "dd69c94d",
   "metadata": {
    "execution": {
     "iopub.execute_input": "2021-05-06T12:13:58.916424Z",
     "iopub.status.busy": "2021-05-06T12:13:58.910657Z",
     "iopub.status.idle": "2021-05-06T12:14:01.916968Z",
     "shell.execute_reply": "2021-05-06T12:14:01.917737Z"
    }
   },
   "outputs": [
    {
     "name": "stdout",
     "output_type": "stream",
     "text": [
      "2021-05-06 12:14:00,984 - update - log - DEBUG - Appending log messages to file /home/runner/work/hydromt_delwaq/hydromt_delwaq/docs/examples/examples/EM_test_full/hydromt.log.\r\n",
      "2021-05-06 12:14:00,985 - update - log - INFO - HydroMT version: 0.4.0\r\n",
      "2021-05-06 12:14:00,985 - update - main - INFO - Updating delwaq model at /home/runner/work/hydromt_delwaq/hydromt_delwaq/docs/examples/examples/EM_test_full (r+).\r\n",
      "2021-05-06 12:14:00,985 - update - main - INFO - Output dir: /home/runner/work/hydromt_delwaq/hydromt_delwaq/docs/examples/examples/EM_test_full\r\n",
      "2021-05-06 12:14:00,985 - update - main - INFO - Additional data sources: ('/home/runner/work/hydromt_delwaq/hydromt_delwaq/docs/examples/examples/local_sources.yml',)\r\n",
      "2021-05-06 12:14:00,985 - update - main - INFO - User settings:\r\n"
     ]
    },
    {
     "name": "stdout",
     "output_type": "stream",
     "text": [
      "2021-05-06 12:14:00,986 - update - cli_utils - INFO - global.mtype: EM\r\n",
      "2021-05-06 12:14:00,986 - update - cli_utils - INFO - setup_hydrology_forcing.hydro_forcing_fn: wflow_output\r\n",
      "2021-05-06 12:14:00,986 - update - cli_utils - INFO - setup_hydrology_forcing.starttime: 2010-02-03 00:00:00\r\n",
      "2021-05-06 12:14:00,986 - update - cli_utils - INFO - setup_hydrology_forcing.endtime: 2010-02-10 00:00:00\r\n",
      "2021-05-06 12:14:00,986 - update - cli_utils - INFO - setup_hydrology_forcing.timestepsecs: 86400\r\n",
      "2021-05-06 12:14:00,986 - update - cli_utils - INFO - setup_hydrology_forcing.add_volume_offset: True\r\n",
      "2021-05-06 12:14:00,991 - update - delwaq - INFO - Reading model staticgeom files.\r\n"
     ]
    },
    {
     "name": "stdout",
     "output_type": "stream",
     "text": [
      "2021-05-06 12:14:01,039 - update - delwaq - INFO - Read staticmaps from /home/runner/work/hydromt_delwaq/hydromt_delwaq/docs/examples/examples/EM_test_full/staticdata/staticmaps.nc\r\n",
      "2021-05-06 12:14:01,061 - update - model_api - DEBUG - setup_hydrology_forcing.hydro_forcing_fn: wflow_output\r\n",
      "2021-05-06 12:14:01,061 - update - model_api - DEBUG - setup_hydrology_forcing.starttime: 2010-02-03 00:00:00\r\n",
      "2021-05-06 12:14:01,061 - update - model_api - DEBUG - setup_hydrology_forcing.endtime: 2010-02-10 00:00:00\r\n",
      "2021-05-06 12:14:01,061 - update - model_api - DEBUG - setup_hydrology_forcing.timestepsecs: 86400\r\n",
      "2021-05-06 12:14:01,061 - update - model_api - DEBUG - setup_hydrology_forcing.add_volume_offset: True\r\n",
      "2021-05-06 12:14:01,061 - update - delwaq - INFO - Setting dynamic data from hydrology source wflow_output.\r\n",
      "2021-05-06 12:14:01,072 - update - data_adapter - INFO - DataCatalog: Getting wflow_output RasterDataset netcdf data from /home/runner/work/hydromt_delwaq/hydromt_delwaq/docs/examples/examples/wflow_piave/run_default/output.nc\r\n"
     ]
    },
    {
     "name": "stdout",
     "output_type": "stream",
     "text": [
      "2021-05-06 12:14:01,108 - update - data_adapter - DEBUG - RasterDataset: Clip with geom - [11.775, 45.808, 12.742, 46.692]\r\n"
     ]
    },
    {
     "name": "stdout",
     "output_type": "stream",
     "text": [
      "2021-05-06 12:14:01,244 - update - delwaq - INFO - Write model data to /home/runner/work/hydromt_delwaq/hydromt_delwaq/docs/examples/examples/EM_test_full\r\n",
      "2021-05-06 12:14:01,259 - update - delwaq - INFO - Writing staticmap files.\r\n",
      "2021-05-06 12:14:01,273 - update - delwaq - INFO - Writing model staticgeom to file.\r\n"
     ]
    },
    {
     "name": "stdout",
     "output_type": "stream",
     "text": [
      "2021-05-06 12:14:01,291 - update - delwaq - INFO - Writing model config to file.\r\n",
      "2021-05-06 12:14:01,292 - update - delwaq - WARNING - No updated maps. Skipping writing to file.\r\n",
      "2021-05-06 12:14:01,320 - update - delwaq - INFO - Writing dynamicmap files.\r\n",
      "2021-05-06 12:14:01,320 - update - delwaq - INFO - Writting dynamic data for timestep 1/8\r\n",
      "2021-05-06 12:14:01,340 - update - delwaq - INFO - Writting dynamic data for timestep 2/8\r\n"
     ]
    },
    {
     "name": "stdout",
     "output_type": "stream",
     "text": [
      "2021-05-06 12:14:01,361 - update - delwaq - INFO - Writting dynamic data for timestep 3/8\r\n",
      "2021-05-06 12:14:01,380 - update - delwaq - INFO - Writting dynamic data for timestep 4/8\r\n"
     ]
    },
    {
     "name": "stdout",
     "output_type": "stream",
     "text": [
      "2021-05-06 12:14:01,402 - update - delwaq - INFO - Writting dynamic data for timestep 5/8\r\n",
      "2021-05-06 12:14:01,422 - update - delwaq - INFO - Writting dynamic data for timestep 6/8\r\n",
      "2021-05-06 12:14:01,442 - update - delwaq - INFO - Writting dynamic data for timestep 7/8\r\n"
     ]
    },
    {
     "name": "stdout",
     "output_type": "stream",
     "text": [
      "2021-05-06 12:14:01,463 - update - delwaq - INFO - Writting dynamic data for timestep 8/8\r\n",
      "2021-05-06 12:14:01,483 - update - delwaq - INFO - Writting waqgeom.nc file\r\n"
     ]
    },
    {
     "name": "stdout",
     "output_type": "stream",
     "text": [
      "\u001b[0m"
     ]
    }
   ],
   "source": [
    "# NOTE: copy this line (without !) to your shell for more direct feedback\n",
    "! hydromt update delwaq ./EM_test_full -i delwaq_update_EM_forcing.ini -d local_sources.yml -vv"
   ]
  },
  {
   "cell_type": "markdown",
   "id": "90b9ec42",
   "metadata": {},
   "source": [
    "The example above means the following: run **hydromt** with:\n",
    "\n",
    "- `update delwaq`: i.e. update a delwaq model\n",
    "- `./EM_test_full`: model folder\n",
    "- `-i delwaq_update_EM_forcing.ini`: setup configuration file containing the components to update and their different options\n",
    "- `-d local_sources.yml`: local data library, here containing the hydrological outputs from wflow.\n",
    "- `-v`: give some extra verbosity (2 * v) to display feedback on screen. Now debug messages are provided."
   ]
  },
  {
   "cell_type": "markdown",
   "id": "c2f94675",
   "metadata": {},
   "source": [
    "### Visualization of the outputs"
   ]
  },
  {
   "cell_type": "markdown",
   "id": "1fff56c3",
   "metadata": {},
   "source": [
    "From the information above, you can see that the different forcing variables where updated. If you have a look at the output files, you can see that the hydrological data were added to the dynamicdata folder but also several information were added in the config folder."
   ]
  },
  {
   "cell_type": "code",
   "execution_count": 11,
   "id": "0a5216ab",
   "metadata": {
    "execution": {
     "iopub.execute_input": "2021-05-06T12:14:01.924863Z",
     "iopub.status.busy": "2021-05-06T12:14:01.923474Z",
     "iopub.status.idle": "2021-05-06T12:14:01.929583Z",
     "shell.execute_reply": "2021-05-06T12:14:01.930307Z"
    }
   },
   "outputs": [
    {
     "name": "stdout",
     "output_type": "stream",
     "text": [
      "EM_test_full\n",
      " - hydromt.log\n",
      "EM_test_full/fews\n",
      "EM_test_full/dynamicdata\n",
      " - hydrology.bin\n",
      "EM_test_full/staticgeoms\n",
      " - monareas.geojson\n",
      " - basins.geojson\n",
      "EM_test_full/staticdata\n",
      " - GHS-POP_2015.dat\n",
      " - staticmaps.nc\n",
      " - GHS-SMOD_2015.dat\n",
      " - slope.dat\n",
      " - streamorder.dat\n",
      " - GDP_world.dat\n",
      "EM_test_full/hydromodel\n",
      " - rivwth.tif\n",
      " - ldd.tif\n",
      " - ptid.tif\n",
      " - basins.tif\n",
      " - modelmap.tif\n",
      " - rivlen.tif\n",
      "EM_test_full/config\n",
      " - B4_nrofexch.inc\n",
      " - B2_nrofmon.inc\n",
      " - B2_stations.inc\n",
      " - B5_boundlist.inc\n",
      " - B1_timestamp.inc\n",
      " - B7_geometry-parameters.inc\n",
      " - B2_monareas.inc\n",
      " - B2_timers.inc\n",
      " - B7_geometry.inc\n",
      " - B2_outputtimes.inc\n",
      " - B3_attributes.inc\n",
      " - B7_geometry.bin\n",
      " - B7_hydrology.inc\n",
      " - B3_nrofseg.inc\n",
      " - B3_waqgeom.nc\n",
      " - B2_sysclock.inc\n",
      " - B2_timers_only.inc\n"
     ]
    }
   ],
   "source": [
    "import os\n",
    "root = 'EM_test_full'\n",
    "for path, _, files in os.walk(root):\n",
    "    print(path)\n",
    "    for name in files:\n",
    "        if name.endswith('.xml'):\n",
    "            continue\n",
    "        print(f' - {name}')"
   ]
  },
  {
   "cell_type": "markdown",
   "id": "fb93d9bb",
   "metadata": {},
   "source": [
    "You can have a look at some of these files:"
   ]
  },
  {
   "cell_type": "code",
   "execution_count": 12,
   "id": "18094bf3",
   "metadata": {
    "execution": {
     "iopub.execute_input": "2021-05-06T12:14:01.935852Z",
     "iopub.status.busy": "2021-05-06T12:14:01.934563Z",
     "iopub.status.idle": "2021-05-06T12:14:01.939963Z",
     "shell.execute_reply": "2021-05-06T12:14:01.939464Z"
    }
   },
   "outputs": [
    {
     "name": "stdout",
     "output_type": "stream",
     "text": [
      "'T0: 2010.02.03 00:00:00  (scu=       1s)'\n",
      "\n"
     ]
    }
   ],
   "source": [
    "import os\n",
    "model_path = './EM_test_full'\n",
    "fn_config = 'config/B1_timestamp.inc'\n",
    "with open(os.path.join(model_path,fn_config), 'r') as f:\n",
    "    txt = f.read()\n",
    "print(txt)"
   ]
  },
  {
   "cell_type": "markdown",
   "id": "4db04a1a",
   "metadata": {},
   "source": [
    "For the hydrological data directly, the main files are:\n",
    "\n",
    "* dynamicdata/hydrology.bin (Binary data)\n",
    "* config/B7_hydrology.inc (Headers for the variables inside of hydrology.bin)\n",
    "\n",
    "You can also see that a NetCDF file was created: **B3_waqgeom.nc**. This file can be used to produce NetCDF outputs directly when running D-Emissions or D-Water Quality but also to visualize the model in FEWS."
   ]
  },
  {
   "cell_type": "code",
   "execution_count": 13,
   "id": "f38c01d9",
   "metadata": {
    "execution": {
     "iopub.execute_input": "2021-05-06T12:14:01.944431Z",
     "iopub.status.busy": "2021-05-06T12:14:01.943723Z",
     "iopub.status.idle": "2021-05-06T12:14:01.948653Z",
     "shell.execute_reply": "2021-05-06T12:14:01.949124Z"
    }
   },
   "outputs": [
    {
     "name": "stdout",
     "output_type": "stream",
     "text": [
      "SEG_FUNCTIONS\n",
      "Rainfall RunoffPav RunoffUnp Infiltr TotalFlow \n",
      "\n"
     ]
    }
   ],
   "source": [
    "import os\n",
    "model_path = './EM_test_full'\n",
    "fn_config = 'config/B7_hydrology.inc'\n",
    "with open(os.path.join(model_path,fn_config), 'r') as f:\n",
    "    txt = f.read()\n",
    "print(txt)"
   ]
  }
 ],
 "metadata": {
  "kernelspec": {
   "display_name": "Python 3",
   "language": "python",
   "name": "python3"
  },
  "language_info": {
   "codemirror_mode": {
    "name": "ipython",
    "version": 3
   },
   "file_extension": ".py",
   "mimetype": "text/x-python",
   "name": "python",
   "nbconvert_exporter": "python",
   "pygments_lexer": "ipython3",
   "version": "3.9.2"
  }
 },
 "nbformat": 4,
 "nbformat_minor": 5
}
