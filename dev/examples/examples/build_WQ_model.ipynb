{
 "cells": [
  {
   "cell_type": "markdown",
   "id": "9a73590b",
   "metadata": {},
   "source": [
    "## Build a DELWAQ D-Water Quality model from scratch"
   ]
  },
  {
   "cell_type": "markdown",
   "id": "ee510c6e",
   "metadata": {},
   "source": [
    "This notebook demonstrates how to prepare **DELWAQ D-Water Quality** model from scratch using the command line interace (CLI)."
   ]
  },
  {
   "cell_type": "markdown",
   "id": "6b96aa15",
   "metadata": {},
   "source": [
    "All lines in this notebook which start with `!` are executed from the command line. Within the notebook environment the logging messages are shown after completion. You can also copy these lines and paste these in your shell to get more direct feedback."
   ]
  },
  {
   "cell_type": "markdown",
   "id": "451c8168",
   "metadata": {},
   "source": [
    "### hydroMT CLI build interface"
   ]
  },
  {
   "cell_type": "markdown",
   "id": "2c70853e",
   "metadata": {},
   "source": [
    "In hydroMT, you can interact with **DELWAQ models** either to be used by **D-Emissions (EM)** or **D-Water Quality (WQ)**.\n",
    "\n",
    "Lets first check if the delwaq model is recognized by hydromt"
   ]
  },
  {
   "cell_type": "code",
   "execution_count": 1,
   "id": "40470302",
   "metadata": {
    "execution": {
     "iopub.execute_input": "2022-04-26T12:26:00.509039Z",
     "iopub.status.busy": "2022-04-26T12:26:00.508669Z",
     "iopub.status.idle": "2022-04-26T12:26:02.879172Z",
     "shell.execute_reply": "2022-04-26T12:26:02.878496Z"
    }
   },
   "outputs": [
    {
     "name": "stdout",
     "output_type": "stream",
     "text": [
      "hydroMT model plugins: wflow (v0.1.4), wflow_sediment (v0.1.4), delwaq (v0.1.3.dev0)\r\n",
      "\u001b[0m"
     ]
    }
   ],
   "source": [
    "# this should return \"delwaq, wflow, wflow_sediment\"\n",
    "!hydromt --models"
   ]
  },
  {
   "cell_type": "markdown",
   "id": "7d9b5a20",
   "metadata": {},
   "source": [
    "Using the **hydromt build** API we can setup a complete model from scratch. Let's get an overview of all the available options:"
   ]
  },
  {
   "cell_type": "code",
   "execution_count": 2,
   "id": "1d39e4a1",
   "metadata": {
    "execution": {
     "iopub.execute_input": "2022-04-26T12:26:02.883148Z",
     "iopub.status.busy": "2022-04-26T12:26:02.882949Z",
     "iopub.status.idle": "2022-04-26T12:26:05.272094Z",
     "shell.execute_reply": "2022-04-26T12:26:05.270922Z"
    }
   },
   "outputs": [
    {
     "name": "stdout",
     "output_type": "stream",
     "text": [
      "Usage: hydromt build [OPTIONS] MODEL MODEL_ROOT REGION\r\n",
      "\r\n",
      "  Build models from source data.\r\n",
      "\r\n",
      "  Example usage:\r\n",
      "  --------------\r\n",
      "\r\n",
      "  To build a wflow model for a subbasin using and point coordinates snapped to cells with stream order >= 4\r\n",
      "  hydromt build wflow /path/to/model_root \"{'subbasin': [-7.24, 62.09], 'strord': 4}\" -i /path/to/wflow_config.ini\r\n",
      "\r\n",
      "  To build a wflow model based on basin ID\r\n",
      "  hydromt build wflow /path/to/model_root \"{'basin': 230001006}\"\r\n",
      "\r\n",
      "  To build a sfincs model based on a bbox (for Texel)\r\n",
      "  hydromt build sfincs /path/to/model_root \"{'bbox': [4.6891,52.9750,4.9576,53.1994]}\"\r\n",
      "\r\n",
      "Options:\r\n",
      "  -r, --res FLOAT             Model resolution in model src.\r\n",
      "  --build-base / --build-all  Deprecated!\r\n",
      "  --opt TEXT                  Component specific keyword arguments, see the\r\n",
      "                              setup_<component> method of the specific model\r\n",
      "                              for more information about the arguments.\r\n",
      "  -i, --config PATH           Path to hydroMT configuration file, for the\r\n",
      "                              model specific implementation.\r\n",
      "  -d, --data PATH             File path to yml data sources file. See\r\n",
      "                              documentation for required yml file format.\r\n",
      "  --dd, --deltares-data       Parse default deltares data yml from\r\n",
      "                              https://github.com/DirkEilander/hydromt-\r\n",
      "                              artifacts/releases\r\n",
      "  -q, --quiet                 Decrease verbosity.\r\n",
      "  -v, --verbose               Increase verbosity.\r\n",
      "  --help                      Show this message and exit.\r\n",
      "\u001b[0m"
     ]
    }
   ],
   "source": [
    "!hydromt build --help"
   ]
  },
  {
   "cell_type": "markdown",
   "id": "f286fccb",
   "metadata": {},
   "source": [
    "### Setup delwaq EM model base layers "
   ]
  },
  {
   "cell_type": "markdown",
   "id": "2581d83b",
   "metadata": {},
   "source": [
    "DELWAQ models are quite specific in the sense that they are usually added on top of an already existing hydrologic / hydraulic or hydrodynamic model.\n",
    "In hydroMT, for now, DELWAQ models (EM for D-Emissions and WQ for D-Water Quality) can only be built on top of [Wflow](https://deltares.github.io/Wflow.jl/stable/) hydrologic models. You can find more information on this coupling in [docs(coupling_wflow)](https://deltares.github.io/hydromt_delwaq/latest/advanced/coupling_wflow.html).\n",
    "\n",
    "Here is how you can build a DELWAQ model:"
   ]
  },
  {
   "cell_type": "code",
   "execution_count": 3,
   "id": "closed-excerpt",
   "metadata": {
    "execution": {
     "iopub.execute_input": "2022-04-26T12:26:05.275965Z",
     "iopub.status.busy": "2022-04-26T12:26:05.275260Z",
     "iopub.status.idle": "2022-04-26T12:26:08.651953Z",
     "shell.execute_reply": "2022-04-26T12:26:08.651277Z"
    }
   },
   "outputs": [
    {
     "name": "stdout",
     "output_type": "stream",
     "text": [
      "2022-04-26 12:26:07,250 - build - log - DEBUG - Writing log messages to new file /home/runner/work/hydromt_delwaq/hydromt_delwaq/docs/examples/examples/WQ_test_base/hydromt.log.\r\n",
      "2022-04-26 12:26:07,250 - build - log - INFO - HydroMT version: 0.4.5\r\n",
      "2022-04-26 12:26:07,250 - build - main - INFO - Building instance of delwaq model at /home/runner/work/hydromt_delwaq/hydromt_delwaq/docs/examples/examples/WQ_test_base.\r\n",
      "2022-04-26 12:26:07,250 - build - main - INFO - User settings:\r\n",
      "2022-04-26 12:26:07,257 - build - model_plugins - DEBUG - Loaded model plugin 'delwaq = hydromt_delwaq.delwaq.DelwaqModel' (0.1.3.dev0)\r\n",
      "2022-04-26 12:26:07,257 - build - model_api - INFO - Initializing delwaq model from hydromt_delwaq (v0.1.3.dev0).\r\n",
      "2022-04-26 12:26:07,258 - build - model_api - INFO - setup_basemaps.region: {'wflow': 'wflow_piave'}\r\n",
      "2022-04-26 12:26:07,258 - build - model_api - INFO - setup_basemaps.include_soil: False\r\n",
      "2022-04-26 12:26:07,258 - build - model_plugins - DEBUG - Loaded model plugin 'wflow = hydromt_wflow.wflow.WflowModel' (0.1.4)\r\n",
      "2022-04-26 12:26:07,258 - build - model_api - INFO - Initializing wflow model from hydromt_wflow (v0.1.4).\r\n",
      "2022-04-26 12:26:07,258 - build - log - DEBUG - Appending log messages to file /home/runner/work/hydromt_delwaq/hydromt_delwaq/docs/examples/examples/wflow_piave/hydromt.log.\r\n",
      "2022-04-26 12:26:07,258 - build - basin_mask - DEBUG - Parsed region (kind=model): {'mod': <hydromt_wflow.wflow.WflowModel object at 0x7f9dae4cda30>}\r\n",
      "2022-04-26 12:26:07,258 - build - delwaq - INFO - Preparing WQ basemaps from hydromodel.\r\n",
      "2022-04-26 12:26:07,261 - build - model_api - DEBUG - Model config read from /home/runner/work/hydromt_delwaq/hydromt_delwaq/docs/examples/examples/wflow_piave/wflow_sbm.toml\r\n",
      "2022-04-26 12:26:07,261 - build - wflow - INFO - Read staticmaps from /home/runner/work/hydromt_delwaq/hydromt_delwaq/docs/examples/examples/wflow_piave/staticmaps.nc\r\n"
     ]
    },
    {
     "name": "stdout",
     "output_type": "stream",
     "text": [
      "2022-04-26 12:26:08,180 - build - model_api - ERROR - Default config file not found at /usr/share/miniconda/envs/hydromt-delwaq/lib/python3.9/site-packages/hydromt_delwaq/data/delwaq/delwaq.inp\r\n",
      "2022-04-26 12:26:08,180 - build - delwaq - INFO - Write model data to /home/runner/work/hydromt_delwaq/hydromt_delwaq/docs/examples/examples/WQ_test_base\r\n",
      "2022-04-26 12:26:08,189 - build - delwaq - INFO - Writing staticmap files.\r\n"
     ]
    },
    {
     "name": "stdout",
     "output_type": "stream",
     "text": [
      "2022-04-26 12:26:08,199 - build - delwaq - INFO - Writing model config to file.\r\n",
      "2022-04-26 12:26:08,199 - build - delwaq - INFO - Writing hydromap files.\r\n",
      "2022-04-26 12:26:08,235 - build - delwaq - INFO - Writting pointer file in root/config\r\n"
     ]
    },
    {
     "name": "stdout",
     "output_type": "stream",
     "text": [
      "2022-04-26 12:26:08,250 - build - delwaq - WARNING - Warning: no forcing available, skipping write_forcing.\r\n",
      "\u001b[0m"
     ]
    }
   ],
   "source": [
    "# NOTE: copy this line (without !) to your shell for more direct feedback\n",
    "!hydromt build delwaq \"./WQ_test_base\" \"{'wflow': 'wflow_piave'}\" --opt global.mtype=WQ -vvv"
   ]
  },
  {
   "cell_type": "markdown",
   "id": "cb9d0032",
   "metadata": {},
   "source": [
    "The example above means the following: run **hydromt build** with:\n",
    "\n",
    "* `delwaq` : i.e. build a delwaq model\n",
    "* `./WQ_test_base` : output model folder\n",
    "* `\"{'wflow': 'wflow_piave'}\"` : derive the model from the existing wflow model located in wflow_piave folder. All *REGION* options are described in the [docs](https://deltares.github.io/hydromt/latest/user_guide/cli.html#region-options). For delwaq, the only possible options is from an existing wflow model.\n",
    "* `-opt global.mtype=WQ` : specifies which type of delwaq model to build. Here **WQ** for D-Water Quality.\n",
    "* `-vv` : give some extra verbosity (2 * v) to display feedback on screen. Now debug messages are provided.\n",
    "\n",
    "NOTE: As we did not specify a model configuration, only the base maps (grid, segment IDs) have been setup using default parameters. To build a complete model we need the use a configuraton ini-file."
   ]
  },
  {
   "cell_type": "markdown",
   "id": "ebd31242",
   "metadata": {},
   "source": [
    "### Model setup configuration"
   ]
  },
  {
   "cell_type": "markdown",
   "id": "fb8282c9",
   "metadata": {},
   "source": [
    "The ini-file contains the model setup configuration and determines which components are build and in which order and optionally sets non-default arguments for each component. This configuration is passed to hydromt using `-i <path_to_ini_file>`. We have prepared several example ini-files which are available in the model repository [examples folder](https://github.com/Deltares/hydromt_delwaq/tree/main/examples) and from the [docs(build_configuration)](https://deltares.github.io/hydromt_delwaq/latest/user_guide/build_configuration.html). \n",
    "\n",
    "Each header as shown between `[...]` (e.g. `[setup_basemaps]`) corresponds to a model component. All model components are explained in the [docs(model_components)](https://deltares.github.io/hydromt_delwaq/latest/user_guide/components.html). "
   ]
  },
  {
   "cell_type": "markdown",
   "id": "cc3fd44d",
   "metadata": {},
   "source": [
    "**Almost each DELWAQ model is unique** depending on which substances and sources are included but also what kind of emission data is available. For these reasons, there is no default build ini file for a delwaq model and still some manual steps required to build and run a D-Water Quality model with hydroMT. You can learn more about these steps in the [docs(hydromt_D-Water Quality)](https://deltares.github.io/hydromt_delwaq/latest/advanced/generic_delwaq.html#water-quality-modelling-with-d-water-quality).\n",
    "\n",
    "We will load an example delwaq build WQ ini file for inspection:"
   ]
  },
  {
   "cell_type": "code",
   "execution_count": 4,
   "id": "e88d4aed",
   "metadata": {
    "execution": {
     "iopub.execute_input": "2022-04-26T12:26:08.655727Z",
     "iopub.status.busy": "2022-04-26T12:26:08.655206Z",
     "iopub.status.idle": "2022-04-26T12:26:08.661476Z",
     "shell.execute_reply": "2022-04-26T12:26:08.660901Z"
    }
   },
   "outputs": [
    {
     "name": "stdout",
     "output_type": "stream",
     "text": [
      "[global]\n",
      "mtype             = WQ                   # type of Delwaq model ['EM', 'WQ']\n",
      "data_libs         = ['local_sources.yml']                   # add optional paths to data yml files\n",
      "\n",
      "[setup_basemaps]\n",
      "include_soil      = False                # add a soil compartment in addition to the surface waters\n",
      "\n",
      "[setup_monitoring]\n",
      "mon_points        = wflow_piave/staticgeoms/gauges.geojson  # monitoring points ['None', 'segments', 'path to station location', 'source in DataCatalog']\n",
      "mon_areas         = compartments         # monitoring areas ['None', 'compartments', 'subcatch']\n",
      "\n",
      "[setup_hydrology_forcing]\n",
      "hydro_forcing_fn  = wflow_output                 # source name of the hydrological forcing in the yaml file\n",
      "starttime         = 2010-02-03 00:00:00  # start time of the Delwaq run\n",
      "endtime           = 2010-02-10 00:00:00  # end time of the Delwaq run\n",
      "timestepsecs      = 86400                # model timestep in seconds\n",
      "add_volume_offset = True                 # add a one-timestep offset to the volume data in the hydrological forcing file compared to the flows\n",
      "\n"
     ]
    }
   ],
   "source": [
    "fn_ini = 'delwaq_build_WQ.ini'\n",
    "with open(fn_ini, 'r') as f:\n",
    "    txt = f.read()\n",
    "print(txt)"
   ]
  },
  {
   "cell_type": "markdown",
   "id": "7a20489c",
   "metadata": {},
   "source": [
    "Some explanations for the sections in the ini file above:\n",
    "\n",
    "* **global**: options true for every model components of delwaq. This is where you can specify if you want to build an **EM** or **WQ** model using the *mtype* option. You can also add local data libaries in *data_libs* instead f in the command line.\n",
    "* **setup_basemaps**: prepares the first delwaq model layers (grid, segment ID) and for WQ also the pointer.\n",
    "* **setup_monitoring**: prepares monitoring points using the gauges locations of the wflow model and the monitoring areas by compartments (surface waters only here)\n",
    "* **setup_hydrology_forcing**: prepares hydrological data from wflow outputs. Information on the *wflow_output* source is available in the *local_sources.yml*.\n",
    "\n",
    "For more information on all the options used (resampling method, NaN values handling...), please check the [docs(model_components)](https://deltares.github.io/hydromt_delwaq/latest/user_guide/components.html)"
   ]
  },
  {
   "cell_type": "markdown",
   "id": "7584dcae",
   "metadata": {},
   "source": [
    "### Data for model setup"
   ]
  },
  {
   "cell_type": "markdown",
   "id": "dad35651",
   "metadata": {},
   "source": [
    "The `<...>_fn` arguments correspond to a data source from the `DataCatalog` which is based on a yml-file with references to the data paths/urls and how the data should be read. This file can be provided to hydromt using `-d <path_to_yml_file>`. \n",
    "\n",
    "By default some example data for the Piave basin will be downloaded to `~/.hydromt_data/` which is also used for this example. An overview of the available example data is provided [here](https://deltares.github.io/hydromt/latest/user_guide/data.html#available-global-datasets)\n",
    "This example data is a based on the data which are available from the Deltares p-drive. \n",
    "If you have acces to this drive, a pre-configured catalog file can be loaded using the `--dd` flag. \n",
    "\n",
    "More background how to write a data catalog yml file can be found in the [hydromt core docs](https://deltares.github.io/hydromt/latest/user_guide/data.html) "
   ]
  },
  {
   "cell_type": "markdown",
   "id": "12860ed2",
   "metadata": {},
   "source": [
    "### Setup complete delwaq WQ model "
   ]
  },
  {
   "cell_type": "code",
   "execution_count": 5,
   "id": "hundred-trailer",
   "metadata": {
    "execution": {
     "iopub.execute_input": "2022-04-26T12:26:08.664218Z",
     "iopub.status.busy": "2022-04-26T12:26:08.663887Z",
     "iopub.status.idle": "2022-04-26T12:26:12.443806Z",
     "shell.execute_reply": "2022-04-26T12:26:12.443056Z"
    },
    "scrolled": true
   },
   "outputs": [
    {
     "name": "stdout",
     "output_type": "stream",
     "text": [
      "2022-04-26 12:26:10,653 - build - log - DEBUG - Writing log messages to new file /home/runner/work/hydromt_delwaq/hydromt_delwaq/docs/examples/examples/WQ_test_full/hydromt.log.\r\n",
      "2022-04-26 12:26:10,653 - build - log - INFO - HydroMT version: 0.4.5\r\n",
      "2022-04-26 12:26:10,653 - build - main - INFO - Building instance of delwaq model at /home/runner/work/hydromt_delwaq/hydromt_delwaq/docs/examples/examples/WQ_test_full.\r\n",
      "2022-04-26 12:26:10,653 - build - main - INFO - User settings:\r\n",
      "2022-04-26 12:26:10,661 - build - model_plugins - DEBUG - Loaded model plugin 'delwaq = hydromt_delwaq.delwaq.DelwaqModel' (0.1.3.dev0)\r\n",
      "2022-04-26 12:26:10,661 - build - model_api - INFO - Initializing delwaq model from hydromt_delwaq (v0.1.3.dev0).\r\n",
      "2022-04-26 12:26:10,665 - build - model_api - INFO - setup_basemaps.region: {'wflow': 'wflow_piave'}\r\n",
      "2022-04-26 12:26:10,665 - build - model_api - INFO - setup_basemaps.include_soil: False\r\n",
      "2022-04-26 12:26:10,665 - build - model_plugins - DEBUG - Loaded model plugin 'wflow = hydromt_wflow.wflow.WflowModel' (0.1.4)\r\n",
      "2022-04-26 12:26:10,665 - build - model_api - INFO - Initializing wflow model from hydromt_wflow (v0.1.4).\r\n",
      "2022-04-26 12:26:10,665 - build - log - DEBUG - Appending log messages to file /home/runner/work/hydromt_delwaq/hydromt_delwaq/docs/examples/examples/wflow_piave/hydromt.log.\r\n",
      "2022-04-26 12:26:10,666 - build - basin_mask - DEBUG - Parsed region (kind=model): {'mod': <hydromt_wflow.wflow.WflowModel object at 0x7f7fd5fcc9a0>}\r\n",
      "2022-04-26 12:26:10,666 - build - delwaq - INFO - Preparing WQ basemaps from hydromodel.\r\n",
      "2022-04-26 12:26:10,668 - build - model_api - DEBUG - Model config read from /home/runner/work/hydromt_delwaq/hydromt_delwaq/docs/examples/examples/wflow_piave/wflow_sbm.toml\r\n",
      "2022-04-26 12:26:10,668 - build - wflow - INFO - Read staticmaps from /home/runner/work/hydromt_delwaq/hydromt_delwaq/docs/examples/examples/wflow_piave/staticmaps.nc\r\n"
     ]
    },
    {
     "name": "stdout",
     "output_type": "stream",
     "text": [
      "2022-04-26 12:26:11,594 - build - model_api - ERROR - Default config file not found at /usr/share/miniconda/envs/hydromt-delwaq/lib/python3.9/site-packages/hydromt_delwaq/data/delwaq/delwaq.inp\r\n",
      "2022-04-26 12:26:11,594 - build - model_api - INFO - setup_monitoring.mon_points: /home/runner/work/hydromt_delwaq/hydromt_delwaq/docs/examples/examples/wflow_piave/staticgeoms/gauges.geojson\r\n",
      "2022-04-26 12:26:11,594 - build - model_api - INFO - setup_monitoring.mon_areas: compartments\r\n",
      "2022-04-26 12:26:11,594 - build - delwaq - INFO - Setting monitoring points and areas\r\n",
      "2022-04-26 12:26:11,602 - build - data_adapter - INFO - DataCatalog: Getting gauges GeoDataFrame vector data from /home/runner/work/hydromt_delwaq/hydromt_delwaq/docs/examples/examples/wflow_piave/staticgeoms/gauges.geojson\r\n",
      "2022-04-26 12:26:11,603 - build - data_adapter - INFO - GeoDataFrame: Read vector data and clip to geom (epsg:4326) [11.775, 45.808, 12.742, 46.692].\r\n",
      "2022-04-26 12:26:11,621 - build - delwaq - INFO - Gauges locations read from /home/runner/work/hydromt_delwaq/hydromt_delwaq/docs/examples/examples/wflow_piave/staticgeoms/gauges.geojson\r\n",
      "2022-04-26 12:26:11,629 - build - model_api - INFO - setup_hydrology_forcing.hydro_forcing_fn: wflow_output\r\n",
      "2022-04-26 12:26:11,629 - build - model_api - INFO - setup_hydrology_forcing.starttime: 2010-02-03 00:00:00\r\n",
      "2022-04-26 12:26:11,629 - build - model_api - INFO - setup_hydrology_forcing.endtime: 2010-02-10 00:00:00\r\n",
      "2022-04-26 12:26:11,629 - build - model_api - INFO - setup_hydrology_forcing.timestepsecs: 86400\r\n",
      "2022-04-26 12:26:11,629 - build - model_api - INFO - setup_hydrology_forcing.add_volume_offset: True\r\n",
      "2022-04-26 12:26:11,629 - build - model_api - INFO - setup_hydrology_forcing.min_volume: 0.1\r\n",
      "2022-04-26 12:26:11,629 - build - delwaq - INFO - Setting dynamic data from hydrology source wflow_output.\r\n",
      "2022-04-26 12:26:11,632 - build - data_adapter - INFO - DataCatalog: Getting wflow_output RasterDataset netcdf data from /home/runner/work/hydromt_delwaq/hydromt_delwaq/docs/examples/examples/wflow_piave/run_default/output.nc\r\n"
     ]
    },
    {
     "name": "stdout",
     "output_type": "stream",
     "text": [
      "2022-04-26 12:26:11,657 - build - data_adapter - DEBUG - RasterDataset: Clip with geom - [11.775, 45.808, 12.742, 46.692]\r\n"
     ]
    },
    {
     "name": "stdout",
     "output_type": "stream",
     "text": [
      "2022-04-26 12:26:11,733 - build - delwaq - INFO - Write model data to /home/runner/work/hydromt_delwaq/hydromt_delwaq/docs/examples/examples/WQ_test_full\r\n"
     ]
    },
    {
     "name": "stdout",
     "output_type": "stream",
     "text": [
      "2022-04-26 12:26:11,747 - build - delwaq - INFO - Writing staticmap files.\r\n",
      "2022-04-26 12:26:11,759 - build - delwaq - INFO - Writing model staticgeom to file.\r\n"
     ]
    },
    {
     "name": "stdout",
     "output_type": "stream",
     "text": [
      "2022-04-26 12:26:11,786 - build - delwaq - INFO - Writing model config to file.\r\n",
      "2022-04-26 12:26:11,786 - build - delwaq - INFO - Writing hydromap files.\r\n",
      "2022-04-26 12:26:11,821 - build - delwaq - INFO - Writting pointer file in root/config\r\n"
     ]
    },
    {
     "name": "stdout",
     "output_type": "stream",
     "text": [
      "2022-04-26 12:26:11,849 - build - delwaq - INFO - Writing dynamicmap files.\r\n",
      "2022-04-26 12:26:11,849 - build - delwaq - INFO - Writting dynamic data for timestep 1/8\r\n",
      "2022-04-26 12:26:11,868 - build - delwaq - INFO - Writting dynamic data for timestep 2/8\r\n",
      "2022-04-26 12:26:11,886 - build - delwaq - INFO - Writting dynamic data for timestep 3/8\r\n"
     ]
    },
    {
     "name": "stdout",
     "output_type": "stream",
     "text": [
      "2022-04-26 12:26:11,901 - build - delwaq - INFO - Writting dynamic data for timestep 4/8\r\n",
      "2022-04-26 12:26:11,916 - build - delwaq - INFO - Writting dynamic data for timestep 5/8\r\n",
      "2022-04-26 12:26:11,931 - build - delwaq - INFO - Writting dynamic data for timestep 6/8\r\n"
     ]
    },
    {
     "name": "stdout",
     "output_type": "stream",
     "text": [
      "2022-04-26 12:26:11,947 - build - delwaq - INFO - Writting dynamic data for timestep 7/8\r\n",
      "2022-04-26 12:26:11,962 - build - delwaq - INFO - Writting dynamic data for timestep 8/8\r\n",
      "2022-04-26 12:26:11,979 - build - delwaq - INFO - Writting waqgeom.nc file\r\n"
     ]
    },
    {
     "name": "stdout",
     "output_type": "stream",
     "text": [
      "\u001b[0m"
     ]
    }
   ],
   "source": [
    "# NOTE: copy this line (without !) to your shell for more direct feedback\n",
    "!hydromt build delwaq \"./WQ_test_full\" \"{'wflow': 'wflow_piave'}\" -i delwaq_build_WQ.ini -vv"
   ]
  },
  {
   "cell_type": "markdown",
   "id": "b31e92d2",
   "metadata": {},
   "source": [
    "With this example we build a complete delwaq WQ model including hydrological data. Compared to the previous **hydromt build** we have added:\n",
    "* `-i delwaq_build_WQ.ini` : setup configuration file including all components to build and their arguments\n",
    "\n",
    "Note that the `--opt global.mtype=WQ` is not present anymore, as this option is directly set in the delwaq_build_WQ.ini file."
   ]
  },
  {
   "cell_type": "markdown",
   "id": "2eed76e4",
   "metadata": {},
   "source": [
    "Next we check which files and folders have been created:\n",
    "\n",
    "* **config**: basic configuration setups for the Delwaq input file .inp. Names of the ASCII files start with the corresponding block in the .inp file.\n",
    "* **dynamicdata**: Delwaq time-dependant data (hydrological fluxes) in binary format.\n",
    "* **fews**: additional files for connection with Delft-FEWS (not implemented yet)\n",
    "* **hydromodel**: data extracted to connect the hydrological model (wflow) and Delwaq (tif format). These files are not mandatory for Delwaq but produced extra from HydroMT.\n",
    "* **staticdata**: static (spatial but non time-dependant) data for Delwaq (typically emission data) in binary format. A copy of the data in NetCDF format is also available for easier visualization.\n",
    "* **staticgeoms**: related geometry files (geojson format). These files are not mandatory for Delwaq but produced extra from HydroMT."
   ]
  },
  {
   "cell_type": "code",
   "execution_count": 6,
   "id": "wireless-style",
   "metadata": {
    "execution": {
     "iopub.execute_input": "2022-04-26T12:26:12.447405Z",
     "iopub.status.busy": "2022-04-26T12:26:12.446949Z",
     "iopub.status.idle": "2022-04-26T12:26:12.453152Z",
     "shell.execute_reply": "2022-04-26T12:26:12.452616Z"
    }
   },
   "outputs": [
    {
     "name": "stdout",
     "output_type": "stream",
     "text": [
      "WQ_test_full\n",
      " - hydromt.log\n",
      "WQ_test_full/config\n",
      " - B2_sysclock.inc\n",
      " - B5_boundlist.inc\n",
      " - B4_nrofexch.inc\n",
      " - B4_pointer.poi\n",
      " - B2_nrofmon.inc\n",
      " - B1_timestamp.inc\n",
      " - B3_attributes.inc\n",
      " - B2_timers.inc\n",
      " - B2_outputtimes.inc\n",
      " - B2_stations-balance.inc\n",
      " - B2_timers_only.inc\n",
      " - B3_waqgeom.nc\n",
      " - B2_monareas.inc\n",
      " - B3_nrofseg.inc\n",
      " - B2_stations.inc\n",
      " - B4_pointer.inc\n",
      "WQ_test_full/staticdata\n",
      " - staticmaps.nc\n",
      " - river.dat\n",
      " - slope.dat\n",
      " - surface.dat\n",
      " - manning.dat\n",
      " - streamorder.dat\n",
      "WQ_test_full/dynamicdata\n",
      " - flow.dat\n",
      " - volume.dat\n",
      "WQ_test_full/staticgeoms\n",
      " - basins.geojson\n",
      " - monpoints.geojson\n",
      " - monareas.geojson\n",
      "WQ_test_full/fews\n",
      "WQ_test_full/hydromodel\n",
      " - modelmap.tif\n",
      " - ldd.tif\n",
      " - basins.tif\n",
      " - ptiddown.tif\n",
      " - ptid.tif\n",
      " - rivwth.tif\n",
      " - rivlen.tif\n"
     ]
    }
   ],
   "source": [
    "import os\n",
    "root = 'WQ_test_full'\n",
    "for path, _, files in os.walk(root):\n",
    "    print(path)\n",
    "    for name in files:\n",
    "        if name.endswith('.xml'):\n",
    "            continue\n",
    "        print(f' - {name}')"
   ]
  },
  {
   "cell_type": "markdown",
   "id": "e637af06",
   "metadata": {},
   "source": [
    "You can see that we didn't create any emission data here. In some cases, you may require some additional GIS data in order to run a WQ model, for example, when you do not need to run the D-Emissions model beforehand, but include point sources that emit pollutants into the surface water directly. When this is the case, you can still use the various [setup_emission_*] components of hydroMT_delwaq."
   ]
  },
  {
   "cell_type": "markdown",
   "id": "adef7fa1",
   "metadata": {},
   "source": [
    "### Visualize and/or inspect model schematization"
   ]
  },
  {
   "cell_type": "markdown",
   "id": "20ce9df3",
   "metadata": {},
   "source": [
    "* The **delwaq plot** example notebook contains scripts to visualize your model (staticdata, dynamicdata, hydromodel and staticgeoms)."
   ]
  },
  {
   "cell_type": "markdown",
   "id": "852a532e",
   "metadata": {},
   "source": [
    "In the meantime, feel free to have a look at some configuration files that were prepared by HydroMT. You can change the file name from the example code below."
   ]
  },
  {
   "cell_type": "code",
   "execution_count": 7,
   "id": "85841edd",
   "metadata": {
    "execution": {
     "iopub.execute_input": "2022-04-26T12:26:12.455917Z",
     "iopub.status.busy": "2022-04-26T12:26:12.455505Z",
     "iopub.status.idle": "2022-04-26T12:26:12.460577Z",
     "shell.execute_reply": "2022-04-26T12:26:12.460123Z"
    }
   },
   "outputs": [
    {
     "name": "stdout",
     "output_type": "stream",
     "text": [
      "1653 ; nr of segments\n",
      "\n"
     ]
    }
   ],
   "source": [
    "import os\n",
    "model_path = './WQ_test_full'\n",
    "fn_config = 'config/B3_nrofseg.inc'\n",
    "with open(os.path.join(model_path,fn_config), 'r') as f:\n",
    "    txt = f.read()\n",
    "print(txt)"
   ]
  },
  {
   "cell_type": "markdown",
   "id": "71219f0b",
   "metadata": {},
   "source": [
    "In the config folder, you can also see two pointer files:\n",
    "\n",
    "* B4_pointer.poi (Binary version)\n",
    "* B4_pointer.inc (ASCII version)\n",
    "\n",
    "You can also see that a NetCDF file was created: **B3_waqgeom.nc**. This file can be used to produce NetCDF outputs directly when running D-Emissions or D-Water Quality but also to visualize the model in FEWS."
   ]
  }
 ],
 "metadata": {
  "kernelspec": {
   "display_name": "Python 3",
   "language": "python",
   "name": "python3"
  },
  "language_info": {
   "codemirror_mode": {
    "name": "ipython",
    "version": 3
   },
   "file_extension": ".py",
   "mimetype": "text/x-python",
   "name": "python",
   "nbconvert_exporter": "python",
   "pygments_lexer": "ipython3",
   "version": "3.9.12"
  }
 },
 "nbformat": 4,
 "nbformat_minor": 5
}
