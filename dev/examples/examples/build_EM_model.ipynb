{
 "cells": [
  {
   "cell_type": "markdown",
   "id": "9a73590b",
   "metadata": {},
   "source": [
    "## Build a DELWAQ D-Emissions model from scratch"
   ]
  },
  {
   "cell_type": "markdown",
   "id": "ee510c6e",
   "metadata": {},
   "source": [
    "This notebook demonstrates how to prepare **DELWAQ D-Emissions** model from scratch using the command line interace (CLI)."
   ]
  },
  {
   "cell_type": "markdown",
   "id": "6b96aa15",
   "metadata": {},
   "source": [
    "All lines in this notebook which start with `!` are executed from the command line. Within the notebook environment the logging messages are shown after completion. You can also copy these lines and paste these in your shell to get more direct feedback."
   ]
  },
  {
   "cell_type": "markdown",
   "id": "451c8168",
   "metadata": {},
   "source": [
    "### hydroMT CLI build interface"
   ]
  },
  {
   "cell_type": "markdown",
   "id": "2c70853e",
   "metadata": {},
   "source": [
    "In hydroMT, you can interact with **DELWAQ** models either to be used by **D-Emissions (EM)** or **D-Water Quality (WQ)**.\n",
    "\n",
    "Lets first check if the delwaq model is recognized by hydromt"
   ]
  },
  {
   "cell_type": "code",
   "execution_count": 1,
   "id": "40470302",
   "metadata": {
    "execution": {
     "iopub.execute_input": "2021-05-06T15:29:02.848947Z",
     "iopub.status.busy": "2021-05-06T15:29:02.848391Z",
     "iopub.status.idle": "2021-05-06T15:29:05.066174Z",
     "shell.execute_reply": "2021-05-06T15:29:05.066623Z"
    }
   },
   "outputs": [
    {
     "name": "stdout",
     "output_type": "stream",
     "text": [
      "hydroMT model plugins: wflow, wflow_sediment, delwaq\r\n",
      "\u001b[0m"
     ]
    }
   ],
   "source": [
    "# this should return \"delwaq, wflow, wflow_sediment\"\n",
    "!hydromt --models"
   ]
  },
  {
   "cell_type": "markdown",
   "id": "7d9b5a20",
   "metadata": {},
   "source": [
    "Using the **hydromt build** API we can setup a complete model from scratch. Let's get an overview of all the available options:"
   ]
  },
  {
   "cell_type": "code",
   "execution_count": 2,
   "id": "1d39e4a1",
   "metadata": {
    "execution": {
     "iopub.execute_input": "2021-05-06T15:29:05.071291Z",
     "iopub.status.busy": "2021-05-06T15:29:05.070645Z",
     "iopub.status.idle": "2021-05-06T15:29:07.397434Z",
     "shell.execute_reply": "2021-05-06T15:29:07.397884Z"
    }
   },
   "outputs": [
    {
     "name": "stdout",
     "output_type": "stream",
     "text": [
      "Usage: hydromt build [OPTIONS] MODEL MODEL_ROOT REGION\r\n",
      "\r\n",
      "  Build models from source data.\r\n",
      "\r\n",
      "  Example usage:\r\n",
      "  --------------\r\n",
      "\r\n",
      "  To build a wflow model for a subbasin using and point coordinates snapped to cells with stream order >= 4\r\n",
      "  hydromt build wflow /path/to/model_root \"{'subbasin': [-7.24, 62.09], 'strord': 4}\" -i /path/to/wflow_config.ini\r\n",
      "\r\n",
      "  To build a wflow model based on basin ID\r\n",
      "  hydromt build wflow /path/to/model_root \"{'basin': 230001006}\"\r\n",
      "\r\n",
      "  To build a sfincs model based on a bbox (for Texel)\r\n",
      "  hydromt build sfincs /path/to/model_root \"{'bbox': [4.6891,52.9750,4.9576,53.1994]}\"\r\n",
      "\r\n",
      "Options:\r\n",
      "  -r, --res FLOAT             Model resolution in model src.\r\n",
      "  --build-base / --build-all  Deprecated!\r\n",
      "  --opt TEXT                  Component specific keyword arguments, see the\r\n",
      "                              setup_<component> method of the specific model\r\n",
      "                              for more information about the arguments.\r\n",
      "\r\n",
      "  -i, --config PATH           Path to hydroMT configuration file, for the\r\n",
      "                              model specific implementation.\r\n",
      "\r\n",
      "  -d, --data PATH             File path to yml data sources file. See\r\n",
      "                              documentation for required yml file format.\r\n",
      "\r\n",
      "  --dd, --deltares-data       Parse default deltares data yml from\r\n",
      "                              https://github.com/DirkEilander/hydromt-\r\n",
      "                              artifacts/releases\r\n",
      "\r\n",
      "  -q, --quiet                 Decrease verbosity.\r\n",
      "  -v, --verbose               Increase verbosity.\r\n",
      "  --help                      Show this message and exit.\r\n",
      "\u001b[0m"
     ]
    }
   ],
   "source": [
    "!hydromt build --help"
   ]
  },
  {
   "cell_type": "markdown",
   "id": "f286fccb",
   "metadata": {},
   "source": [
    "### Setup delwaq EM model base layers "
   ]
  },
  {
   "cell_type": "markdown",
   "id": "23ffcc07",
   "metadata": {},
   "source": [
    "DELWAQ models are quite specific in the sense that they are usually added on top of an already existing hydrologic / hydraulic or hydrodynamic model.\n",
    "In hydroMT, for now, DELWAQ models (EM for D-Emissions and WQ for D-Water Quality) can only be built on top of [Wflow](https://deltares.github.io/Wflow.jl/stable/) hydrologic models. You can find more information on this coupling in [docs(coupling_wflow)](https://deltares.github.io/hydromt_delwaq/latest/advanced/coupling_wflow.html).\n",
    "\n",
    "Here is how you can build a DELWAQ model:"
   ]
  },
  {
   "cell_type": "code",
   "execution_count": 3,
   "id": "closed-excerpt",
   "metadata": {
    "execution": {
     "iopub.execute_input": "2021-05-06T15:29:07.402509Z",
     "iopub.status.busy": "2021-05-06T15:29:07.401969Z",
     "iopub.status.idle": "2021-05-06T15:29:09.898878Z",
     "shell.execute_reply": "2021-05-06T15:29:09.898053Z"
    }
   },
   "outputs": [
    {
     "name": "stdout",
     "output_type": "stream",
     "text": [
      "2021-05-06 15:29:09,374 - build - log - DEBUG - Writing log messages to new file /home/runner/work/hydromt_delwaq/hydromt_delwaq/docs/examples/examples/EM_test_base/hydromt.log.\r\n",
      "2021-05-06 15:29:09,374 - build - log - INFO - HydroMT version: 0.4.0\r\n",
      "2021-05-06 15:29:09,374 - build - main - INFO - Building instance of delwaq model at /home/runner/work/hydromt_delwaq/hydromt_delwaq/docs/examples/examples/EM_test_base.\r\n",
      "2021-05-06 15:29:09,374 - build - main - INFO - User settings:\r\n",
      "2021-05-06 15:29:09,375 - build - cli_utils - INFO - global.mtype: EM\r\n",
      "2021-05-06 15:29:09,375 - build - model_api - DEBUG - setup_basemaps.region: {'wflow': 'wflow_piave'}\r\n",
      "2021-05-06 15:29:09,375 - build - model_api - DEBUG - setup_basemaps.include_soil: False\r\n",
      "2021-05-06 15:29:09,375 - build - basin_mask - DEBUG - Parsed region (kind=model): {'mod': <hydromt_wflow.wflow.WflowModel object at 0x7f84c0e53880>}\r\n",
      "2021-05-06 15:29:09,376 - build - delwaq - INFO - Preparing EM basemaps from hydromodel.\r\n",
      "2021-05-06 15:29:09,378 - build - model_api - DEBUG - Model config read from /home/runner/work/hydromt_delwaq/hydromt_delwaq/docs/examples/examples/wflow_piave/wflow_sbm.toml\r\n",
      "2021-05-06 15:29:09,379 - build - wflow - INFO - Read staticmaps from /home/runner/work/hydromt_delwaq/hydromt_delwaq/docs/examples/examples/wflow_piave/staticmaps.nc\r\n"
     ]
    },
    {
     "name": "stdout",
     "output_type": "stream",
     "text": [
      "2021-05-06 15:29:09,465 - build - delwaq - INFO - Write model data to /home/runner/work/hydromt_delwaq/hydromt_delwaq/docs/examples/examples/EM_test_base\r\n",
      "2021-05-06 15:29:09,471 - build - delwaq - INFO - Writing staticmap files.\r\n",
      "2021-05-06 15:29:09,478 - build - delwaq - INFO - Writing model config to file.\r\n",
      "2021-05-06 15:29:09,479 - build - delwaq - INFO - Writing hydromap files.\r\n"
     ]
    },
    {
     "name": "stdout",
     "output_type": "stream",
     "text": [
      "2021-05-06 15:29:09,523 - build - delwaq - INFO - Writting geometry file in root/staticdata\r\n",
      "2021-05-06 15:29:09,529 - build - delwaq - WARNING - Warning: no dynamic map, skipping write_dynamicmaps.\r\n",
      "\u001b[0m"
     ]
    }
   ],
   "source": [
    "# NOTE: copy this line (without !) to your shell for more direct feedback\n",
    "!hydromt build delwaq \"./EM_test_base\" \"{'wflow': 'wflow_piave'}\" --opt global.mtype=EM -vvv"
   ]
  },
  {
   "cell_type": "markdown",
   "id": "cb9d0032",
   "metadata": {},
   "source": [
    "The example above means the following: run **hydromt build** with:\n",
    "\n",
    "* `delwaq` : i.e. build a delwaq model\n",
    "* `./EM_test_base` : output model folder\n",
    "* `\"{'wflow': 'wflow_piave'}\"` : derive the model from the existing wflow model located in wflow_piave folder. All *REGION* options are described in the [docs](https://deltares.github.io/hydromt/latest/user_guide/cli.html#region-options). For delwaq, the only possible options is from an existing wflow model.\n",
    "* `-opt global.mtype=EM` : specifies which type of delwaq model to build. Here **EM** for D-Emissions.\n",
    "* `-vv` : give some extra verbosity (2 * v) to display feedback on screen. Now debug messages are provided.\n",
    "\n",
    "NOTE: As we did not specify a model configuration, only the base maps (grid, segment IDs) have been setup using default parameters. To build a complete model we need the use a configuraton ini-file."
   ]
  },
  {
   "cell_type": "markdown",
   "id": "ebd31242",
   "metadata": {},
   "source": [
    "### Model setup configuration"
   ]
  },
  {
   "cell_type": "markdown",
   "id": "fb8282c9",
   "metadata": {},
   "source": [
    "The ini-file contains the model setup configuration and determines which components are build and in which order and optionally sets non-default arguments for each component. This configuration is passed to hydromt using `-i <path_to_ini_file>`. We have prepared several example ini-files which are available in the model repository [examples folder](https://github.com/Deltares/hydromt_delwaq/tree/main/examples) and from the [docs(build_configuration)](https://deltares.github.io/hydromt_delwaq/latest/user_guide/build_configuration.html). \n",
    "\n",
    "Each header as shown between `[...]` (e.g. `[setup_basemaps]`) corresponds to a model component. All model components are explained in the [docs(model_components)](https://deltares.github.io/hydromt_delwaq/latest/user_guide/components.html). "
   ]
  },
  {
   "cell_type": "markdown",
   "id": "cc3fd44d",
   "metadata": {},
   "source": [
    "**Almost each DELWAQ model is unique** depending on which substances and sources are included but also what kind of emission data is available. For these reasons, there is no default build ini file for a delwaq model and still some manual steps required to build and run a D-Emissions model with hydroMT. You can learn more about these steps in the [docs(hydromt_D-Emissions)](https://deltares.github.io/hydromt_delwaq/latest/advanced/generic_delwaq.html#emissions-modelling-with-d-emission).\n",
    "\n",
    "We will load an example delwaq build EM ini file for inspection:"
   ]
  },
  {
   "cell_type": "code",
   "execution_count": 4,
   "id": "e88d4aed",
   "metadata": {
    "execution": {
     "iopub.execute_input": "2021-05-06T15:29:09.903578Z",
     "iopub.status.busy": "2021-05-06T15:29:09.902790Z",
     "iopub.status.idle": "2021-05-06T15:29:09.907745Z",
     "shell.execute_reply": "2021-05-06T15:29:09.908198Z"
    }
   },
   "outputs": [
    {
     "name": "stdout",
     "output_type": "stream",
     "text": [
      "[global]\n",
      "mtype             = EM                    # type of Delwaq model ['EM', 'WQ']\n",
      "data_libs         = []                    # add optional paths to data yml files\n",
      "\n",
      "[setup_basemaps]\n",
      "include_soil      = False                 # add a soil compartment in addition to the surface waters\n",
      "\n",
      "[setup_monitoring]\n",
      "mon_points        = None                  # monitoring points ['None', 'segments', 'path to station location', 'source in DataCatalog']\n",
      "mon_areas         = compartments          # monitoring areas ['None', 'compartments', 'subcatch']\n",
      "\n",
      "[setup_hydrology_forcing]\n",
      "hydro_forcing_fn  = None                  # source name of the hydrological forcing in the yaml file\n",
      "starttime         = 2010-02-03 00:00:00   # start time of the Delwaq run\n",
      "endtime           = 2010-02-10 00:00:00   # end time of the Delwaq run\n",
      "timestepsecs      = 86400                 # model timestep in seconds\n",
      "add_volume_offset = True                  # add a one-timestep offset to the volume data in the hydrological forcing file compared to the flows\n",
      "\n",
      "[setup_emission_raster]\n",
      "emission_fn       = GHS-POP_2015\n",
      "scale_method      = average\n",
      "fillna_method     = zero\n",
      "area_division     = True\n",
      "\n",
      "[setup_emission_raster1]\n",
      "emission_fn       = GHS-SMOD_2015\n",
      "scale_method      = nearest\n",
      "fillna_method     = zero\n",
      "area_division     = False\n",
      "\n",
      "[setup_emission_vector]\n",
      "emission_fn       = GDP_world\n",
      "col2raster        = gdp\n",
      "rasterize_method  = value\n",
      "\n",
      "[setup_emission_mapping]\n",
      "source_name       = None # source name of the mapping vector in the yaml file with corresponding mapping statistics table\n"
     ]
    }
   ],
   "source": [
    "fn_ini = 'delwaq_build_EM.ini'\n",
    "with open(fn_ini, 'r') as f:\n",
    "    txt = f.read()\n",
    "print(txt)"
   ]
  },
  {
   "cell_type": "markdown",
   "id": "e587d6b0",
   "metadata": {},
   "source": [
    "Some explanations for the sections the ini file above:\n",
    "\n",
    "* **global**: options true for every model components of delwaq. This is where you can specify if you want to build an **EM** or **WQ** model using the *mtype* option. You can also add local data libaries in *data_libs* instead of in the command line.\n",
    "* **setup_basemaps**: prepares the first delwaq model layers (grid, segment ID) and for EM also the geometry.\n",
    "* **setup_monitoring**: prepares no monitoring points and monitoring areas by compartments (emissions only here).\n",
    "* **setup_hydrology_forcing**: prepares hydrological data from wflow outputs. Here we skip this step by putting *hydro_forcing_fn=None*.\n",
    "* **setup_emission_raster**: prepares emissions grid from a raster file. You can repeat this section several times for several rasters. Here we will prepare population and urban/rural classification data from the global *GHS-POP_2015* and *GHS-SMOD_2015* data.\n",
    "* **setup_emission_vector**: prepares emissions grid from a vector file. You can repeat this section several times for several rasters. Here we will prepare GDP data from the global *GDP_world* data.\n",
    "* **setup_emission_mapping**: prepares emissions grid from a region vector file (exemple administrative levels) and an associated table with statistics. Here we skip this type of data preparation. \n",
    "\n",
    "For more information on all the options used (resampling method, NaN values handling...), please check the [docs(model_components)](https://deltares.github.io/hydromt_delwaq/latest/user_guide/components.html)"
   ]
  },
  {
   "cell_type": "markdown",
   "id": "7584dcae",
   "metadata": {},
   "source": [
    "### Data for model setup"
   ]
  },
  {
   "cell_type": "markdown",
   "id": "dad35651",
   "metadata": {},
   "source": [
    "The `<...>_fn` arguments correspond to a data source from the `DataCatalog` which is based on a yml-file with references to the data paths/urls and how the data should be read. This file can be provided to hydromt using `-d <path_to_yml_file>`. \n",
    "\n",
    "By default some example data for the Piave basin will be downloaded to `~/.hydromt_data/` which is also used for this example. An overview of the available example data is provided [here](https://deltares.github.io/hydromt/latest/user_guide/data.html#available-global-datasets)\n",
    "This example data is a based on the data which are available from the Deltares p-drive. \n",
    "If you have acces to this drive, a pre-configured catalog file can be loaded using the `--dd` flag. \n",
    "\n",
    "More background how to write a data catalog yml file can be found in the [hydromt core docs](https://deltares.github.io/hydromt/latest/user_guide/data.html) "
   ]
  },
  {
   "cell_type": "markdown",
   "id": "12860ed2",
   "metadata": {},
   "source": [
    "### Setup complete delwaq EM model "
   ]
  },
  {
   "cell_type": "code",
   "execution_count": 5,
   "id": "hundred-trailer",
   "metadata": {
    "execution": {
     "iopub.execute_input": "2021-05-06T15:29:09.914502Z",
     "iopub.status.busy": "2021-05-06T15:29:09.913954Z",
     "iopub.status.idle": "2021-05-06T15:29:13.162054Z",
     "shell.execute_reply": "2021-05-06T15:29:13.162857Z"
    },
    "scrolled": true
   },
   "outputs": [
    {
     "name": "stdout",
     "output_type": "stream",
     "text": [
      "2021-05-06 15:29:11,833 - build - log - DEBUG - Writing log messages to new file /home/runner/work/hydromt_delwaq/hydromt_delwaq/docs/examples/examples/EM_test_full/hydromt.log.\r\n",
      "2021-05-06 15:29:11,833 - build - log - INFO - HydroMT version: 0.4.0\r\n",
      "2021-05-06 15:29:11,833 - build - main - INFO - Building instance of delwaq model at /home/runner/work/hydromt_delwaq/hydromt_delwaq/docs/examples/examples/EM_test_full.\r\n",
      "2021-05-06 15:29:11,833 - build - main - INFO - User settings:\r\n",
      "2021-05-06 15:29:11,834 - build - cli_utils - INFO - global.mtype: EM\r\n",
      "2021-05-06 15:29:11,835 - build - cli_utils - INFO - global.data_libs: []\r\n",
      "2021-05-06 15:29:11,835 - build - cli_utils - INFO - setup_basemaps.include_soil: False\r\n",
      "2021-05-06 15:29:11,835 - build - cli_utils - INFO - setup_monitoring.mon_points: None\r\n",
      "2021-05-06 15:29:11,835 - build - cli_utils - INFO - setup_monitoring.mon_areas: compartments\r\n",
      "2021-05-06 15:29:11,835 - build - cli_utils - INFO - setup_hydrology_forcing.hydro_forcing_fn: None\r\n",
      "2021-05-06 15:29:11,835 - build - cli_utils - INFO - setup_hydrology_forcing.starttime: 2010-02-03 00:00:00\r\n",
      "2021-05-06 15:29:11,835 - build - cli_utils - INFO - setup_hydrology_forcing.endtime: 2010-02-10 00:00:00\r\n",
      "2021-05-06 15:29:11,835 - build - cli_utils - INFO - setup_hydrology_forcing.timestepsecs: 86400\r\n",
      "2021-05-06 15:29:11,835 - build - cli_utils - INFO - setup_hydrology_forcing.add_volume_offset: True\r\n",
      "2021-05-06 15:29:11,835 - build - cli_utils - INFO - setup_emission_raster.emission_fn: GHS-POP_2015\r\n",
      "2021-05-06 15:29:11,835 - build - cli_utils - INFO - setup_emission_raster.scale_method: average\r\n",
      "2021-05-06 15:29:11,835 - build - cli_utils - INFO - setup_emission_raster.fillna_method: zero\r\n",
      "2021-05-06 15:29:11,835 - build - cli_utils - INFO - setup_emission_raster.area_division: True\r\n",
      "2021-05-06 15:29:11,835 - build - cli_utils - INFO - setup_emission_raster1.emission_fn: GHS-SMOD_2015\r\n",
      "2021-05-06 15:29:11,835 - build - cli_utils - INFO - setup_emission_raster1.scale_method: nearest\r\n",
      "2021-05-06 15:29:11,835 - build - cli_utils - INFO - setup_emission_raster1.fillna_method: zero\r\n",
      "2021-05-06 15:29:11,835 - build - cli_utils - INFO - setup_emission_raster1.area_division: False\r\n",
      "2021-05-06 15:29:11,836 - build - cli_utils - INFO - setup_emission_vector.emission_fn: GDP_world\r\n",
      "2021-05-06 15:29:11,836 - build - cli_utils - INFO - setup_emission_vector.col2raster: gdp\r\n",
      "2021-05-06 15:29:11,836 - build - cli_utils - INFO - setup_emission_vector.rasterize_method: value\r\n",
      "2021-05-06 15:29:11,836 - build - cli_utils - INFO - setup_emission_mapping.source_name: None\r\n",
      "2021-05-06 15:29:11,836 - build - model_api - DEBUG - setup_basemaps.region: {'wflow': 'wflow_piave'}\r\n",
      "2021-05-06 15:29:11,836 - build - model_api - DEBUG - setup_basemaps.include_soil: False\r\n",
      "2021-05-06 15:29:11,837 - build - basin_mask - DEBUG - Parsed region (kind=model): {'mod': <hydromt_wflow.wflow.WflowModel object at 0x7fc387235fd0>}\r\n",
      "2021-05-06 15:29:11,837 - build - delwaq - INFO - Preparing EM basemaps from hydromodel.\r\n",
      "2021-05-06 15:29:11,840 - build - model_api - DEBUG - Model config read from /home/runner/work/hydromt_delwaq/hydromt_delwaq/docs/examples/examples/wflow_piave/wflow_sbm.toml\r\n",
      "2021-05-06 15:29:11,840 - build - wflow - INFO - Read staticmaps from /home/runner/work/hydromt_delwaq/hydromt_delwaq/docs/examples/examples/wflow_piave/staticmaps.nc\r\n"
     ]
    },
    {
     "name": "stdout",
     "output_type": "stream",
     "text": [
      "2021-05-06 15:29:11,928 - build - model_api - DEBUG - setup_monitoring.mon_points: None\r\n",
      "2021-05-06 15:29:11,928 - build - model_api - DEBUG - setup_monitoring.mon_areas: compartments\r\n",
      "2021-05-06 15:29:11,928 - build - delwaq - INFO - Setting monitoring points and areas\r\n",
      "2021-05-06 15:29:11,928 - build - delwaq - INFO - No monitoring points set in the config file, skipping\r\n",
      "2021-05-06 15:29:11,956 - build - model_api - DEBUG - setup_hydrology_forcing.hydro_forcing_fn: None\r\n",
      "2021-05-06 15:29:11,956 - build - model_api - DEBUG - setup_hydrology_forcing.starttime: 2010-02-03 00:00:00\r\n",
      "2021-05-06 15:29:11,956 - build - model_api - DEBUG - setup_hydrology_forcing.endtime: 2010-02-10 00:00:00\r\n",
      "2021-05-06 15:29:11,956 - build - model_api - DEBUG - setup_hydrology_forcing.timestepsecs: 86400\r\n",
      "2021-05-06 15:29:11,956 - build - model_api - DEBUG - setup_hydrology_forcing.add_volume_offset: True\r\n",
      "2021-05-06 15:29:11,956 - build - data_adapter - INFO - Updating data sources from yml file /home/runner/.hydromt_data/data/v0.0.2/data_catalog.yml\r\n"
     ]
    },
    {
     "name": "stdout",
     "output_type": "stream",
     "text": [
      "2021-05-06 15:29:12,038 - build - delwaq - WARNING - None or Invalid source 'None', skipping setup_dynamic.\r\n",
      "2021-05-06 15:29:12,038 - build - model_api - DEBUG - setup_emission_raster.emission_fn: GHS-POP_2015\r\n",
      "2021-05-06 15:29:12,038 - build - model_api - DEBUG - setup_emission_raster.scale_method: average\r\n",
      "2021-05-06 15:29:12,038 - build - model_api - DEBUG - setup_emission_raster.fillna_method: zero\r\n",
      "2021-05-06 15:29:12,038 - build - model_api - DEBUG - setup_emission_raster.fillna_value: 0.0\r\n",
      "2021-05-06 15:29:12,038 - build - model_api - DEBUG - setup_emission_raster.area_division: True\r\n",
      "2021-05-06 15:29:12,038 - build - delwaq - INFO - Preparing 'GHS-POP_2015' map.\r\n",
      "2021-05-06 15:29:12,049 - build - data_adapter - INFO - DataCatalog: Getting GHS-POP_2015 RasterDataset raster data from /home/runner/.hydromt_data/data/v0.0.2/GHS-POP_2015.tif\r\n"
     ]
    },
    {
     "name": "stdout",
     "output_type": "stream",
     "text": [
      "2021-05-06 15:29:12,078 - build - data_adapter - DEBUG - RasterDataset: Clip with geom - [11.775, 45.808, 12.742, 46.692]\r\n",
      "2021-05-06 15:29:12,118 - build - emissions - INFO - Deriving None using average resampling (nodata=-200.0).\r\n"
     ]
    },
    {
     "name": "stdout",
     "output_type": "stream",
     "text": [
      "2021-05-06 15:29:12,153 - build - model_api - DEBUG - setup_emission_raster.emission_fn: GHS-SMOD_2015\r\n",
      "2021-05-06 15:29:12,153 - build - model_api - DEBUG - setup_emission_raster.scale_method: nearest\r\n",
      "2021-05-06 15:29:12,153 - build - model_api - DEBUG - setup_emission_raster.fillna_method: zero\r\n",
      "2021-05-06 15:29:12,154 - build - model_api - DEBUG - setup_emission_raster.fillna_value: 0.0\r\n",
      "2021-05-06 15:29:12,154 - build - model_api - DEBUG - setup_emission_raster.area_division: False\r\n",
      "2021-05-06 15:29:12,154 - build - delwaq - INFO - Preparing 'GHS-SMOD_2015' map.\r\n",
      "2021-05-06 15:29:12,164 - build - data_adapter - INFO - DataCatalog: Getting GHS-SMOD_2015 RasterDataset raster data from /home/runner/.hydromt_data/data/v0.0.2/GHS-SMOD_2015.tif\r\n"
     ]
    },
    {
     "name": "stdout",
     "output_type": "stream",
     "text": [
      "nodata value missing for /home/runner/.hydromt_data/data/v0.0.2/GHS-SMOD_2015.tif\r\n",
      "2021-05-06 15:29:12,193 - build - data_adapter - DEBUG - RasterDataset: Clip with geom - [11.775, 45.808, 12.742, 46.692]\r\n"
     ]
    },
    {
     "name": "stdout",
     "output_type": "stream",
     "text": [
      "2021-05-06 15:29:12,240 - build - emissions - INFO - Deriving GHS-SMOD_2015 using nearest resampling (nodata=None).\r\n",
      "2021-05-06 15:29:12,273 - build - model_api - DEBUG - setup_emission_vector.emission_fn: GDP_world\r\n",
      "2021-05-06 15:29:12,273 - build - model_api - DEBUG - setup_emission_vector.col2raster: gdp\r\n",
      "2021-05-06 15:29:12,273 - build - model_api - DEBUG - setup_emission_vector.rasterize_method: value\r\n",
      "2021-05-06 15:29:12,273 - build - delwaq - INFO - Preparing 'GDP_world' map.\r\n"
     ]
    },
    {
     "name": "stdout",
     "output_type": "stream",
     "text": [
      "2021-05-06 15:29:12,300 - build - data_adapter - INFO - DataCatalog: Getting GDP_world GeoDataFrame vector data from /home/runner/.hydromt_data/data/v0.0.2/GDP_world.gpkg\r\n"
     ]
    },
    {
     "name": "stdout",
     "output_type": "stream",
     "text": [
      "2021-05-06 15:29:12,449 - build - data_adapter - DEBUG - GeoDataFrame: Convert units for 1 columns.\r\n"
     ]
    },
    {
     "name": "stdout",
     "output_type": "stream",
     "text": [
      "2021-05-06 15:29:12,539 - build - model_api - DEBUG - setup_emission_mapping.source_name: None\r\n",
      "2021-05-06 15:29:12,539 - build - delwaq - WARNING - Source name set to None, skipping setup_emission_mapping.\r\n",
      "2021-05-06 15:29:12,539 - build - delwaq - INFO - Write model data to /home/runner/work/hydromt_delwaq/hydromt_delwaq/docs/examples/examples/EM_test_full\r\n"
     ]
    },
    {
     "name": "stdout",
     "output_type": "stream",
     "text": [
      "2021-05-06 15:29:12,556 - build - delwaq - INFO - Writing staticmap files.\r\n"
     ]
    },
    {
     "name": "stdout",
     "output_type": "stream",
     "text": [
      "2021-05-06 15:29:12,675 - build - delwaq - INFO - Writing model staticgeom to file.\r\n"
     ]
    },
    {
     "name": "stdout",
     "output_type": "stream",
     "text": [
      "2021-05-06 15:29:12,697 - build - delwaq - INFO - Writing model config to file.\r\n",
      "2021-05-06 15:29:12,697 - build - delwaq - INFO - Writing hydromap files.\r\n",
      "2021-05-06 15:29:12,740 - build - delwaq - INFO - Writting geometry file in root/staticdata\r\n"
     ]
    },
    {
     "name": "stdout",
     "output_type": "stream",
     "text": [
      "2021-05-06 15:29:12,749 - build - delwaq - WARNING - Warning: no dynamic map, skipping write_dynamicmaps.\r\n",
      "\u001b[0m"
     ]
    }
   ],
   "source": [
    "# NOTE: copy this line (without !) to your shell for more direct feedback\n",
    "!hydromt build delwaq \"./EM_test_full\" \"{'wflow': 'wflow_piave'}\" -i delwaq_build_EM.ini -vv"
   ]
  },
  {
   "cell_type": "markdown",
   "id": "b31e92d2",
   "metadata": {},
   "source": [
    "With this example we build a complete delwaq EM model including emission data. Compared to the previous **hydromt build** we have added:\n",
    "* `-i delwaq_build_EM.ini` : setup configuration file including all components to build and their arguments\n",
    "\n",
    "Note that the `--opt global.mtype=EM` is not present anymore, as this option is directly set in the delwaq_build_EM.ini file."
   ]
  },
  {
   "cell_type": "markdown",
   "id": "2eed76e4",
   "metadata": {},
   "source": [
    "Next we check which files and folders have been created:\n",
    "\n",
    "* **config**: basic configuration setups for the Delwaq input file .inp. Names of the ASCII files start with the corresponding block in the .inp file.\n",
    "* **dynamicdata**: Delwaq time-dependant data (hydrological fluxes) in binary format.\n",
    "* **fews**: additional files for connection with Delft-FEWS (not implemented yet)\n",
    "* **hydromodel**: data extracted to connect the hydrological model (wflow) and Delwaq (tif format). These files are not mandatory for DELWAQ but produced extra from HydroMT.\n",
    "* **staticdata**: static (spatial but non time-dependant) data for Delwaq (typically emission data) in binary format. A copy of the data in NetCDF format is also available for easier visualization.\n",
    "* **staticgeoms**: related geometry files (geojson format). These files are not mandatory for DELWAQ but produced extra from HydroMT."
   ]
  },
  {
   "cell_type": "code",
   "execution_count": 6,
   "id": "wireless-style",
   "metadata": {
    "execution": {
     "iopub.execute_input": "2021-05-06T15:29:13.168498Z",
     "iopub.status.busy": "2021-05-06T15:29:13.167080Z",
     "iopub.status.idle": "2021-05-06T15:29:13.174135Z",
     "shell.execute_reply": "2021-05-06T15:29:13.174592Z"
    }
   },
   "outputs": [
    {
     "name": "stdout",
     "output_type": "stream",
     "text": [
      "EM_test_full\n",
      " - hydromt.log\n",
      "EM_test_full/fews\n",
      "EM_test_full/dynamicdata\n",
      "EM_test_full/staticgeoms\n",
      " - monareas.geojson\n",
      " - basins.geojson\n",
      "EM_test_full/staticdata\n",
      " - GHS-POP_2015.dat\n",
      " - staticmaps.nc\n",
      " - GHS-SMOD_2015.dat\n",
      " - slope.dat\n",
      " - streamorder.dat\n",
      " - GDP_world.dat\n",
      "EM_test_full/hydromodel\n",
      " - rivwth.tif\n",
      " - ldd.tif\n",
      " - ptid.tif\n",
      " - basins.tif\n",
      " - modelmap.tif\n",
      " - rivlen.tif\n",
      "EM_test_full/config\n",
      " - B4_nrofexch.inc\n",
      " - B2_nrofmon.inc\n",
      " - B2_stations.inc\n",
      " - B5_boundlist.inc\n",
      " - B7_geometry-parameters.inc\n",
      " - B2_monareas.inc\n",
      " - B7_geometry.inc\n",
      " - B3_attributes.inc\n",
      " - B7_geometry.bin\n",
      " - B3_nrofseg.inc\n"
     ]
    }
   ],
   "source": [
    "import os\n",
    "root = 'EM_test_full'\n",
    "for path, _, files in os.walk(root):\n",
    "    print(path)\n",
    "    for name in files:\n",
    "        if name.endswith('.xml'):\n",
    "            continue\n",
    "        print(f' - {name}')"
   ]
  },
  {
   "cell_type": "markdown",
   "id": "fb7e4d44",
   "metadata": {},
   "source": [
    "You can see that the dynamicdata folder (hydrological input) does not contain any file yet. We will add them in the **update forcing** example notebook."
   ]
  },
  {
   "cell_type": "markdown",
   "id": "adef7fa1",
   "metadata": {},
   "source": [
    "### Visualize and/or inspect model schematization"
   ]
  },
  {
   "cell_type": "markdown",
   "id": "20ce9df3",
   "metadata": {},
   "source": [
    "* The **delwaq plot** example notebook contains scripts to visualize your model (staticdata, dynamicdata, hydromodel and staticgeoms)."
   ]
  },
  {
   "cell_type": "markdown",
   "id": "3b222239",
   "metadata": {},
   "source": [
    "In the meantime, feel free to have a look at some configuration files that were prepared by HydroMT. You can change the file name from the example code below."
   ]
  },
  {
   "cell_type": "code",
   "execution_count": 7,
   "id": "d7143eca",
   "metadata": {
    "execution": {
     "iopub.execute_input": "2021-05-06T15:29:13.179278Z",
     "iopub.status.busy": "2021-05-06T15:29:13.178191Z",
     "iopub.status.idle": "2021-05-06T15:29:13.182118Z",
     "shell.execute_reply": "2021-05-06T15:29:13.182560Z"
    }
   },
   "outputs": [
    {
     "name": "stdout",
     "output_type": "stream",
     "text": [
      "1653 ; nr of segments\n",
      "\n"
     ]
    }
   ],
   "source": [
    "import os\n",
    "model_path = './EM_test_full'\n",
    "fn_config = 'config/B3_nrofseg.inc'\n",
    "with open(os.path.join(model_path,fn_config), 'r') as f:\n",
    "    txt = f.read()\n",
    "print(txt)"
   ]
  },
  {
   "cell_type": "markdown",
   "id": "3e75fb9b",
   "metadata": {},
   "source": [
    "In the config folder, you can also see three geometry files:\n",
    "\n",
    "* B7_geometry-parameters.inc (Headers for the binary version)\n",
    "* B7_geometry.bin (Binary version)\n",
    "* B7_geometry.inc (ASCII version)\n",
    "\n",
    "These files are specific for the D-Emissions plugin and specifies geometry properties of the D-Emissions segments.\n",
    "These properties are:\n",
    "\n",
    "* Segment area (m2)\n",
    "* Fraction of the segment area that is paved\n",
    "* Fraction of the segment area that is unpaved\n",
    "* Fraction of the segment area that is open water"
   ]
  },
  {
   "cell_type": "code",
   "execution_count": 8,
   "id": "1923e640",
   "metadata": {
    "execution": {
     "iopub.execute_input": "2021-05-06T15:29:13.186552Z",
     "iopub.status.busy": "2021-05-06T15:29:13.185999Z",
     "iopub.status.idle": "2021-05-06T15:29:13.190112Z",
     "shell.execute_reply": "2021-05-06T15:29:13.189641Z"
    }
   },
   "outputs": [
    {
     "name": "stdout",
     "output_type": "stream",
     "text": [
      "PARAMETERS TotArea fPaved fUnpaved fOpenWater\n",
      "\n"
     ]
    }
   ],
   "source": [
    "import os\n",
    "model_path = './EM_test_full'\n",
    "fn_config = 'config/B7_geometry-parameters.inc'\n",
    "with open(os.path.join(model_path,fn_config), 'r') as f:\n",
    "    txt = f.read()\n",
    "print(txt)"
   ]
  }
 ],
 "metadata": {
  "kernelspec": {
   "display_name": "Python 3",
   "language": "python",
   "name": "python3"
  },
  "language_info": {
   "codemirror_mode": {
    "name": "ipython",
    "version": 3
   },
   "file_extension": ".py",
   "mimetype": "text/x-python",
   "name": "python",
   "nbconvert_exporter": "python",
   "pygments_lexer": "ipython3",
   "version": "3.9.2"
  }
 },
 "nbformat": 4,
 "nbformat_minor": 5
}
